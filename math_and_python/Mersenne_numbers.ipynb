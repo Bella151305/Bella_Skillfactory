{
 "cells": [
  {
   "cell_type": "code",
   "execution_count": 1,
   "metadata": {},
   "outputs": [],
   "source": [
    "import math\n",
    "import random\n",
    "\n",
    "\n",
    "# Checking the Mersenne number for simplicity\n",
    "\n",
    "def mersen_n_check(a):\n",
    "\n",
    "  # To check the number a for simplicity, you need:\n",
    "  # to find the square root of a\n",
    "  n_new = math.ceil(math.sqrt(a))\n",
    "  \n",
    "  # to divide a by the all prime numbers from 2 to √a\n",
    "  prime_n_list = get_n_prime_numbers(n_new) # the all prime numbers from 2 to √a\n",
    "  \n",
    "  devisor = 0\n",
    "  for el in prime_n_list:\n",
    "    if a%el==0:\n",
    "      devisor = el\n",
    "      print('Number {} is complex: it is divided without remainder at least by {}'.format(a, devisor))\n",
    "      break\n",
    "  \n",
    "  if devisor == 0:\n",
    "    print('Number {} is prime'.format(a))\n",
    "\n",
    "\n",
    "# Get a list of primes up to n (Sieve of Eratosthenes)\n",
    "\n",
    "def get_n_prime_numbers(n):\n",
    "\n",
    "  numbers_list = [d for d in range(2, n+1)] # list of all numbers from 2 to n\n",
    "  prime_numbers = []\n",
    "\n",
    "  while len(numbers_list) > 0: # \n",
    "    m = numbers_list[0] # take the first number in the list\n",
    "    numbers_list = [d for d in numbers_list if d%m != 0] # check it for a divisor for other numbers and leave in the list only those that are not divisible\n",
    "    prime_numbers.append(m) # add the divisor to the list of prime numbers\n",
    "\n",
    "  return prime_numbers"
   ]
  },
  {
   "cell_type": "code",
   "execution_count": 2,
   "metadata": {},
   "outputs": [
    {
     "name": "stdout",
     "output_type": "stream",
     "text": [
      "The list of primes up to 100 contains 25 elements\n",
      "The list of Mersenne numbers contains 25 elements\n",
      "Minimum length of the Mersenne number - 1\n",
      "Maximum length of the Mersenne number - 30\n"
     ]
    }
   ],
   "source": [
    "n = 100\n",
    "\n",
    "prime_numbers_100 = get_n_prime_numbers(n) # Get a list of primes up to n\n",
    "print('The list of primes up to {} contains {} elements'.format(n, len(prime_numbers_100)))\n",
    "\n",
    "mersen_numbers_100 = [(2**x - 1) for x in prime_numbers_100] # get the Mersenne numbers\n",
    "print('The list of Mersenne numbers contains {} elements'.format(len(mersen_numbers_100)))\n",
    "print('Minimum length of the Mersenne number - {}'.format(min(set([len(str(x)) for x in mersen_numbers_100]))))\n",
    "print('Maximum length of the Mersenne number - {}'.format(max(set([len(str(x)) for x in mersen_numbers_100]))))"
   ]
  },
  {
   "cell_type": "code",
   "execution_count": 3,
   "metadata": {},
   "outputs": [
    {
     "name": "stdout",
     "output_type": "stream",
     "text": [
      "Checking the Mersenne number 8191 for simplicity\n",
      "Number 8191 is prime\n"
     ]
    }
   ],
   "source": [
    "# Checking the Mersenne number for simplicity\n",
    "\n",
    "# Cut off already known primes\n",
    "# a = min(set(mersen_numbers_100).difference(set(prime_numbers_100)))\n",
    "\n",
    "# Cut off already known primes and large numbers\n",
    "mersen_numbers_short  = [x for x in set(mersen_numbers_100).difference(set(prime_numbers_100)) if len(str(x)) <= 5]\n",
    "a = random.sample(mersen_numbers_short, 1)[0]\n",
    "\n",
    "print('Checking the Mersenne number {} for simplicity'.format(a))\n",
    "\n",
    "mersen_n_check(a)"
   ]
  },
  {
   "cell_type": "code",
   "execution_count": null,
   "metadata": {},
   "outputs": [],
   "source": []
  }
 ],
 "metadata": {
  "kernelspec": {
   "display_name": "Python 3",
   "language": "python",
   "name": "python3"
  },
  "language_info": {
   "codemirror_mode": {
    "name": "ipython",
    "version": 3
   },
   "file_extension": ".py",
   "mimetype": "text/x-python",
   "name": "python",
   "nbconvert_exporter": "python",
   "pygments_lexer": "ipython3",
   "version": "3.7.6"
  }
 },
 "nbformat": 4,
 "nbformat_minor": 4
}
