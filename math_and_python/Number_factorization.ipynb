{
 "cells": [
  {
   "cell_type": "code",
   "execution_count": 4,
   "metadata": {},
   "outputs": [],
   "source": [
    "# Number factorization (Sieve of Eratosthenes)\n",
    "\n",
    "import math\n",
    "import collections\n",
    "\n",
    "\n",
    "# get a dictionary of prime factors and their degrees\n",
    "def get_factors(n):\n",
    "\n",
    "  n_prime_numbers = get_n_prime_numbers(n) # get a list of primes up to n (Sieve of Eratosthenes)\n",
    "\n",
    "  if n in n_prime_numbers: # check if n is a prime number\n",
    "    return print(''.join([str(n), ' - a prime number']))\n",
    "\n",
    "  else:\n",
    "    print('No divisor of a number, other than itself, can be greater than its half\\nTherefore, we will check up to {} without repetitions'.format(math.ceil(int(abs(n))/2)))\n",
    "    prime_numbers_part = [d for d in n_prime_numbers if d <= math.ceil(abs(n)/2)] # semimax divisor\n",
    "    print(prime_numbers_part, end='\\n\\n')\n",
    "\n",
    "    factors_list = []\n",
    "    factors_list, divisor = get_factors_list(n, prime_numbers_part, factors_list) # get a list of prime factors\n",
    "\n",
    "    factors_dict = collections.Counter() # get a dictionary of prime factors and their degrees\n",
    "    for f in factors_list:\n",
    "      factors_dict[f]+=1\n",
    "\n",
    "    m = 1\n",
    "    for k in factors_dict.keys():\n",
    "      print('Factor {} of the {} degree'.format(k, factors_dict[k]))\n",
    "      m *= int(k)**int(factors_dict[k]) # check the correctness of the decomposition\n",
    "    print('There are no undecomposed divisors left:', divisor==0)\n",
    "    print('Decomposition check: {} = {} - {}'.format(n, m, n==m))\n",
    "\n",
    "    return factors_dict\n",
    "\n",
    "\n",
    "# get a list of primes up to n (Sieve of Eratosthenes)\n",
    "def get_n_prime_numbers(n):\n",
    "\n",
    "  numbers_list = [d for d in range(2, n+1)] # list of all numbers from 2 to n\n",
    "  prime_numbers = []\n",
    "\n",
    "  while len(numbers_list) > 0: # \n",
    "    m = numbers_list[0] # take the first number in the list\n",
    "    numbers_list = [d for d in numbers_list if d%m != 0] # check it for a divisor for other numbers and leave in the list only those that are not divisible\n",
    "    prime_numbers.append(m) # adding a divisor to the list of prime numbers\n",
    "\n",
    "  return prime_numbers\n",
    "\n",
    "\n",
    "# get a list of prime factors\n",
    "def get_factors_list(n, prime_numbers_part, factors_list):\n",
    "  \n",
    "  for pn in prime_numbers_part:\n",
    "    divisor = 0\n",
    "    if n%pn==0: # look for the first prime number that is a factor of n and add it to the list of factors\n",
    "      factors_list.append(pn)\n",
    "      if int(n/pn) in prime_numbers_part: # if the result of the division is a prime number, add it to the list of factors\n",
    "        factors_list.append(int(n/pn))\n",
    "      else:\n",
    "        divisor = int(n/pn)\n",
    "      break\n",
    "\n",
    "  if divisor > 0: # if the result of division is not a prime number, repeat the decomposition procedure (instead of n, we take divisor)\n",
    "    factors_list, divisor = get_factors_list(divisor, prime_numbers_part, factors_list)\n",
    "\n",
    "  return factors_list, divisor"
   ]
  },
  {
   "cell_type": "code",
   "execution_count": 7,
   "metadata": {},
   "outputs": [
    {
     "name": "stdout",
     "output_type": "stream",
     "text": [
      "No divisor of a number, other than itself, can be greater than its half\n",
      "Therefore, we will check up to 27 without repetitions\n",
      "[2, 3, 5, 7, 11, 13, 17, 19, 23]\n",
      "\n",
      "Factor 2 of the 1 degree\n",
      "Factor 3 of the 3 degree\n",
      "There are no undecomposed divisors left: True\n",
      "Decomposition check: 54 = 54 - True\n"
     ]
    }
   ],
   "source": [
    "prime_numbers_100 = [2, 3, 5, 7, 11, 13, 17, 19, 23, 29, 31, 37, 41, 43, 47, 53, 59, 61, 67, 71, 73, 79, 83, 89, 97]\n",
    "\n",
    "n = 54\n",
    "\n",
    "factors_dict = get_factors(n)"
   ]
  },
  {
   "cell_type": "code",
   "execution_count": null,
   "metadata": {},
   "outputs": [],
   "source": []
  }
 ],
 "metadata": {
  "kernelspec": {
   "display_name": "Python 3",
   "language": "python",
   "name": "python3"
  },
  "language_info": {
   "codemirror_mode": {
    "name": "ipython",
    "version": 3
   },
   "file_extension": ".py",
   "mimetype": "text/x-python",
   "name": "python",
   "nbconvert_exporter": "python",
   "pygments_lexer": "ipython3",
   "version": "3.7.6"
  }
 },
 "nbformat": 4,
 "nbformat_minor": 4
}
