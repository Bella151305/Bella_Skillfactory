{
 "cells": [
  {
   "cell_type": "markdown",
   "metadata": {},
   "source": [
    "![](https://www.pata.org/wp-content/uploads/2014/09/TripAdvisor_Logo-300x119.png)\n",
    "# Predict TripAdvisor Rating\n",
    "## В этом соревновании нам предстоит предсказать рейтинг ресторана в TripAdvisor\n",
    "**По ходу задачи:**\n",
    "* Прокачаем работу с pandas\n",
    "* Научимся работать с Kaggle Notebooks\n",
    "* Поймем как делать предобработку различных данных\n",
    "* Научимся работать с пропущенными данными (Nan)\n",
    "* Познакомимся с различными видами кодирования признаков\n",
    "* Немного попробуем [Feature Engineering](https://ru.wikipedia.org/wiki/Конструирование_признаков) (генерировать новые признаки)\n",
    "* И совсем немного затронем ML\n",
    "* И многое другое...   \n",
    "\n",
    "\n",
    "\n",
    "### И самое важное, все это вы сможете сделать самостоятельно!\n",
    "\n",
    "*Этот Ноутбук являетсся Примером/Шаблоном к этому соревнованию (Baseline) и не служит готовым решением!*   \n",
    "Вы можете использовать его как основу для построения своего решения.\n",
    "\n",
    "> что такое baseline решение, зачем оно нужно и почему предоставлять baseline к соревнованию стало важным стандартом на kaggle и других площадках.   \n",
    "**baseline** создается больше как шаблон, где можно посмотреть как происходит обращение с входящими данными и что нужно получить на выходе. При этом МЛ начинка может быть достаточно простой, просто для примера. Это помогает быстрее приступить к самому МЛ, а не тратить ценное время на чисто инженерные задачи. \n",
    "Также baseline являеться хорошей опорной точкой по метрике. Если твое решение хуже baseline - ты явно делаешь что-то не то и стоит попробовать другой путь) \n",
    "\n",
    "В контексте нашего соревнования baseline идет с небольшими примерами того, что можно делать с данными, и с инструкцией, что делать дальше, чтобы улучшить результат.  Вообще готовым решением это сложно назвать, так как используются всего 2 самых простых признака (а остальные исключаются)."
   ]
  },
  {
   "cell_type": "markdown",
   "metadata": {},
   "source": [
    "# import"
   ]
  },
  {
   "cell_type": "code",
   "execution_count": 1,
   "metadata": {
    "_cell_guid": "b1076dfc-b9ad-4769-8c92-a6c4dae69d19",
    "_uuid": "8f2839f25d086af736a60e9eeb907d3b93b6e0e5"
   },
   "outputs": [
    {
     "name": "stdout",
     "output_type": "stream",
     "text": [
      "/kaggle/input/sf-dst-restaurant-rating/kaggle_task.csv\n",
      "/kaggle/input/sf-dst-restaurant-rating/main_task.csv\n",
      "/kaggle/input/sf-dst-restaurant-rating/sample_submission.csv\n"
     ]
    }
   ],
   "source": [
    "# This Python 3 environment comes with many helpful analytics libraries installed\n",
    "# It is defined by the kaggle/python docker image: https://github.com/kaggle/docker-python\n",
    "# For example, here's several helpful packages to load in \n",
    "\n",
    "import numpy as np # linear algebra\n",
    "import pandas as pd # data processing, CSV file I/O (e.g. pd.read_csv)\n",
    "\n",
    "import matplotlib.pyplot as plt\n",
    "import seaborn as sns \n",
    "%matplotlib inline\n",
    "\n",
    "# Загружаем специальный удобный инструмент для разделения датасета:\n",
    "from sklearn.model_selection import train_test_split\n",
    "\n",
    "# Input data files are available in the \"../input/\" directory.\n",
    "# For example, running this (by clicking run or pressing Shift+Enter) will list all files under the input directory\n",
    "\n",
    "import os\n",
    "for dirname, _, filenames in os.walk('/kaggle/input'):\n",
    "    for filename in filenames:\n",
    "        print(os.path.join(dirname, filename))\n",
    "\n",
    "# Any results you write to the current directory are saved as output."
   ]
  },
  {
   "cell_type": "code",
   "execution_count": 2,
   "metadata": {},
   "outputs": [],
   "source": [
    "from datetime import datetime"
   ]
  },
  {
   "cell_type": "code",
   "execution_count": 3,
   "metadata": {},
   "outputs": [
    {
     "data": {
      "text/plain": [
       "Timestamp('2020-10-07 00:00:00')"
      ]
     },
     "execution_count": 3,
     "metadata": {},
     "output_type": "execute_result"
    }
   ],
   "source": [
    "# всегда фиксируйте RANDOM_SEED, чтобы ваши эксперименты были воспроизводимы!\n",
    "RANDOM_SEED = 42\n",
    "CURRENT_DATE = pd.to_datetime('10/07/2020')\n",
    "CURRENT_DATE"
   ]
  },
  {
   "cell_type": "code",
   "execution_count": 4,
   "metadata": {},
   "outputs": [],
   "source": [
    "# зафиксируем версию пакетов, чтобы эксперименты были воспроизводимы:\n",
    "!pip freeze > requirements.txt"
   ]
  },
  {
   "cell_type": "markdown",
   "metadata": {},
   "source": [
    "# DATA"
   ]
  },
  {
   "cell_type": "code",
   "execution_count": 5,
   "metadata": {
    "_cell_guid": "79c7e3d0-c299-4dcb-8224-4455121ee9b0",
    "_uuid": "d629ff2d2480ee46fbb7e2d37f6b5fab8052498a"
   },
   "outputs": [],
   "source": [
    "DATA_DIR = '/kaggle/input/sf-dst-restaurant-rating/'\n",
    "df_train = pd.read_csv(DATA_DIR+'/main_task.csv')\n",
    "df_test = pd.read_csv(DATA_DIR+'kaggle_task.csv')\n",
    "sample_submission = pd.read_csv(DATA_DIR+'/sample_submission.csv')"
   ]
  },
  {
   "cell_type": "code",
   "execution_count": 6,
   "metadata": {},
   "outputs": [
    {
     "name": "stdout",
     "output_type": "stream",
     "text": [
      "<class 'pandas.core.frame.DataFrame'>\n",
      "RangeIndex: 40000 entries, 0 to 39999\n",
      "Data columns (total 10 columns):\n",
      "Restaurant_id        40000 non-null object\n",
      "City                 40000 non-null object\n",
      "Cuisine Style        30717 non-null object\n",
      "Ranking              40000 non-null float64\n",
      "Rating               40000 non-null float64\n",
      "Price Range          26114 non-null object\n",
      "Number of Reviews    37457 non-null float64\n",
      "Reviews              40000 non-null object\n",
      "URL_TA               40000 non-null object\n",
      "ID_TA                40000 non-null object\n",
      "dtypes: float64(3), object(7)\n",
      "memory usage: 3.1+ MB\n"
     ]
    }
   ],
   "source": [
    "df_train.info()"
   ]
  },
  {
   "cell_type": "code",
   "execution_count": 7,
   "metadata": {},
   "outputs": [
    {
     "data": {
      "text/html": [
       "<div>\n",
       "<style scoped>\n",
       "    .dataframe tbody tr th:only-of-type {\n",
       "        vertical-align: middle;\n",
       "    }\n",
       "\n",
       "    .dataframe tbody tr th {\n",
       "        vertical-align: top;\n",
       "    }\n",
       "\n",
       "    .dataframe thead th {\n",
       "        text-align: right;\n",
       "    }\n",
       "</style>\n",
       "<table border=\"1\" class=\"dataframe\">\n",
       "  <thead>\n",
       "    <tr style=\"text-align: right;\">\n",
       "      <th></th>\n",
       "      <th>Restaurant_id</th>\n",
       "      <th>City</th>\n",
       "      <th>Cuisine Style</th>\n",
       "      <th>Ranking</th>\n",
       "      <th>Rating</th>\n",
       "      <th>Price Range</th>\n",
       "      <th>Number of Reviews</th>\n",
       "      <th>Reviews</th>\n",
       "      <th>URL_TA</th>\n",
       "      <th>ID_TA</th>\n",
       "    </tr>\n",
       "  </thead>\n",
       "  <tbody>\n",
       "    <tr>\n",
       "      <th>0</th>\n",
       "      <td>id_5569</td>\n",
       "      <td>Paris</td>\n",
       "      <td>['European', 'French', 'International']</td>\n",
       "      <td>5570.0</td>\n",
       "      <td>3.5</td>\n",
       "      <td>$$ - $$$</td>\n",
       "      <td>194.0</td>\n",
       "      <td>[['Good food at your doorstep', 'A good hotel ...</td>\n",
       "      <td>/Restaurant_Review-g187147-d1912643-Reviews-R_...</td>\n",
       "      <td>d1912643</td>\n",
       "    </tr>\n",
       "    <tr>\n",
       "      <th>1</th>\n",
       "      <td>id_1535</td>\n",
       "      <td>Stockholm</td>\n",
       "      <td>NaN</td>\n",
       "      <td>1537.0</td>\n",
       "      <td>4.0</td>\n",
       "      <td>NaN</td>\n",
       "      <td>10.0</td>\n",
       "      <td>[['Unique cuisine', 'Delicious Nepalese food']...</td>\n",
       "      <td>/Restaurant_Review-g189852-d7992032-Reviews-Bu...</td>\n",
       "      <td>d7992032</td>\n",
       "    </tr>\n",
       "    <tr>\n",
       "      <th>2</th>\n",
       "      <td>id_352</td>\n",
       "      <td>London</td>\n",
       "      <td>['Japanese', 'Sushi', 'Asian', 'Grill', 'Veget...</td>\n",
       "      <td>353.0</td>\n",
       "      <td>4.5</td>\n",
       "      <td>$$$$</td>\n",
       "      <td>688.0</td>\n",
       "      <td>[['Catch up with friends', 'Not exceptional'],...</td>\n",
       "      <td>/Restaurant_Review-g186338-d8632781-Reviews-RO...</td>\n",
       "      <td>d8632781</td>\n",
       "    </tr>\n",
       "    <tr>\n",
       "      <th>3</th>\n",
       "      <td>id_3456</td>\n",
       "      <td>Berlin</td>\n",
       "      <td>NaN</td>\n",
       "      <td>3458.0</td>\n",
       "      <td>5.0</td>\n",
       "      <td>NaN</td>\n",
       "      <td>3.0</td>\n",
       "      <td>[[], []]</td>\n",
       "      <td>/Restaurant_Review-g187323-d1358776-Reviews-Es...</td>\n",
       "      <td>d1358776</td>\n",
       "    </tr>\n",
       "    <tr>\n",
       "      <th>4</th>\n",
       "      <td>id_615</td>\n",
       "      <td>Munich</td>\n",
       "      <td>['German', 'Central European', 'Vegetarian Fri...</td>\n",
       "      <td>621.0</td>\n",
       "      <td>4.0</td>\n",
       "      <td>$$ - $$$</td>\n",
       "      <td>84.0</td>\n",
       "      <td>[['Best place to try a Bavarian food', 'Nice b...</td>\n",
       "      <td>/Restaurant_Review-g187309-d6864963-Reviews-Au...</td>\n",
       "      <td>d6864963</td>\n",
       "    </tr>\n",
       "  </tbody>\n",
       "</table>\n",
       "</div>"
      ],
      "text/plain": [
       "  Restaurant_id       City                                      Cuisine Style  \\\n",
       "0       id_5569      Paris            ['European', 'French', 'International']   \n",
       "1       id_1535  Stockholm                                                NaN   \n",
       "2        id_352     London  ['Japanese', 'Sushi', 'Asian', 'Grill', 'Veget...   \n",
       "3       id_3456     Berlin                                                NaN   \n",
       "4        id_615     Munich  ['German', 'Central European', 'Vegetarian Fri...   \n",
       "\n",
       "   Ranking  Rating Price Range  Number of Reviews  \\\n",
       "0   5570.0     3.5    $$ - $$$              194.0   \n",
       "1   1537.0     4.0         NaN               10.0   \n",
       "2    353.0     4.5        $$$$              688.0   \n",
       "3   3458.0     5.0         NaN                3.0   \n",
       "4    621.0     4.0    $$ - $$$               84.0   \n",
       "\n",
       "                                             Reviews  \\\n",
       "0  [['Good food at your doorstep', 'A good hotel ...   \n",
       "1  [['Unique cuisine', 'Delicious Nepalese food']...   \n",
       "2  [['Catch up with friends', 'Not exceptional'],...   \n",
       "3                                           [[], []]   \n",
       "4  [['Best place to try a Bavarian food', 'Nice b...   \n",
       "\n",
       "                                              URL_TA     ID_TA  \n",
       "0  /Restaurant_Review-g187147-d1912643-Reviews-R_...  d1912643  \n",
       "1  /Restaurant_Review-g189852-d7992032-Reviews-Bu...  d7992032  \n",
       "2  /Restaurant_Review-g186338-d8632781-Reviews-RO...  d8632781  \n",
       "3  /Restaurant_Review-g187323-d1358776-Reviews-Es...  d1358776  \n",
       "4  /Restaurant_Review-g187309-d6864963-Reviews-Au...  d6864963  "
      ]
     },
     "execution_count": 7,
     "metadata": {},
     "output_type": "execute_result"
    }
   ],
   "source": [
    "df_train.head(5)"
   ]
  },
  {
   "cell_type": "code",
   "execution_count": 8,
   "metadata": {},
   "outputs": [
    {
     "name": "stdout",
     "output_type": "stream",
     "text": [
      "<class 'pandas.core.frame.DataFrame'>\n",
      "RangeIndex: 10000 entries, 0 to 9999\n",
      "Data columns (total 9 columns):\n",
      "Restaurant_id        10000 non-null object\n",
      "City                 10000 non-null object\n",
      "Cuisine Style        7693 non-null object\n",
      "Ranking              10000 non-null float64\n",
      "Price Range          6525 non-null object\n",
      "Number of Reviews    9343 non-null float64\n",
      "Reviews              9998 non-null object\n",
      "URL_TA               10000 non-null object\n",
      "ID_TA                10000 non-null object\n",
      "dtypes: float64(2), object(7)\n",
      "memory usage: 703.2+ KB\n"
     ]
    }
   ],
   "source": [
    "df_test.info()"
   ]
  },
  {
   "cell_type": "code",
   "execution_count": 9,
   "metadata": {},
   "outputs": [
    {
     "data": {
      "text/html": [
       "<div>\n",
       "<style scoped>\n",
       "    .dataframe tbody tr th:only-of-type {\n",
       "        vertical-align: middle;\n",
       "    }\n",
       "\n",
       "    .dataframe tbody tr th {\n",
       "        vertical-align: top;\n",
       "    }\n",
       "\n",
       "    .dataframe thead th {\n",
       "        text-align: right;\n",
       "    }\n",
       "</style>\n",
       "<table border=\"1\" class=\"dataframe\">\n",
       "  <thead>\n",
       "    <tr style=\"text-align: right;\">\n",
       "      <th></th>\n",
       "      <th>Restaurant_id</th>\n",
       "      <th>City</th>\n",
       "      <th>Cuisine Style</th>\n",
       "      <th>Ranking</th>\n",
       "      <th>Price Range</th>\n",
       "      <th>Number of Reviews</th>\n",
       "      <th>Reviews</th>\n",
       "      <th>URL_TA</th>\n",
       "      <th>ID_TA</th>\n",
       "    </tr>\n",
       "  </thead>\n",
       "  <tbody>\n",
       "    <tr>\n",
       "      <th>0</th>\n",
       "      <td>id_0</td>\n",
       "      <td>Paris</td>\n",
       "      <td>['Bar', 'Pub']</td>\n",
       "      <td>12963.0</td>\n",
       "      <td>$$ - $$$</td>\n",
       "      <td>4.0</td>\n",
       "      <td>[[], []]</td>\n",
       "      <td>/Restaurant_Review-g187147-d10746918-Reviews-L...</td>\n",
       "      <td>d10746918</td>\n",
       "    </tr>\n",
       "    <tr>\n",
       "      <th>1</th>\n",
       "      <td>id_1</td>\n",
       "      <td>Helsinki</td>\n",
       "      <td>['European', 'Scandinavian', 'Gluten Free Opti...</td>\n",
       "      <td>106.0</td>\n",
       "      <td>$$ - $$$</td>\n",
       "      <td>97.0</td>\n",
       "      <td>[['Very good reviews!', 'Fine dining in Hakani...</td>\n",
       "      <td>/Restaurant_Review-g189934-d6674944-Reviews-Ra...</td>\n",
       "      <td>d6674944</td>\n",
       "    </tr>\n",
       "    <tr>\n",
       "      <th>2</th>\n",
       "      <td>id_2</td>\n",
       "      <td>Edinburgh</td>\n",
       "      <td>['Vegetarian Friendly']</td>\n",
       "      <td>810.0</td>\n",
       "      <td>$$ - $$$</td>\n",
       "      <td>28.0</td>\n",
       "      <td>[['Better than the Links', 'Ivy Black'], ['12/...</td>\n",
       "      <td>/Restaurant_Review-g186525-d13129638-Reviews-B...</td>\n",
       "      <td>d13129638</td>\n",
       "    </tr>\n",
       "    <tr>\n",
       "      <th>3</th>\n",
       "      <td>id_3</td>\n",
       "      <td>London</td>\n",
       "      <td>['Italian', 'Mediterranean', 'European', 'Vege...</td>\n",
       "      <td>1669.0</td>\n",
       "      <td>$$$$</td>\n",
       "      <td>202.0</td>\n",
       "      <td>[['Most exquisite', 'Delicious and authentic']...</td>\n",
       "      <td>/Restaurant_Review-g186338-d680417-Reviews-Qui...</td>\n",
       "      <td>d680417</td>\n",
       "    </tr>\n",
       "    <tr>\n",
       "      <th>4</th>\n",
       "      <td>id_4</td>\n",
       "      <td>Bratislava</td>\n",
       "      <td>['Italian', 'Mediterranean', 'European', 'Seaf...</td>\n",
       "      <td>37.0</td>\n",
       "      <td>$$$$</td>\n",
       "      <td>162.0</td>\n",
       "      <td>[['Always the best in bratislava', 'Very good ...</td>\n",
       "      <td>/Restaurant_Review-g274924-d1112354-Reviews-Ma...</td>\n",
       "      <td>d1112354</td>\n",
       "    </tr>\n",
       "  </tbody>\n",
       "</table>\n",
       "</div>"
      ],
      "text/plain": [
       "  Restaurant_id        City  \\\n",
       "0          id_0       Paris   \n",
       "1          id_1    Helsinki   \n",
       "2          id_2   Edinburgh   \n",
       "3          id_3      London   \n",
       "4          id_4  Bratislava   \n",
       "\n",
       "                                       Cuisine Style  Ranking Price Range  \\\n",
       "0                                     ['Bar', 'Pub']  12963.0    $$ - $$$   \n",
       "1  ['European', 'Scandinavian', 'Gluten Free Opti...    106.0    $$ - $$$   \n",
       "2                            ['Vegetarian Friendly']    810.0    $$ - $$$   \n",
       "3  ['Italian', 'Mediterranean', 'European', 'Vege...   1669.0        $$$$   \n",
       "4  ['Italian', 'Mediterranean', 'European', 'Seaf...     37.0        $$$$   \n",
       "\n",
       "   Number of Reviews                                            Reviews  \\\n",
       "0                4.0                                           [[], []]   \n",
       "1               97.0  [['Very good reviews!', 'Fine dining in Hakani...   \n",
       "2               28.0  [['Better than the Links', 'Ivy Black'], ['12/...   \n",
       "3              202.0  [['Most exquisite', 'Delicious and authentic']...   \n",
       "4              162.0  [['Always the best in bratislava', 'Very good ...   \n",
       "\n",
       "                                              URL_TA      ID_TA  \n",
       "0  /Restaurant_Review-g187147-d10746918-Reviews-L...  d10746918  \n",
       "1  /Restaurant_Review-g189934-d6674944-Reviews-Ra...   d6674944  \n",
       "2  /Restaurant_Review-g186525-d13129638-Reviews-B...  d13129638  \n",
       "3  /Restaurant_Review-g186338-d680417-Reviews-Qui...    d680417  \n",
       "4  /Restaurant_Review-g274924-d1112354-Reviews-Ma...   d1112354  "
      ]
     },
     "execution_count": 9,
     "metadata": {},
     "output_type": "execute_result"
    }
   ],
   "source": [
    "df_test.head(5)"
   ]
  },
  {
   "cell_type": "code",
   "execution_count": 10,
   "metadata": {},
   "outputs": [
    {
     "data": {
      "text/html": [
       "<div>\n",
       "<style scoped>\n",
       "    .dataframe tbody tr th:only-of-type {\n",
       "        vertical-align: middle;\n",
       "    }\n",
       "\n",
       "    .dataframe tbody tr th {\n",
       "        vertical-align: top;\n",
       "    }\n",
       "\n",
       "    .dataframe thead th {\n",
       "        text-align: right;\n",
       "    }\n",
       "</style>\n",
       "<table border=\"1\" class=\"dataframe\">\n",
       "  <thead>\n",
       "    <tr style=\"text-align: right;\">\n",
       "      <th></th>\n",
       "      <th>Restaurant_id</th>\n",
       "      <th>Rating</th>\n",
       "    </tr>\n",
       "  </thead>\n",
       "  <tbody>\n",
       "    <tr>\n",
       "      <th>0</th>\n",
       "      <td>id_0</td>\n",
       "      <td>2.0</td>\n",
       "    </tr>\n",
       "    <tr>\n",
       "      <th>1</th>\n",
       "      <td>id_1</td>\n",
       "      <td>2.5</td>\n",
       "    </tr>\n",
       "    <tr>\n",
       "      <th>2</th>\n",
       "      <td>id_2</td>\n",
       "      <td>4.0</td>\n",
       "    </tr>\n",
       "    <tr>\n",
       "      <th>3</th>\n",
       "      <td>id_3</td>\n",
       "      <td>1.0</td>\n",
       "    </tr>\n",
       "    <tr>\n",
       "      <th>4</th>\n",
       "      <td>id_4</td>\n",
       "      <td>4.0</td>\n",
       "    </tr>\n",
       "  </tbody>\n",
       "</table>\n",
       "</div>"
      ],
      "text/plain": [
       "  Restaurant_id  Rating\n",
       "0          id_0     2.0\n",
       "1          id_1     2.5\n",
       "2          id_2     4.0\n",
       "3          id_3     1.0\n",
       "4          id_4     4.0"
      ]
     },
     "execution_count": 10,
     "metadata": {},
     "output_type": "execute_result"
    }
   ],
   "source": [
    "sample_submission.head(5)"
   ]
  },
  {
   "cell_type": "code",
   "execution_count": 11,
   "metadata": {},
   "outputs": [
    {
     "name": "stdout",
     "output_type": "stream",
     "text": [
      "<class 'pandas.core.frame.DataFrame'>\n",
      "RangeIndex: 10000 entries, 0 to 9999\n",
      "Data columns (total 2 columns):\n",
      "Restaurant_id    10000 non-null object\n",
      "Rating           10000 non-null float64\n",
      "dtypes: float64(1), object(1)\n",
      "memory usage: 156.4+ KB\n"
     ]
    }
   ],
   "source": [
    "sample_submission.info()"
   ]
  },
  {
   "cell_type": "code",
   "execution_count": 12,
   "metadata": {},
   "outputs": [],
   "source": [
    "# ВАЖНО! дря корректной обработки признаков объединяем трейн и тест в один датасет\n",
    "df_train['sample'] = 1 # помечаем где у нас трейн\n",
    "df_test['sample'] = 0 # помечаем где у нас тест\n",
    "df_test['Rating'] = 0 # в тесте у нас нет значения Rating, мы его должны предсказать, по этому пока просто заполняем нулями\n",
    "\n",
    "data = df_test.append(df_train, sort=False).reset_index(drop=True) # объединяем"
   ]
  },
  {
   "cell_type": "code",
   "execution_count": 13,
   "metadata": {},
   "outputs": [
    {
     "name": "stdout",
     "output_type": "stream",
     "text": [
      "<class 'pandas.core.frame.DataFrame'>\n",
      "RangeIndex: 50000 entries, 0 to 49999\n",
      "Data columns (total 11 columns):\n",
      "Restaurant_id        50000 non-null object\n",
      "City                 50000 non-null object\n",
      "Cuisine Style        38410 non-null object\n",
      "Ranking              50000 non-null float64\n",
      "Price Range          32639 non-null object\n",
      "Number of Reviews    46800 non-null float64\n",
      "Reviews              49998 non-null object\n",
      "URL_TA               50000 non-null object\n",
      "ID_TA                50000 non-null object\n",
      "sample               50000 non-null int64\n",
      "Rating               50000 non-null float64\n",
      "dtypes: float64(3), int64(1), object(7)\n",
      "memory usage: 4.2+ MB\n"
     ]
    }
   ],
   "source": [
    "data.info()"
   ]
  },
  {
   "cell_type": "markdown",
   "metadata": {},
   "source": [
    "Подробнее по признакам:\n",
    "* City: Город \n",
    "* Cuisine Style: Кухня\n",
    "* Ranking: Ранг ресторана относительно других ресторанов в этом городе\n",
    "* Price Range: Цены в ресторане в 3 категориях\n",
    "* Number of Reviews: Количество отзывов\n",
    "* Reviews: 2 последних отзыва и даты этих отзывов\n",
    "* URL_TA: страница ресторана на 'www.tripadvisor.com' \n",
    "* ID_TA: ID ресторана в TripAdvisor\n",
    "* Rating: Рейтинг ресторана"
   ]
  },
  {
   "cell_type": "code",
   "execution_count": 14,
   "metadata": {},
   "outputs": [
    {
     "data": {
      "text/html": [
       "<div>\n",
       "<style scoped>\n",
       "    .dataframe tbody tr th:only-of-type {\n",
       "        vertical-align: middle;\n",
       "    }\n",
       "\n",
       "    .dataframe tbody tr th {\n",
       "        vertical-align: top;\n",
       "    }\n",
       "\n",
       "    .dataframe thead th {\n",
       "        text-align: right;\n",
       "    }\n",
       "</style>\n",
       "<table border=\"1\" class=\"dataframe\">\n",
       "  <thead>\n",
       "    <tr style=\"text-align: right;\">\n",
       "      <th></th>\n",
       "      <th>Restaurant_id</th>\n",
       "      <th>City</th>\n",
       "      <th>Cuisine Style</th>\n",
       "      <th>Ranking</th>\n",
       "      <th>Price Range</th>\n",
       "      <th>Number of Reviews</th>\n",
       "      <th>Reviews</th>\n",
       "      <th>URL_TA</th>\n",
       "      <th>ID_TA</th>\n",
       "      <th>sample</th>\n",
       "      <th>Rating</th>\n",
       "    </tr>\n",
       "  </thead>\n",
       "  <tbody>\n",
       "    <tr>\n",
       "      <th>6466</th>\n",
       "      <td>id_6466</td>\n",
       "      <td>London</td>\n",
       "      <td>NaN</td>\n",
       "      <td>9104.0</td>\n",
       "      <td>NaN</td>\n",
       "      <td>2.0</td>\n",
       "      <td>[['AMAZING! THE OWNER IS A GENIUS!', 'A perfec...</td>\n",
       "      <td>/Restaurant_Review-g186338-d8810148-Reviews-Oa...</td>\n",
       "      <td>d8810148</td>\n",
       "      <td>0</td>\n",
       "      <td>0.0</td>\n",
       "    </tr>\n",
       "    <tr>\n",
       "      <th>49689</th>\n",
       "      <td>id_8243</td>\n",
       "      <td>Madrid</td>\n",
       "      <td>['Barbecue']</td>\n",
       "      <td>8250.0</td>\n",
       "      <td>$$ - $$$</td>\n",
       "      <td>22.0</td>\n",
       "      <td>[['The worst service in Madrid / El peor serv....</td>\n",
       "      <td>/Restaurant_Review-g187514-d2061415-Reviews-El...</td>\n",
       "      <td>d2061415</td>\n",
       "      <td>1</td>\n",
       "      <td>3.0</td>\n",
       "    </tr>\n",
       "    <tr>\n",
       "      <th>35050</th>\n",
       "      <td>id_3980</td>\n",
       "      <td>Madrid</td>\n",
       "      <td>NaN</td>\n",
       "      <td>3982.0</td>\n",
       "      <td>NaN</td>\n",
       "      <td>NaN</td>\n",
       "      <td>[[], []]</td>\n",
       "      <td>/Restaurant_Review-g187514-d10547346-Reviews-D...</td>\n",
       "      <td>d10547346</td>\n",
       "      <td>1</td>\n",
       "      <td>5.0</td>\n",
       "    </tr>\n",
       "    <tr>\n",
       "      <th>32963</th>\n",
       "      <td>id_1486</td>\n",
       "      <td>Berlin</td>\n",
       "      <td>['German', 'Austrian', 'European', 'Central Eu...</td>\n",
       "      <td>1488.0</td>\n",
       "      <td>$$ - $$$</td>\n",
       "      <td>71.0</td>\n",
       "      <td>[['Very nice traditional Tiroler restaurant', ...</td>\n",
       "      <td>/Restaurant_Review-g187323-d1036940-Reviews-Ti...</td>\n",
       "      <td>d1036940</td>\n",
       "      <td>1</td>\n",
       "      <td>4.0</td>\n",
       "    </tr>\n",
       "    <tr>\n",
       "      <th>9508</th>\n",
       "      <td>id_9508</td>\n",
       "      <td>Rome</td>\n",
       "      <td>NaN</td>\n",
       "      <td>5728.0</td>\n",
       "      <td>NaN</td>\n",
       "      <td>2.0</td>\n",
       "      <td>[['Amazing baked goods'], ['01/11/2013']]</td>\n",
       "      <td>/Restaurant_Review-g187791-d3751368-Reviews-Pa...</td>\n",
       "      <td>d3751368</td>\n",
       "      <td>0</td>\n",
       "      <td>0.0</td>\n",
       "    </tr>\n",
       "  </tbody>\n",
       "</table>\n",
       "</div>"
      ],
      "text/plain": [
       "      Restaurant_id    City  \\\n",
       "6466        id_6466  London   \n",
       "49689       id_8243  Madrid   \n",
       "35050       id_3980  Madrid   \n",
       "32963       id_1486  Berlin   \n",
       "9508        id_9508    Rome   \n",
       "\n",
       "                                           Cuisine Style  Ranking Price Range  \\\n",
       "6466                                                 NaN   9104.0         NaN   \n",
       "49689                                       ['Barbecue']   8250.0    $$ - $$$   \n",
       "35050                                                NaN   3982.0         NaN   \n",
       "32963  ['German', 'Austrian', 'European', 'Central Eu...   1488.0    $$ - $$$   \n",
       "9508                                                 NaN   5728.0         NaN   \n",
       "\n",
       "       Number of Reviews                                            Reviews  \\\n",
       "6466                 2.0  [['AMAZING! THE OWNER IS A GENIUS!', 'A perfec...   \n",
       "49689               22.0  [['The worst service in Madrid / El peor serv....   \n",
       "35050                NaN                                           [[], []]   \n",
       "32963               71.0  [['Very nice traditional Tiroler restaurant', ...   \n",
       "9508                 2.0          [['Amazing baked goods'], ['01/11/2013']]   \n",
       "\n",
       "                                                  URL_TA      ID_TA  sample  \\\n",
       "6466   /Restaurant_Review-g186338-d8810148-Reviews-Oa...   d8810148       0   \n",
       "49689  /Restaurant_Review-g187514-d2061415-Reviews-El...   d2061415       1   \n",
       "35050  /Restaurant_Review-g187514-d10547346-Reviews-D...  d10547346       1   \n",
       "32963  /Restaurant_Review-g187323-d1036940-Reviews-Ti...   d1036940       1   \n",
       "9508   /Restaurant_Review-g187791-d3751368-Reviews-Pa...   d3751368       0   \n",
       "\n",
       "       Rating  \n",
       "6466      0.0  \n",
       "49689     3.0  \n",
       "35050     5.0  \n",
       "32963     4.0  \n",
       "9508      0.0  "
      ]
     },
     "execution_count": 14,
     "metadata": {},
     "output_type": "execute_result"
    }
   ],
   "source": [
    "data.sample(5)"
   ]
  },
  {
   "cell_type": "code",
   "execution_count": 15,
   "metadata": {},
   "outputs": [
    {
     "data": {
      "text/plain": [
       "\"[['Very good reviews!', 'Fine dining in Hakaniemi'], ['12/05/2017', '10/29/2017']]\""
      ]
     },
     "execution_count": 15,
     "metadata": {},
     "output_type": "execute_result"
    }
   ],
   "source": [
    "data.Reviews[1]"
   ]
  },
  {
   "cell_type": "markdown",
   "metadata": {},
   "source": [
    "Как видим, большинство признаков у нас требует очистки и предварительной обработки."
   ]
  },
  {
   "cell_type": "markdown",
   "metadata": {},
   "source": [
    "# Cleaning and Prepping Data\n",
    "Обычно данные содержат в себе кучу мусора, который необходимо почистить, для того чтобы привести их в приемлемый формат. Чистка данных — это необходимый этап решения почти любой реальной задачи.   \n",
    "![](https://analyticsindiamag.com/wp-content/uploads/2018/01/data-cleaning.png)"
   ]
  },
  {
   "cell_type": "markdown",
   "metadata": {},
   "source": [
    "## 1. Обработка NAN \n",
    "У наличия пропусков могут быть разные причины, но пропуски нужно либо заполнить, либо исключить из набора полностью. Но с пропусками нужно быть внимательным, **даже отсутствие информации может быть важным признаком!**   \n",
    "По этому перед обработкой NAN лучше вынести информацию о наличии пропуска как отдельный признак "
   ]
  },
  {
   "cell_type": "code",
   "execution_count": 16,
   "metadata": {},
   "outputs": [],
   "source": [
    "# Для примера я возьму столбец Number of Reviews\n",
    "data['Number_of_Reviews_isNAN'] = pd.isna(data['Number of Reviews']).astype('uint8')"
   ]
  },
  {
   "cell_type": "code",
   "execution_count": 17,
   "metadata": {},
   "outputs": [
    {
     "data": {
      "text/plain": [
       "0        0\n",
       "1        0\n",
       "2        0\n",
       "3        0\n",
       "4        0\n",
       "        ..\n",
       "49995    0\n",
       "49996    0\n",
       "49997    0\n",
       "49998    0\n",
       "49999    0\n",
       "Name: Number_of_Reviews_isNAN, Length: 50000, dtype: uint8"
      ]
     },
     "execution_count": 17,
     "metadata": {},
     "output_type": "execute_result"
    }
   ],
   "source": [
    "data['Number_of_Reviews_isNAN']"
   ]
  },
  {
   "cell_type": "code",
   "execution_count": 18,
   "metadata": {},
   "outputs": [],
   "source": [
    "# Далее заполняем пропуски 0, вы можете попробовать заполнением средним или средним по городу и тд...\n",
    "# data['Number of Reviews'].fillna(0, inplace=True)"
   ]
  },
  {
   "cell_type": "markdown",
   "metadata": {},
   "source": [
    "### Обработать другие признаки вы должны самостоятельно!\n",
    "Для обработки других признаков вам возможно придется даже написать свою функцию, а может даже и не одну, но в этом и есть ваша практика в этом модуле!     \n",
    "Следуя подсказкам в модуле вы сможете более подробно узнать, как сделать эти приобразования."
   ]
  },
  {
   "cell_type": "code",
   "execution_count": 19,
   "metadata": {},
   "outputs": [
    {
     "name": "stdout",
     "output_type": "stream",
     "text": [
      "['Bar', 'Pub'] <class 'str'>\n",
      "['German'] <class 'str'>\n",
      "nan <class 'float'>\n"
     ]
    }
   ],
   "source": [
    "# изучаем структуру и тип данных\n",
    "print(data['Cuisine Style'][0], type(data['Cuisine Style'][0]))\n",
    "print(data['Cuisine Style'][28139], type(data['Cuisine Style'][28139]))\n",
    "print(data['Cuisine Style'][28482], type(data['Cuisine Style'][28482]))"
   ]
  },
  {
   "cell_type": "code",
   "execution_count": 20,
   "metadata": {},
   "outputs": [],
   "source": [
    "data['Cuisine_Style_isNAN'] = pd.isna(data['Cuisine Style']).astype('uint8')"
   ]
  },
  {
   "cell_type": "code",
   "execution_count": 21,
   "metadata": {},
   "outputs": [],
   "source": [
    "# данные имеют структуру списков, но тип - строки\n",
    "# создаем функцию для превращения данных в списки + заменяем NAN\n",
    "def cuisine_into_list(cell):\n",
    "    if pd.isnull(cell) == False:\n",
    "        cell = cell[2:-2].split(\"', '\")\n",
    "    else:\n",
    "        cell = ['Other']\n",
    "    return cell"
   ]
  },
  {
   "cell_type": "code",
   "execution_count": 22,
   "metadata": {},
   "outputs": [],
   "source": [
    "data['Cuisine Style'] = data['Cuisine Style'].apply(cuisine_into_list)"
   ]
  },
  {
   "cell_type": "code",
   "execution_count": 23,
   "metadata": {},
   "outputs": [
    {
     "name": "stdout",
     "output_type": "stream",
     "text": [
      "['Bar', 'Pub'] <class 'list'>\n",
      "['German'] <class 'list'>\n",
      "['Other'] <class 'list'>\n"
     ]
    }
   ],
   "source": [
    "# смотрим, что получилось\n",
    "print(data['Cuisine Style'][0], type(data['Cuisine Style'][0]))\n",
    "print(data['Cuisine Style'][28139], type(data['Cuisine Style'][28139]))\n",
    "print(data['Cuisine Style'][28482], type(data['Cuisine Style'][28482]))"
   ]
  },
  {
   "cell_type": "code",
   "execution_count": 24,
   "metadata": {},
   "outputs": [],
   "source": [
    "# подсчитываем количество Cuisine Style\n",
    "data['Style_count'] = data['Cuisine Style'].apply(lambda x: len(x))"
   ]
  },
  {
   "cell_type": "code",
   "execution_count": 25,
   "metadata": {},
   "outputs": [
    {
     "name": "stdout",
     "output_type": "stream",
     "text": [
      "[[], []] <class 'str'>\n",
      "[['Very good reviews!', 'Fine dining in Hakaniemi'], ['12/05/2017', '10/29/2017']] <class 'str'>\n"
     ]
    }
   ],
   "source": [
    "# изучаем структуру и тип данных\n",
    "print(data['Reviews'][0], type(data['Reviews'][0]))\n",
    "print(data['Reviews'][1], type(data['Reviews'][1]))"
   ]
  },
  {
   "cell_type": "code",
   "execution_count": 26,
   "metadata": {},
   "outputs": [],
   "source": [
    "# данные имеют структуру списка со вложенными списками, но тип - строки\n",
    "# создаем функцию для замены пустых списков на NAN\n",
    "def turn_to_none(cell):\n",
    "    if cell == '[[], []]' or cell == '[]':\n",
    "        cell = None\n",
    "    return cell"
   ]
  },
  {
   "cell_type": "code",
   "execution_count": 27,
   "metadata": {},
   "outputs": [],
   "source": [
    "data['Reviews'] = data['Reviews'].apply(turn_to_none)"
   ]
  },
  {
   "cell_type": "code",
   "execution_count": 28,
   "metadata": {},
   "outputs": [],
   "source": [
    "data['Reviews&date_isNAN'] = pd.isna(data['Reviews']).astype('uint8')"
   ]
  },
  {
   "cell_type": "code",
   "execution_count": 29,
   "metadata": {},
   "outputs": [],
   "source": [
    "# превращаем данные в списки\n",
    "data['Reviews'] = data['Reviews'].dropna().apply(lambda x: x[2:-2].split(\"], [\"))"
   ]
  },
  {
   "cell_type": "code",
   "execution_count": 30,
   "metadata": {},
   "outputs": [],
   "source": [
    "# отделяем даты от ревью и превращаем данные в списки\n",
    "data['Reviews date'] = data['Reviews'].dropna().apply(lambda x: x[1][1:-1].split(\"', '\"))"
   ]
  },
  {
   "cell_type": "code",
   "execution_count": 31,
   "metadata": {},
   "outputs": [],
   "source": [
    "# превращаем данные в даты\n",
    "data['Reviews date'] = data['Reviews date'].dropna().apply(lambda x: [pd.to_datetime(i) for i in x])"
   ]
  },
  {
   "cell_type": "code",
   "execution_count": 32,
   "metadata": {},
   "outputs": [],
   "source": [
    "# отделяем ревью и превращаем данные в списки\n",
    "data['Reviews'] = data['Reviews'].dropna().apply(lambda x: x[0][1:-1].split(\"', '\"))"
   ]
  },
  {
   "cell_type": "code",
   "execution_count": 33,
   "metadata": {},
   "outputs": [],
   "source": [
    "# подсчитываем количество (0, 1 или 2) ревью для замены NAN в Number of Reviews\n",
    "data['Reviews_count'] = data['Reviews'].dropna().apply(lambda x: len(x))\n",
    "data['Reviews_count'] = data['Reviews_count'].fillna(0)"
   ]
  },
  {
   "cell_type": "code",
   "execution_count": 34,
   "metadata": {},
   "outputs": [],
   "source": [
    "# и производим замену на минимальное количество отзывов\n",
    "data['Number of Reviews New'] = data['Number of Reviews']\n",
    "data['Number of Reviews New'] = data['Number of Reviews New'].fillna(data['Reviews_count'])"
   ]
  },
  {
   "cell_type": "code",
   "execution_count": 35,
   "metadata": {},
   "outputs": [],
   "source": [
    "# производим замену на среднее количество отзывов по городу\n",
    "NoR_City = data.dropna().groupby(['City'])['Number of Reviews'].mean()\n",
    "data['mean_NoR_City'] = data['City'].apply(lambda x: NoR_City[x])\n",
    "data['Number of Reviews City'] = data['Number of Reviews']\n",
    "data['Number of Reviews City'] = data['Number of Reviews City'].fillna(round(data['mean_NoR_City'], 0))"
   ]
  },
  {
   "cell_type": "code",
   "execution_count": 36,
   "metadata": {},
   "outputs": [],
   "source": [
    "# производим замену на среднее количество отзывов по ресторану\n",
    "NoR_Rest_id = data.groupby(['Restaurant_id'])['Number of Reviews'].mean()\n",
    "data['mean_NoR_Rest_id'] = data['Restaurant_id'].apply(lambda x: NoR_Rest_id[x])\n",
    "data['Number of Reviews Rest_id'] = data['Number of Reviews']\n",
    "data['Number of Reviews Rest_id'] = data['Number of Reviews Rest_id'].fillna(round(data['mean_NoR_Rest_id'], 0))\n",
    "# дополним средними данными по городу\n",
    "data['Number of Reviews Rest_id'] = data['Number of Reviews Rest_id'].fillna(round(data['mean_NoR_City'], 0))"
   ]
  },
  {
   "cell_type": "code",
   "execution_count": 37,
   "metadata": {},
   "outputs": [],
   "source": [
    "# подсчитываем количество дней между ревью\n",
    "def len_count(cell):\n",
    "    if len(cell) == 2:\n",
    "        cell = np.max(cell) - np.min(cell)\n",
    "    else:\n",
    "        cell = 0\n",
    "    return int(str(cell).split(' days ')[0])\n",
    "data['Reviews period'] = data['Reviews date'].dropna().apply(len_count)"
   ]
  },
  {
   "cell_type": "code",
   "execution_count": 38,
   "metadata": {},
   "outputs": [],
   "source": [
    "# подсчитываем количество дней с даты последнего ревью\n",
    "data['Last Reviews'] = data['Reviews date'].dropna().apply(lambda x: int(str((CURRENT_DATE-np.max(x))).split(' days ')[0]))"
   ]
  },
  {
   "cell_type": "code",
   "execution_count": 39,
   "metadata": {},
   "outputs": [],
   "source": [
    "# заменяем NAN\n",
    "data['Reviews period'] = data['Reviews period'].fillna(-1)\n",
    "data['Last Reviews'] = data['Last Reviews'].fillna(-1)"
   ]
  },
  {
   "cell_type": "code",
   "execution_count": 40,
   "metadata": {},
   "outputs": [
    {
     "data": {
      "text/html": [
       "<div>\n",
       "<style scoped>\n",
       "    .dataframe tbody tr th:only-of-type {\n",
       "        vertical-align: middle;\n",
       "    }\n",
       "\n",
       "    .dataframe tbody tr th {\n",
       "        vertical-align: top;\n",
       "    }\n",
       "\n",
       "    .dataframe thead th {\n",
       "        text-align: right;\n",
       "    }\n",
       "</style>\n",
       "<table border=\"1\" class=\"dataframe\">\n",
       "  <thead>\n",
       "    <tr style=\"text-align: right;\">\n",
       "      <th></th>\n",
       "      <th>Ranking</th>\n",
       "      <th>Number of Reviews</th>\n",
       "      <th>sample</th>\n",
       "      <th>Rating</th>\n",
       "      <th>Number_of_Reviews_isNAN</th>\n",
       "      <th>Cuisine_Style_isNAN</th>\n",
       "      <th>Style_count</th>\n",
       "      <th>Reviews&amp;date_isNAN</th>\n",
       "      <th>Reviews_count</th>\n",
       "      <th>Number of Reviews New</th>\n",
       "      <th>mean_NoR_City</th>\n",
       "      <th>Number of Reviews City</th>\n",
       "      <th>mean_NoR_Rest_id</th>\n",
       "      <th>Number of Reviews Rest_id</th>\n",
       "      <th>Reviews period</th>\n",
       "      <th>Last Reviews</th>\n",
       "    </tr>\n",
       "  </thead>\n",
       "  <tbody>\n",
       "    <tr>\n",
       "      <th>count</th>\n",
       "      <td>50000.000000</td>\n",
       "      <td>46800.000000</td>\n",
       "      <td>50000.000000</td>\n",
       "      <td>50000.000000</td>\n",
       "      <td>50000.000000</td>\n",
       "      <td>50000.000000</td>\n",
       "      <td>50000.000000</td>\n",
       "      <td>50000.000000</td>\n",
       "      <td>50000.000000</td>\n",
       "      <td>50000.000000</td>\n",
       "      <td>50000.000000</td>\n",
       "      <td>50000.000000</td>\n",
       "      <td>49631.000000</td>\n",
       "      <td>50000.000000</td>\n",
       "      <td>50000.000000</td>\n",
       "      <td>50000.000000</td>\n",
       "    </tr>\n",
       "    <tr>\n",
       "      <th>mean</th>\n",
       "      <td>3664.427520</td>\n",
       "      <td>124.471197</td>\n",
       "      <td>0.800000</td>\n",
       "      <td>3.194430</td>\n",
       "      <td>0.064000</td>\n",
       "      <td>0.231800</td>\n",
       "      <td>2.625320</td>\n",
       "      <td>0.162280</td>\n",
       "      <td>1.533460</td>\n",
       "      <td>116.528560</td>\n",
       "      <td>178.513221</td>\n",
       "      <td>127.147940</td>\n",
       "      <td>122.705313</td>\n",
       "      <td>123.071200</td>\n",
       "      <td>103.060180</td>\n",
       "      <td>1041.999400</td>\n",
       "    </tr>\n",
       "    <tr>\n",
       "      <th>std</th>\n",
       "      <td>3700.092452</td>\n",
       "      <td>294.114345</td>\n",
       "      <td>0.400004</td>\n",
       "      <td>1.705453</td>\n",
       "      <td>0.244755</td>\n",
       "      <td>0.421986</td>\n",
       "      <td>1.824029</td>\n",
       "      <td>0.368711</td>\n",
       "      <td>0.757266</td>\n",
       "      <td>286.163568</td>\n",
       "      <td>64.774696</td>\n",
       "      <td>285.081785</td>\n",
       "      <td>153.458285</td>\n",
       "      <td>285.976857</td>\n",
       "      <td>199.896964</td>\n",
       "      <td>566.812582</td>\n",
       "    </tr>\n",
       "    <tr>\n",
       "      <th>min</th>\n",
       "      <td>1.000000</td>\n",
       "      <td>2.000000</td>\n",
       "      <td>0.000000</td>\n",
       "      <td>0.000000</td>\n",
       "      <td>0.000000</td>\n",
       "      <td>0.000000</td>\n",
       "      <td>1.000000</td>\n",
       "      <td>0.000000</td>\n",
       "      <td>0.000000</td>\n",
       "      <td>0.000000</td>\n",
       "      <td>83.606138</td>\n",
       "      <td>2.000000</td>\n",
       "      <td>2.000000</td>\n",
       "      <td>2.000000</td>\n",
       "      <td>-1.000000</td>\n",
       "      <td>-1.000000</td>\n",
       "    </tr>\n",
       "    <tr>\n",
       "      <th>25%</th>\n",
       "      <td>972.000000</td>\n",
       "      <td>9.000000</td>\n",
       "      <td>1.000000</td>\n",
       "      <td>3.000000</td>\n",
       "      <td>0.000000</td>\n",
       "      <td>0.000000</td>\n",
       "      <td>1.000000</td>\n",
       "      <td>0.000000</td>\n",
       "      <td>1.000000</td>\n",
       "      <td>7.000000</td>\n",
       "      <td>132.592742</td>\n",
       "      <td>10.000000</td>\n",
       "      <td>34.571429</td>\n",
       "      <td>10.000000</td>\n",
       "      <td>0.000000</td>\n",
       "      <td>1008.000000</td>\n",
       "    </tr>\n",
       "    <tr>\n",
       "      <th>50%</th>\n",
       "      <td>2278.000000</td>\n",
       "      <td>33.000000</td>\n",
       "      <td>1.000000</td>\n",
       "      <td>4.000000</td>\n",
       "      <td>0.000000</td>\n",
       "      <td>0.000000</td>\n",
       "      <td>2.000000</td>\n",
       "      <td>0.000000</td>\n",
       "      <td>2.000000</td>\n",
       "      <td>28.000000</td>\n",
       "      <td>179.209838</td>\n",
       "      <td>38.000000</td>\n",
       "      <td>74.200000</td>\n",
       "      <td>35.000000</td>\n",
       "      <td>29.000000</td>\n",
       "      <td>1074.000000</td>\n",
       "    </tr>\n",
       "    <tr>\n",
       "      <th>75%</th>\n",
       "      <td>5241.000000</td>\n",
       "      <td>115.000000</td>\n",
       "      <td>1.000000</td>\n",
       "      <td>4.500000</td>\n",
       "      <td>0.000000</td>\n",
       "      <td>0.000000</td>\n",
       "      <td>4.000000</td>\n",
       "      <td>0.000000</td>\n",
       "      <td>2.000000</td>\n",
       "      <td>105.000000</td>\n",
       "      <td>185.468416</td>\n",
       "      <td>135.000000</td>\n",
       "      <td>145.888889</td>\n",
       "      <td>118.000000</td>\n",
       "      <td>120.000000</td>\n",
       "      <td>1238.000000</td>\n",
       "    </tr>\n",
       "    <tr>\n",
       "      <th>max</th>\n",
       "      <td>16444.000000</td>\n",
       "      <td>9660.000000</td>\n",
       "      <td>1.000000</td>\n",
       "      <td>5.000000</td>\n",
       "      <td>1.000000</td>\n",
       "      <td>1.000000</td>\n",
       "      <td>21.000000</td>\n",
       "      <td>1.000000</td>\n",
       "      <td>2.000000</td>\n",
       "      <td>9660.000000</td>\n",
       "      <td>377.792432</td>\n",
       "      <td>9660.000000</td>\n",
       "      <td>3538.000000</td>\n",
       "      <td>9660.000000</td>\n",
       "      <td>3296.000000</td>\n",
       "      <td>6013.000000</td>\n",
       "    </tr>\n",
       "  </tbody>\n",
       "</table>\n",
       "</div>"
      ],
      "text/plain": [
       "            Ranking  Number of Reviews        sample        Rating  \\\n",
       "count  50000.000000       46800.000000  50000.000000  50000.000000   \n",
       "mean    3664.427520         124.471197      0.800000      3.194430   \n",
       "std     3700.092452         294.114345      0.400004      1.705453   \n",
       "min        1.000000           2.000000      0.000000      0.000000   \n",
       "25%      972.000000           9.000000      1.000000      3.000000   \n",
       "50%     2278.000000          33.000000      1.000000      4.000000   \n",
       "75%     5241.000000         115.000000      1.000000      4.500000   \n",
       "max    16444.000000        9660.000000      1.000000      5.000000   \n",
       "\n",
       "       Number_of_Reviews_isNAN  Cuisine_Style_isNAN   Style_count  \\\n",
       "count             50000.000000         50000.000000  50000.000000   \n",
       "mean                  0.064000             0.231800      2.625320   \n",
       "std                   0.244755             0.421986      1.824029   \n",
       "min                   0.000000             0.000000      1.000000   \n",
       "25%                   0.000000             0.000000      1.000000   \n",
       "50%                   0.000000             0.000000      2.000000   \n",
       "75%                   0.000000             0.000000      4.000000   \n",
       "max                   1.000000             1.000000     21.000000   \n",
       "\n",
       "       Reviews&date_isNAN  Reviews_count  Number of Reviews New  \\\n",
       "count        50000.000000   50000.000000           50000.000000   \n",
       "mean             0.162280       1.533460             116.528560   \n",
       "std              0.368711       0.757266             286.163568   \n",
       "min              0.000000       0.000000               0.000000   \n",
       "25%              0.000000       1.000000               7.000000   \n",
       "50%              0.000000       2.000000              28.000000   \n",
       "75%              0.000000       2.000000             105.000000   \n",
       "max              1.000000       2.000000            9660.000000   \n",
       "\n",
       "       mean_NoR_City  Number of Reviews City  mean_NoR_Rest_id  \\\n",
       "count   50000.000000            50000.000000      49631.000000   \n",
       "mean      178.513221              127.147940        122.705313   \n",
       "std        64.774696              285.081785        153.458285   \n",
       "min        83.606138                2.000000          2.000000   \n",
       "25%       132.592742               10.000000         34.571429   \n",
       "50%       179.209838               38.000000         74.200000   \n",
       "75%       185.468416              135.000000        145.888889   \n",
       "max       377.792432             9660.000000       3538.000000   \n",
       "\n",
       "       Number of Reviews Rest_id  Reviews period  Last Reviews  \n",
       "count               50000.000000    50000.000000  50000.000000  \n",
       "mean                  123.071200      103.060180   1041.999400  \n",
       "std                   285.976857      199.896964    566.812582  \n",
       "min                     2.000000       -1.000000     -1.000000  \n",
       "25%                    10.000000        0.000000   1008.000000  \n",
       "50%                    35.000000       29.000000   1074.000000  \n",
       "75%                   118.000000      120.000000   1238.000000  \n",
       "max                  9660.000000     3296.000000   6013.000000  "
      ]
     },
     "execution_count": 40,
     "metadata": {},
     "output_type": "execute_result"
    }
   ],
   "source": [
    "data.describe()"
   ]
  },
  {
   "cell_type": "code",
   "execution_count": 41,
   "metadata": {},
   "outputs": [
    {
     "name": "stdout",
     "output_type": "stream",
     "text": [
      "<class 'pandas.core.frame.DataFrame'>\n",
      "RangeIndex: 50000 entries, 0 to 49999\n",
      "Data columns (total 24 columns):\n",
      "Restaurant_id                50000 non-null object\n",
      "City                         50000 non-null object\n",
      "Cuisine Style                50000 non-null object\n",
      "Ranking                      50000 non-null float64\n",
      "Price Range                  32639 non-null object\n",
      "Number of Reviews            46800 non-null float64\n",
      "Reviews                      41886 non-null object\n",
      "URL_TA                       50000 non-null object\n",
      "ID_TA                        50000 non-null object\n",
      "sample                       50000 non-null int64\n",
      "Rating                       50000 non-null float64\n",
      "Number_of_Reviews_isNAN      50000 non-null uint8\n",
      "Cuisine_Style_isNAN          50000 non-null uint8\n",
      "Style_count                  50000 non-null int64\n",
      "Reviews&date_isNAN           50000 non-null uint8\n",
      "Reviews date                 41886 non-null object\n",
      "Reviews_count                50000 non-null float64\n",
      "Number of Reviews New        50000 non-null float64\n",
      "mean_NoR_City                50000 non-null float64\n",
      "Number of Reviews City       50000 non-null float64\n",
      "mean_NoR_Rest_id             49631 non-null float64\n",
      "Number of Reviews Rest_id    50000 non-null float64\n",
      "Reviews period               50000 non-null float64\n",
      "Last Reviews                 50000 non-null float64\n",
      "dtypes: float64(11), int64(2), object(8), uint8(3)\n",
      "memory usage: 8.2+ MB\n"
     ]
    }
   ],
   "source": [
    "data.info()"
   ]
  },
  {
   "cell_type": "code",
   "execution_count": 42,
   "metadata": {},
   "outputs": [],
   "source": [
    "data = data.drop(['mean_NoR_City', 'mean_NoR_Rest_id'], axis = 1)"
   ]
  },
  {
   "cell_type": "markdown",
   "metadata": {},
   "source": [
    "### 2. Обработка признаков\n",
    "Для начала посмотрим какие признаки у нас могут быть категориальными."
   ]
  },
  {
   "cell_type": "code",
   "execution_count": 43,
   "metadata": {},
   "outputs": [],
   "source": [
    "# data.nunique(dropna=False)"
   ]
  },
  {
   "cell_type": "markdown",
   "metadata": {},
   "source": [
    "Какие признаки можно считать категориальными?"
   ]
  },
  {
   "cell_type": "markdown",
   "metadata": {},
   "source": [
    "Для кодирования категориальных признаков есть множество подходов:\n",
    "* Label Encoding\n",
    "* One-Hot Encoding\n",
    "* Target Encoding\n",
    "* Hashing\n",
    "\n",
    "Выбор кодирования зависит от признака и выбраной модели.\n",
    "Не будем сейчас сильно погружаться в эту тематику, давайте посмотрим лучше пример с One-Hot Encoding:\n",
    "![](https://i.imgur.com/mtimFxh.png)"
   ]
  },
  {
   "cell_type": "markdown",
   "metadata": {},
   "source": [
    "#### Возьмем следующий признак \"Price Range\"."
   ]
  },
  {
   "cell_type": "code",
   "execution_count": 44,
   "metadata": {},
   "outputs": [
    {
     "data": {
      "text/plain": [
       "$$ - $$$    23041\n",
       "$            7816\n",
       "$$$$         1782\n",
       "Name: Price Range, dtype: int64"
      ]
     },
     "execution_count": 44,
     "metadata": {},
     "output_type": "execute_result"
    }
   ],
   "source": [
    "data['Price Range'].value_counts()"
   ]
  },
  {
   "cell_type": "markdown",
   "metadata": {},
   "source": [
    "По описанию 'Price Range' это - Цены в ресторане.  \n",
    "Их можно поставить по возрастанию (значит это не категориальный признак). А это значит, что их можно заменить последовательными числами, например 1,2,3  \n",
    "*Попробуйте сделать обработку этого признака уже самостоятельно!*"
   ]
  },
  {
   "cell_type": "code",
   "execution_count": 45,
   "metadata": {},
   "outputs": [],
   "source": [
    "# Ваша обработка 'Price Range'"
   ]
  },
  {
   "cell_type": "markdown",
   "metadata": {},
   "source": [
    "> Для некоторых алгоритмов МЛ даже для не категориальных признаков можно применить One-Hot Encoding, и это может улучшить качество модели. Пробуйте разные подходы к кодированию признака - никто не знает заранее, что может взлететь."
   ]
  },
  {
   "cell_type": "code",
   "execution_count": 46,
   "metadata": {},
   "outputs": [],
   "source": [
    "# посмотрим есть ли корреляция данного признака с другими\n",
    "# сначала присвоим код каждему городу и Price Range\n",
    "city_code = {}\n",
    "counter = 0\n",
    "for city in data['City'].unique():\n",
    "    counter += 1\n",
    "    city_code.setdefault(city, counter)\n",
    "data['City Code'] = data['City'].apply(lambda x: city_code[x])"
   ]
  },
  {
   "cell_type": "code",
   "execution_count": 47,
   "metadata": {},
   "outputs": [
    {
     "data": {
      "text/plain": [
       "2.0    23041\n",
       "1.0     7816\n",
       "3.0     1782\n",
       "Name: Price Range New, dtype: int64"
      ]
     },
     "execution_count": 47,
     "metadata": {},
     "output_type": "execute_result"
    }
   ],
   "source": [
    "price_dict = {'$': 1, '$$ - $$$': 2, '$$$$': 3}\n",
    "data['Price Range New'] = data['Price Range']\n",
    "data = data.replace({\"Price Range New\": price_dict})\n",
    "data['Price Range New'].value_counts()"
   ]
  },
  {
   "cell_type": "code",
   "execution_count": 48,
   "metadata": {},
   "outputs": [
    {
     "data": {
      "text/plain": [
       "<matplotlib.axes._subplots.AxesSubplot at 0x7f55f5f25f28>"
      ]
     },
     "execution_count": 48,
     "metadata": {},
     "output_type": "execute_result"
    },
    {
     "data": {
      "image/png": "[encoded data removed]",
      "text/plain": [
       "<Figure size 432x288 with 2 Axes>"
      ]
     },
     "metadata": {
      "needs_background": "light"
     },
     "output_type": "display_data"
    }
   ],
   "source": [
    "corr = data.dropna()[['Price Range New', 'City Code', 'Style_count', 'Ranking', \n",
    "                       'Number of Reviews Rest_id', 'Last Reviews']].corr()\n",
    "sns.heatmap(corr, annot = True, cmap = 'coolwarm')"
   ]
  },
  {
   "cell_type": "code",
   "execution_count": 49,
   "metadata": {},
   "outputs": [
    {
     "data": {
      "text/plain": [
       "2.0    40402\n",
       "1.0     7816\n",
       "3.0     1782\n",
       "Name: Price Range New, dtype: int64"
      ]
     },
     "execution_count": 49,
     "metadata": {},
     "output_type": "execute_result"
    }
   ],
   "source": [
    "# Price Range имеет прямую корреляцию с количеством представленных в ресторане кухонь и количеством ревью\n",
    "# производим замену на среднее по этим параметрам\n",
    "PrR = data.groupby(['Style_count', 'Number of Reviews Rest_id'])['Price Range New'].mean()\n",
    "data['Sc_NRR'] = data['Style_count']&data['Number of Reviews Rest_id']\n",
    "data['PrR'] = data['Sc_NRR'].apply(lambda x: PrR[x])\n",
    "data['Price Range New'] = data['Price Range New'].fillna(round(data['PrR'], 0))\n",
    "data['Price Range New'].value_counts()"
   ]
  },
  {
   "cell_type": "code",
   "execution_count": 50,
   "metadata": {},
   "outputs": [],
   "source": [
    "data = data.drop(['Sc_NRR', 'PrR'], axis = 1)"
   ]
  },
  {
   "cell_type": "code",
   "execution_count": 51,
   "metadata": {},
   "outputs": [
    {
     "data": {
      "text/plain": [
       "$$ - $$$    40402\n",
       "$            7816\n",
       "$$$$         1782\n",
       "Name: Price Range, dtype: int64"
      ]
     },
     "execution_count": 51,
     "metadata": {},
     "output_type": "execute_result"
    }
   ],
   "source": [
    "# можно было и просто на моду заменить...\n",
    "data['Price Range'] = data['Price Range'].fillna('$$ - $$$')\n",
    "data['Price Range'].value_counts()"
   ]
  },
  {
   "cell_type": "code",
   "execution_count": 52,
   "metadata": {},
   "outputs": [],
   "source": [
    "# для One-Hot Encoding в pandas есть готовая функция - get_dummies. Особенно радует параметр dummy_na\n",
    "data['City Name'] = data['City']\n",
    "data = pd.get_dummies(data, columns=[ 'City Name',], dummy_na=True)"
   ]
  },
  {
   "cell_type": "code",
   "execution_count": 53,
   "metadata": {},
   "outputs": [
    {
     "data": {
      "text/html": [
       "<div>\n",
       "<style scoped>\n",
       "    .dataframe tbody tr th:only-of-type {\n",
       "        vertical-align: middle;\n",
       "    }\n",
       "\n",
       "    .dataframe tbody tr th {\n",
       "        vertical-align: top;\n",
       "    }\n",
       "\n",
       "    .dataframe thead th {\n",
       "        text-align: right;\n",
       "    }\n",
       "</style>\n",
       "<table border=\"1\" class=\"dataframe\">\n",
       "  <thead>\n",
       "    <tr style=\"text-align: right;\">\n",
       "      <th></th>\n",
       "      <th>Restaurant_id</th>\n",
       "      <th>City</th>\n",
       "      <th>Cuisine Style</th>\n",
       "      <th>Ranking</th>\n",
       "      <th>Price Range</th>\n",
       "      <th>Number of Reviews</th>\n",
       "      <th>Reviews</th>\n",
       "      <th>URL_TA</th>\n",
       "      <th>ID_TA</th>\n",
       "      <th>sample</th>\n",
       "      <th>...</th>\n",
       "      <th>City Name_Oporto</th>\n",
       "      <th>City Name_Oslo</th>\n",
       "      <th>City Name_Paris</th>\n",
       "      <th>City Name_Prague</th>\n",
       "      <th>City Name_Rome</th>\n",
       "      <th>City Name_Stockholm</th>\n",
       "      <th>City Name_Vienna</th>\n",
       "      <th>City Name_Warsaw</th>\n",
       "      <th>City Name_Zurich</th>\n",
       "      <th>City Name_nan</th>\n",
       "    </tr>\n",
       "  </thead>\n",
       "  <tbody>\n",
       "    <tr>\n",
       "      <th>0</th>\n",
       "      <td>id_0</td>\n",
       "      <td>Paris</td>\n",
       "      <td>[Bar, Pub]</td>\n",
       "      <td>12963.0</td>\n",
       "      <td>$$ - $$$</td>\n",
       "      <td>4.0</td>\n",
       "      <td>NaN</td>\n",
       "      <td>/Restaurant_Review-g187147-d10746918-Reviews-L...</td>\n",
       "      <td>d10746918</td>\n",
       "      <td>0</td>\n",
       "      <td>...</td>\n",
       "      <td>0</td>\n",
       "      <td>0</td>\n",
       "      <td>1</td>\n",
       "      <td>0</td>\n",
       "      <td>0</td>\n",
       "      <td>0</td>\n",
       "      <td>0</td>\n",
       "      <td>0</td>\n",
       "      <td>0</td>\n",
       "      <td>0</td>\n",
       "    </tr>\n",
       "    <tr>\n",
       "      <th>1</th>\n",
       "      <td>id_1</td>\n",
       "      <td>Helsinki</td>\n",
       "      <td>[European, Scandinavian, Gluten Free Options, ...</td>\n",
       "      <td>106.0</td>\n",
       "      <td>$$ - $$$</td>\n",
       "      <td>97.0</td>\n",
       "      <td>[Very good reviews!, Fine dining in Hakaniemi]</td>\n",
       "      <td>/Restaurant_Review-g189934-d6674944-Reviews-Ra...</td>\n",
       "      <td>d6674944</td>\n",
       "      <td>0</td>\n",
       "      <td>...</td>\n",
       "      <td>0</td>\n",
       "      <td>0</td>\n",
       "      <td>0</td>\n",
       "      <td>0</td>\n",
       "      <td>0</td>\n",
       "      <td>0</td>\n",
       "      <td>0</td>\n",
       "      <td>0</td>\n",
       "      <td>0</td>\n",
       "      <td>0</td>\n",
       "    </tr>\n",
       "    <tr>\n",
       "      <th>2</th>\n",
       "      <td>id_2</td>\n",
       "      <td>Edinburgh</td>\n",
       "      <td>[Vegetarian Friendly]</td>\n",
       "      <td>810.0</td>\n",
       "      <td>$$ - $$$</td>\n",
       "      <td>28.0</td>\n",
       "      <td>[Better than the Links, Ivy Black]</td>\n",
       "      <td>/Restaurant_Review-g186525-d13129638-Reviews-B...</td>\n",
       "      <td>d13129638</td>\n",
       "      <td>0</td>\n",
       "      <td>...</td>\n",
       "      <td>0</td>\n",
       "      <td>0</td>\n",
       "      <td>0</td>\n",
       "      <td>0</td>\n",
       "      <td>0</td>\n",
       "      <td>0</td>\n",
       "      <td>0</td>\n",
       "      <td>0</td>\n",
       "      <td>0</td>\n",
       "      <td>0</td>\n",
       "    </tr>\n",
       "    <tr>\n",
       "      <th>3</th>\n",
       "      <td>id_3</td>\n",
       "      <td>London</td>\n",
       "      <td>[Italian, Mediterranean, European, Vegetarian ...</td>\n",
       "      <td>1669.0</td>\n",
       "      <td>$$$$</td>\n",
       "      <td>202.0</td>\n",
       "      <td>[Most exquisite, Delicious and authentic]</td>\n",
       "      <td>/Restaurant_Review-g186338-d680417-Reviews-Qui...</td>\n",
       "      <td>d680417</td>\n",
       "      <td>0</td>\n",
       "      <td>...</td>\n",
       "      <td>0</td>\n",
       "      <td>0</td>\n",
       "      <td>0</td>\n",
       "      <td>0</td>\n",
       "      <td>0</td>\n",
       "      <td>0</td>\n",
       "      <td>0</td>\n",
       "      <td>0</td>\n",
       "      <td>0</td>\n",
       "      <td>0</td>\n",
       "    </tr>\n",
       "    <tr>\n",
       "      <th>4</th>\n",
       "      <td>id_4</td>\n",
       "      <td>Bratislava</td>\n",
       "      <td>[Italian, Mediterranean, European, Seafood, Ve...</td>\n",
       "      <td>37.0</td>\n",
       "      <td>$$$$</td>\n",
       "      <td>162.0</td>\n",
       "      <td>[Always the best in bratislava, Very good but ...</td>\n",
       "      <td>/Restaurant_Review-g274924-d1112354-Reviews-Ma...</td>\n",
       "      <td>d1112354</td>\n",
       "      <td>0</td>\n",
       "      <td>...</td>\n",
       "      <td>0</td>\n",
       "      <td>0</td>\n",
       "      <td>0</td>\n",
       "      <td>0</td>\n",
       "      <td>0</td>\n",
       "      <td>0</td>\n",
       "      <td>0</td>\n",
       "      <td>0</td>\n",
       "      <td>0</td>\n",
       "      <td>0</td>\n",
       "    </tr>\n",
       "  </tbody>\n",
       "</table>\n",
       "<p>5 rows × 56 columns</p>\n",
       "</div>"
      ],
      "text/plain": [
       "  Restaurant_id        City  \\\n",
       "0          id_0       Paris   \n",
       "1          id_1    Helsinki   \n",
       "2          id_2   Edinburgh   \n",
       "3          id_3      London   \n",
       "4          id_4  Bratislava   \n",
       "\n",
       "                                       Cuisine Style  Ranking Price Range  \\\n",
       "0                                         [Bar, Pub]  12963.0    $$ - $$$   \n",
       "1  [European, Scandinavian, Gluten Free Options, ...    106.0    $$ - $$$   \n",
       "2                              [Vegetarian Friendly]    810.0    $$ - $$$   \n",
       "3  [Italian, Mediterranean, European, Vegetarian ...   1669.0        $$$$   \n",
       "4  [Italian, Mediterranean, European, Seafood, Ve...     37.0        $$$$   \n",
       "\n",
       "   Number of Reviews                                            Reviews  \\\n",
       "0                4.0                                                NaN   \n",
       "1               97.0     [Very good reviews!, Fine dining in Hakaniemi]   \n",
       "2               28.0                 [Better than the Links, Ivy Black]   \n",
       "3              202.0          [Most exquisite, Delicious and authentic]   \n",
       "4              162.0  [Always the best in bratislava, Very good but ...   \n",
       "\n",
       "                                              URL_TA      ID_TA  sample  ...  \\\n",
       "0  /Restaurant_Review-g187147-d10746918-Reviews-L...  d10746918       0  ...   \n",
       "1  /Restaurant_Review-g189934-d6674944-Reviews-Ra...   d6674944       0  ...   \n",
       "2  /Restaurant_Review-g186525-d13129638-Reviews-B...  d13129638       0  ...   \n",
       "3  /Restaurant_Review-g186338-d680417-Reviews-Qui...    d680417       0  ...   \n",
       "4  /Restaurant_Review-g274924-d1112354-Reviews-Ma...   d1112354       0  ...   \n",
       "\n",
       "   City Name_Oporto  City Name_Oslo  City Name_Paris  City Name_Prague  \\\n",
       "0                 0               0                1                 0   \n",
       "1                 0               0                0                 0   \n",
       "2                 0               0                0                 0   \n",
       "3                 0               0                0                 0   \n",
       "4                 0               0                0                 0   \n",
       "\n",
       "   City Name_Rome City Name_Stockholm  City Name_Vienna  City Name_Warsaw  \\\n",
       "0               0                   0                 0                 0   \n",
       "1               0                   0                 0                 0   \n",
       "2               0                   0                 0                 0   \n",
       "3               0                   0                 0                 0   \n",
       "4               0                   0                 0                 0   \n",
       "\n",
       "   City Name_Zurich  City Name_nan  \n",
       "0                 0              0  \n",
       "1                 0              0  \n",
       "2                 0              0  \n",
       "3                 0              0  \n",
       "4                 0              0  \n",
       "\n",
       "[5 rows x 56 columns]"
      ]
     },
     "execution_count": 53,
     "metadata": {},
     "output_type": "execute_result"
    }
   ],
   "source": [
    "data.head()"
   ]
  },
  {
   "cell_type": "code",
   "execution_count": 54,
   "metadata": {},
   "outputs": [
    {
     "data": {
      "text/html": [
       "<div>\n",
       "<style scoped>\n",
       "    .dataframe tbody tr th:only-of-type {\n",
       "        vertical-align: middle;\n",
       "    }\n",
       "\n",
       "    .dataframe tbody tr th {\n",
       "        vertical-align: top;\n",
       "    }\n",
       "\n",
       "    .dataframe thead th {\n",
       "        text-align: right;\n",
       "    }\n",
       "</style>\n",
       "<table border=\"1\" class=\"dataframe\">\n",
       "  <thead>\n",
       "    <tr style=\"text-align: right;\">\n",
       "      <th></th>\n",
       "      <th>Restaurant_id</th>\n",
       "      <th>City</th>\n",
       "      <th>Cuisine Style</th>\n",
       "      <th>Ranking</th>\n",
       "      <th>Price Range</th>\n",
       "      <th>Number of Reviews</th>\n",
       "      <th>Reviews</th>\n",
       "      <th>URL_TA</th>\n",
       "      <th>ID_TA</th>\n",
       "      <th>sample</th>\n",
       "      <th>...</th>\n",
       "      <th>City Name_Oporto</th>\n",
       "      <th>City Name_Oslo</th>\n",
       "      <th>City Name_Paris</th>\n",
       "      <th>City Name_Prague</th>\n",
       "      <th>City Name_Rome</th>\n",
       "      <th>City Name_Stockholm</th>\n",
       "      <th>City Name_Vienna</th>\n",
       "      <th>City Name_Warsaw</th>\n",
       "      <th>City Name_Zurich</th>\n",
       "      <th>City Name_nan</th>\n",
       "    </tr>\n",
       "  </thead>\n",
       "  <tbody>\n",
       "    <tr>\n",
       "      <th>39961</th>\n",
       "      <td>id_382</td>\n",
       "      <td>Amsterdam</td>\n",
       "      <td>[Seafood, Chinese, Asian, Vegetarian Friendly,...</td>\n",
       "      <td>383.0</td>\n",
       "      <td>$$ - $$$</td>\n",
       "      <td>845.0</td>\n",
       "      <td>[Excellent location, Authentic cantonese cuisine]</td>\n",
       "      <td>/Restaurant_Review-g188590-d1076655-Reviews-Or...</td>\n",
       "      <td>d1076655</td>\n",
       "      <td>1</td>\n",
       "      <td>...</td>\n",
       "      <td>0</td>\n",
       "      <td>0</td>\n",
       "      <td>0</td>\n",
       "      <td>0</td>\n",
       "      <td>0</td>\n",
       "      <td>0</td>\n",
       "      <td>0</td>\n",
       "      <td>0</td>\n",
       "      <td>0</td>\n",
       "      <td>0</td>\n",
       "    </tr>\n",
       "    <tr>\n",
       "      <th>31658</th>\n",
       "      <td>id_463</td>\n",
       "      <td>Luxembourg</td>\n",
       "      <td>[Vegetarian Friendly]</td>\n",
       "      <td>464.0</td>\n",
       "      <td>$$ - $$$</td>\n",
       "      <td>25.0</td>\n",
       "      <td>[Fine food in chique surrounding, Delicious fo...</td>\n",
       "      <td>/Restaurant_Review-g190356-d10067005-Reviews-C...</td>\n",
       "      <td>d10067005</td>\n",
       "      <td>1</td>\n",
       "      <td>...</td>\n",
       "      <td>0</td>\n",
       "      <td>0</td>\n",
       "      <td>0</td>\n",
       "      <td>0</td>\n",
       "      <td>0</td>\n",
       "      <td>0</td>\n",
       "      <td>0</td>\n",
       "      <td>0</td>\n",
       "      <td>0</td>\n",
       "      <td>0</td>\n",
       "    </tr>\n",
       "    <tr>\n",
       "      <th>16464</th>\n",
       "      <td>id_297</td>\n",
       "      <td>Prague</td>\n",
       "      <td>[Bar]</td>\n",
       "      <td>298.0</td>\n",
       "      <td>$$ - $$$</td>\n",
       "      <td>130.0</td>\n",
       "      <td>[Great - and slightly quirky - cocktail bar, P...</td>\n",
       "      <td>/Restaurant_Review-g274707-d6638537-Reviews-Or...</td>\n",
       "      <td>d6638537</td>\n",
       "      <td>1</td>\n",
       "      <td>...</td>\n",
       "      <td>0</td>\n",
       "      <td>0</td>\n",
       "      <td>0</td>\n",
       "      <td>1</td>\n",
       "      <td>0</td>\n",
       "      <td>0</td>\n",
       "      <td>0</td>\n",
       "      <td>0</td>\n",
       "      <td>0</td>\n",
       "      <td>0</td>\n",
       "    </tr>\n",
       "    <tr>\n",
       "      <th>39194</th>\n",
       "      <td>id_366</td>\n",
       "      <td>Lyon</td>\n",
       "      <td>[Seafood]</td>\n",
       "      <td>367.0</td>\n",
       "      <td>$$ - $$$</td>\n",
       "      <td>274.0</td>\n",
       "      <td>[Excellent food, sluggish service, A Very Plea...</td>\n",
       "      <td>/Restaurant_Review-g187265-d850298-Reviews-Le_...</td>\n",
       "      <td>d850298</td>\n",
       "      <td>1</td>\n",
       "      <td>...</td>\n",
       "      <td>0</td>\n",
       "      <td>0</td>\n",
       "      <td>0</td>\n",
       "      <td>0</td>\n",
       "      <td>0</td>\n",
       "      <td>0</td>\n",
       "      <td>0</td>\n",
       "      <td>0</td>\n",
       "      <td>0</td>\n",
       "      <td>0</td>\n",
       "    </tr>\n",
       "    <tr>\n",
       "      <th>9776</th>\n",
       "      <td>id_9776</td>\n",
       "      <td>Warsaw</td>\n",
       "      <td>[Seafood, Mediterranean, Wine Bar]</td>\n",
       "      <td>548.0</td>\n",
       "      <td>$$ - $$$</td>\n",
       "      <td>8.0</td>\n",
       "      <td>[Oasis, Warsaw]</td>\n",
       "      <td>/Restaurant_Review-g274856-d12351757-Reviews-L...</td>\n",
       "      <td>d12351757</td>\n",
       "      <td>0</td>\n",
       "      <td>...</td>\n",
       "      <td>0</td>\n",
       "      <td>0</td>\n",
       "      <td>0</td>\n",
       "      <td>0</td>\n",
       "      <td>0</td>\n",
       "      <td>0</td>\n",
       "      <td>0</td>\n",
       "      <td>1</td>\n",
       "      <td>0</td>\n",
       "      <td>0</td>\n",
       "    </tr>\n",
       "  </tbody>\n",
       "</table>\n",
       "<p>5 rows × 56 columns</p>\n",
       "</div>"
      ],
      "text/plain": [
       "      Restaurant_id        City  \\\n",
       "39961        id_382   Amsterdam   \n",
       "31658        id_463  Luxembourg   \n",
       "16464        id_297      Prague   \n",
       "39194        id_366        Lyon   \n",
       "9776        id_9776      Warsaw   \n",
       "\n",
       "                                           Cuisine Style  Ranking Price Range  \\\n",
       "39961  [Seafood, Chinese, Asian, Vegetarian Friendly,...    383.0    $$ - $$$   \n",
       "31658                              [Vegetarian Friendly]    464.0    $$ - $$$   \n",
       "16464                                              [Bar]    298.0    $$ - $$$   \n",
       "39194                                          [Seafood]    367.0    $$ - $$$   \n",
       "9776                  [Seafood, Mediterranean, Wine Bar]    548.0    $$ - $$$   \n",
       "\n",
       "       Number of Reviews                                            Reviews  \\\n",
       "39961              845.0  [Excellent location, Authentic cantonese cuisine]   \n",
       "31658               25.0  [Fine food in chique surrounding, Delicious fo...   \n",
       "16464              130.0  [Great - and slightly quirky - cocktail bar, P...   \n",
       "39194              274.0  [Excellent food, sluggish service, A Very Plea...   \n",
       "9776                 8.0                                    [Oasis, Warsaw]   \n",
       "\n",
       "                                                  URL_TA      ID_TA  sample  \\\n",
       "39961  /Restaurant_Review-g188590-d1076655-Reviews-Or...   d1076655       1   \n",
       "31658  /Restaurant_Review-g190356-d10067005-Reviews-C...  d10067005       1   \n",
       "16464  /Restaurant_Review-g274707-d6638537-Reviews-Or...   d6638537       1   \n",
       "39194  /Restaurant_Review-g187265-d850298-Reviews-Le_...    d850298       1   \n",
       "9776   /Restaurant_Review-g274856-d12351757-Reviews-L...  d12351757       0   \n",
       "\n",
       "       ...  City Name_Oporto  City Name_Oslo  City Name_Paris  \\\n",
       "39961  ...                 0               0                0   \n",
       "31658  ...                 0               0                0   \n",
       "16464  ...                 0               0                0   \n",
       "39194  ...                 0               0                0   \n",
       "9776   ...                 0               0                0   \n",
       "\n",
       "       City Name_Prague  City Name_Rome City Name_Stockholm  City Name_Vienna  \\\n",
       "39961                 0               0                   0                 0   \n",
       "31658                 0               0                   0                 0   \n",
       "16464                 1               0                   0                 0   \n",
       "39194                 0               0                   0                 0   \n",
       "9776                  0               0                   0                 0   \n",
       "\n",
       "       City Name_Warsaw  City Name_Zurich  City Name_nan  \n",
       "39961                 0                 0              0  \n",
       "31658                 0                 0              0  \n",
       "16464                 0                 0              0  \n",
       "39194                 0                 0              0  \n",
       "9776                  1                 0              0  \n",
       "\n",
       "[5 rows x 56 columns]"
      ]
     },
     "execution_count": 54,
     "metadata": {},
     "output_type": "execute_result"
    }
   ],
   "source": [
    "data.sample(5)"
   ]
  },
  {
   "cell_type": "code",
   "execution_count": 55,
   "metadata": {},
   "outputs": [
    {
     "data": {
      "text/html": [
       "<div>\n",
       "<style scoped>\n",
       "    .dataframe tbody tr th:only-of-type {\n",
       "        vertical-align: middle;\n",
       "    }\n",
       "\n",
       "    .dataframe tbody tr th {\n",
       "        vertical-align: top;\n",
       "    }\n",
       "\n",
       "    .dataframe thead th {\n",
       "        text-align: right;\n",
       "    }\n",
       "</style>\n",
       "<table border=\"1\" class=\"dataframe\">\n",
       "  <thead>\n",
       "    <tr style=\"text-align: right;\">\n",
       "      <th></th>\n",
       "      <th>Restaurant_id</th>\n",
       "      <th>City</th>\n",
       "      <th>Cuisine Style</th>\n",
       "      <th>Ranking</th>\n",
       "      <th>Number of Reviews</th>\n",
       "      <th>Reviews</th>\n",
       "      <th>URL_TA</th>\n",
       "      <th>ID_TA</th>\n",
       "      <th>sample</th>\n",
       "      <th>Rating</th>\n",
       "      <th>...</th>\n",
       "      <th>City Name_Rome</th>\n",
       "      <th>City Name_Stockholm</th>\n",
       "      <th>City Name_Vienna</th>\n",
       "      <th>City Name_Warsaw</th>\n",
       "      <th>City Name_Zurich</th>\n",
       "      <th>City Name_nan</th>\n",
       "      <th>Price Range_$</th>\n",
       "      <th>Price Range_$$ - $$$</th>\n",
       "      <th>Price Range_$$$$</th>\n",
       "      <th>Price Range_nan</th>\n",
       "    </tr>\n",
       "  </thead>\n",
       "  <tbody>\n",
       "    <tr>\n",
       "      <th>39161</th>\n",
       "      <td>id_13562</td>\n",
       "      <td>Paris</td>\n",
       "      <td>[Other]</td>\n",
       "      <td>13564.0</td>\n",
       "      <td>13.0</td>\n",
       "      <td>[Reasonable spot for coffee, Enjoyed our drink!]</td>\n",
       "      <td>/Restaurant_Review-g187147-d5811563-Reviews-Ta...</td>\n",
       "      <td>d5811563</td>\n",
       "      <td>1</td>\n",
       "      <td>2.5</td>\n",
       "      <td>...</td>\n",
       "      <td>0</td>\n",
       "      <td>0</td>\n",
       "      <td>0</td>\n",
       "      <td>0</td>\n",
       "      <td>0</td>\n",
       "      <td>0</td>\n",
       "      <td>0</td>\n",
       "      <td>1</td>\n",
       "      <td>0</td>\n",
       "      <td>0</td>\n",
       "    </tr>\n",
       "    <tr>\n",
       "      <th>38821</th>\n",
       "      <td>id_1757</td>\n",
       "      <td>Lyon</td>\n",
       "      <td>[Other]</td>\n",
       "      <td>1758.0</td>\n",
       "      <td>2.0</td>\n",
       "      <td>NaN</td>\n",
       "      <td>/Restaurant_Review-g1166685-d11576172-Reviews-...</td>\n",
       "      <td>d11576172</td>\n",
       "      <td>1</td>\n",
       "      <td>4.5</td>\n",
       "      <td>...</td>\n",
       "      <td>0</td>\n",
       "      <td>0</td>\n",
       "      <td>0</td>\n",
       "      <td>0</td>\n",
       "      <td>0</td>\n",
       "      <td>0</td>\n",
       "      <td>0</td>\n",
       "      <td>1</td>\n",
       "      <td>0</td>\n",
       "      <td>0</td>\n",
       "    </tr>\n",
       "    <tr>\n",
       "      <th>9507</th>\n",
       "      <td>id_9507</td>\n",
       "      <td>Madrid</td>\n",
       "      <td>[Other]</td>\n",
       "      <td>5988.0</td>\n",
       "      <td>NaN</td>\n",
       "      <td>NaN</td>\n",
       "      <td>/Restaurant_Review-g187514-d7252240-Reviews-Ca...</td>\n",
       "      <td>d7252240</td>\n",
       "      <td>0</td>\n",
       "      <td>0.0</td>\n",
       "      <td>...</td>\n",
       "      <td>0</td>\n",
       "      <td>0</td>\n",
       "      <td>0</td>\n",
       "      <td>0</td>\n",
       "      <td>0</td>\n",
       "      <td>0</td>\n",
       "      <td>0</td>\n",
       "      <td>1</td>\n",
       "      <td>0</td>\n",
       "      <td>0</td>\n",
       "    </tr>\n",
       "    <tr>\n",
       "      <th>25103</th>\n",
       "      <td>id_4292</td>\n",
       "      <td>Rome</td>\n",
       "      <td>[Italian, Mediterranean, Vegetarian Friendly]</td>\n",
       "      <td>4293.0</td>\n",
       "      <td>557.0</td>\n",
       "      <td>[Fabulous little Restaurant and wine Bar', \"Su...</td>\n",
       "      <td>/Restaurant_Review-g187791-d1901409-Reviews-Ri...</td>\n",
       "      <td>d1901409</td>\n",
       "      <td>1</td>\n",
       "      <td>3.5</td>\n",
       "      <td>...</td>\n",
       "      <td>1</td>\n",
       "      <td>0</td>\n",
       "      <td>0</td>\n",
       "      <td>0</td>\n",
       "      <td>0</td>\n",
       "      <td>0</td>\n",
       "      <td>0</td>\n",
       "      <td>1</td>\n",
       "      <td>0</td>\n",
       "      <td>0</td>\n",
       "    </tr>\n",
       "    <tr>\n",
       "      <th>9374</th>\n",
       "      <td>id_9374</td>\n",
       "      <td>Copenhagen</td>\n",
       "      <td>[European, Grill, Danish, American, Bar]</td>\n",
       "      <td>36.0</td>\n",
       "      <td>696.0</td>\n",
       "      <td>[Yummy, Crazy good]</td>\n",
       "      <td>/Restaurant_Review-g189541-d1393513-Reviews-Sp...</td>\n",
       "      <td>d1393513</td>\n",
       "      <td>0</td>\n",
       "      <td>0.0</td>\n",
       "      <td>...</td>\n",
       "      <td>0</td>\n",
       "      <td>0</td>\n",
       "      <td>0</td>\n",
       "      <td>0</td>\n",
       "      <td>0</td>\n",
       "      <td>0</td>\n",
       "      <td>1</td>\n",
       "      <td>0</td>\n",
       "      <td>0</td>\n",
       "      <td>0</td>\n",
       "    </tr>\n",
       "  </tbody>\n",
       "</table>\n",
       "<p>5 rows × 59 columns</p>\n",
       "</div>"
      ],
      "text/plain": [
       "      Restaurant_id        City  \\\n",
       "39161      id_13562       Paris   \n",
       "38821       id_1757        Lyon   \n",
       "9507        id_9507      Madrid   \n",
       "25103       id_4292        Rome   \n",
       "9374        id_9374  Copenhagen   \n",
       "\n",
       "                                       Cuisine Style  Ranking  \\\n",
       "39161                                        [Other]  13564.0   \n",
       "38821                                        [Other]   1758.0   \n",
       "9507                                         [Other]   5988.0   \n",
       "25103  [Italian, Mediterranean, Vegetarian Friendly]   4293.0   \n",
       "9374        [European, Grill, Danish, American, Bar]     36.0   \n",
       "\n",
       "       Number of Reviews                                            Reviews  \\\n",
       "39161               13.0   [Reasonable spot for coffee, Enjoyed our drink!]   \n",
       "38821                2.0                                                NaN   \n",
       "9507                 NaN                                                NaN   \n",
       "25103              557.0  [Fabulous little Restaurant and wine Bar', \"Su...   \n",
       "9374               696.0                                [Yummy, Crazy good]   \n",
       "\n",
       "                                                  URL_TA      ID_TA  sample  \\\n",
       "39161  /Restaurant_Review-g187147-d5811563-Reviews-Ta...   d5811563       1   \n",
       "38821  /Restaurant_Review-g1166685-d11576172-Reviews-...  d11576172       1   \n",
       "9507   /Restaurant_Review-g187514-d7252240-Reviews-Ca...   d7252240       0   \n",
       "25103  /Restaurant_Review-g187791-d1901409-Reviews-Ri...   d1901409       1   \n",
       "9374   /Restaurant_Review-g189541-d1393513-Reviews-Sp...   d1393513       0   \n",
       "\n",
       "       Rating  ...  City Name_Rome  City Name_Stockholm  City Name_Vienna  \\\n",
       "39161     2.5  ...               0                    0                 0   \n",
       "38821     4.5  ...               0                    0                 0   \n",
       "9507      0.0  ...               0                    0                 0   \n",
       "25103     3.5  ...               1                    0                 0   \n",
       "9374      0.0  ...               0                    0                 0   \n",
       "\n",
       "       City Name_Warsaw City Name_Zurich  City Name_nan  Price Range_$  \\\n",
       "39161                 0                0              0              0   \n",
       "38821                 0                0              0              0   \n",
       "9507                  0                0              0              0   \n",
       "25103                 0                0              0              0   \n",
       "9374                  0                0              0              1   \n",
       "\n",
       "       Price Range_$$ - $$$  Price Range_$$$$  Price Range_nan  \n",
       "39161                     1                 0                0  \n",
       "38821                     1                 0                0  \n",
       "9507                      1                 0                0  \n",
       "25103                     1                 0                0  \n",
       "9374                      0                 0                0  \n",
       "\n",
       "[5 rows x 59 columns]"
      ]
     },
     "execution_count": 55,
     "metadata": {},
     "output_type": "execute_result"
    }
   ],
   "source": [
    "data = pd.get_dummies(data, columns=[ 'Price Range',], dummy_na=True)\n",
    "data.sample(5)"
   ]
  },
  {
   "cell_type": "code",
   "execution_count": 56,
   "metadata": {},
   "outputs": [
    {
     "name": "stdout",
     "output_type": "stream",
     "text": [
      "126\n"
     ]
    }
   ],
   "source": [
    "style_list = []\n",
    "for cuisine in data['Cuisine Style']:\n",
    "    for style in cuisine:\n",
    "        if not(style in style_list):\n",
    "            style_list.append(style)\n",
    "print(len(style_list))"
   ]
  },
  {
   "cell_type": "code",
   "execution_count": 57,
   "metadata": {},
   "outputs": [],
   "source": [
    "def find_item(cell):\n",
    "    if item in cell:\n",
    "        return 1\n",
    "    return 0"
   ]
  },
  {
   "cell_type": "code",
   "execution_count": 58,
   "metadata": {},
   "outputs": [],
   "source": [
    "for item in style_list:\n",
    "    data[item] = data['Cuisine Style'].apply(find_item)"
   ]
  },
  {
   "cell_type": "code",
   "execution_count": 59,
   "metadata": {},
   "outputs": [
    {
     "name": "stdout",
     "output_type": "stream",
     "text": [
      "<class 'pandas.core.frame.DataFrame'>\n",
      "RangeIndex: 50000 entries, 0 to 49999\n",
      "Columns: 185 entries, Restaurant_id to Latvian\n",
      "dtypes: float64(10), int64(129), object(7), uint8(39)\n",
      "memory usage: 57.6+ MB\n"
     ]
    }
   ],
   "source": [
    "data.info()"
   ]
  },
  {
   "cell_type": "code",
   "execution_count": 60,
   "metadata": {},
   "outputs": [
    {
     "name": "stdout",
     "output_type": "stream",
     "text": [
      "0\n",
      "0\n",
      "0\n",
      "0\n"
     ]
    }
   ],
   "source": [
    "print(np.min(data['City Name_nan']))\n",
    "print(np.max(data['City Name_nan']))\n",
    "print(np.min(data['Price Range_nan']))\n",
    "print(np.max(data['Price Range_nan']))"
   ]
  },
  {
   "cell_type": "code",
   "execution_count": 61,
   "metadata": {},
   "outputs": [
    {
     "data": {
      "text/html": [
       "<div>\n",
       "<style scoped>\n",
       "    .dataframe tbody tr th:only-of-type {\n",
       "        vertical-align: middle;\n",
       "    }\n",
       "\n",
       "    .dataframe tbody tr th {\n",
       "        vertical-align: top;\n",
       "    }\n",
       "\n",
       "    .dataframe thead th {\n",
       "        text-align: right;\n",
       "    }\n",
       "</style>\n",
       "<table border=\"1\" class=\"dataframe\">\n",
       "  <thead>\n",
       "    <tr style=\"text-align: right;\">\n",
       "      <th></th>\n",
       "      <th>Restaurant_id</th>\n",
       "      <th>City</th>\n",
       "      <th>Cuisine Style</th>\n",
       "      <th>Ranking</th>\n",
       "      <th>Number of Reviews</th>\n",
       "      <th>Reviews</th>\n",
       "      <th>URL_TA</th>\n",
       "      <th>ID_TA</th>\n",
       "      <th>sample</th>\n",
       "      <th>Rating</th>\n",
       "      <th>...</th>\n",
       "      <th>Albanian</th>\n",
       "      <th>Central Asian</th>\n",
       "      <th>Polynesian</th>\n",
       "      <th>Caucasian</th>\n",
       "      <th>Uzbek</th>\n",
       "      <th>Salvadoran</th>\n",
       "      <th>Xinjiang</th>\n",
       "      <th>Burmese</th>\n",
       "      <th>Fujian</th>\n",
       "      <th>Latvian</th>\n",
       "    </tr>\n",
       "  </thead>\n",
       "  <tbody>\n",
       "    <tr>\n",
       "      <th>5692</th>\n",
       "      <td>id_5692</td>\n",
       "      <td>Oslo</td>\n",
       "      <td>[Sushi, Asian, Korean]</td>\n",
       "      <td>681.0</td>\n",
       "      <td>9.0</td>\n",
       "      <td>[Great food, stiff prices, Quite decent! in Os...</td>\n",
       "      <td>/Restaurant_Review-g190479-d3832734-Reviews-Ti...</td>\n",
       "      <td>d3832734</td>\n",
       "      <td>0</td>\n",
       "      <td>0.0</td>\n",
       "      <td>...</td>\n",
       "      <td>0</td>\n",
       "      <td>0</td>\n",
       "      <td>0</td>\n",
       "      <td>0</td>\n",
       "      <td>0</td>\n",
       "      <td>0</td>\n",
       "      <td>0</td>\n",
       "      <td>0</td>\n",
       "      <td>0</td>\n",
       "      <td>0</td>\n",
       "    </tr>\n",
       "    <tr>\n",
       "      <th>45673</th>\n",
       "      <td>id_11186</td>\n",
       "      <td>Paris</td>\n",
       "      <td>[French, Bar, European]</td>\n",
       "      <td>11188.0</td>\n",
       "      <td>312.0</td>\n",
       "      <td>[Forgettable, Nice location, interesting decor...</td>\n",
       "      <td>/Restaurant_Review-g187147-d816881-Reviews-Le_...</td>\n",
       "      <td>d816881</td>\n",
       "      <td>1</td>\n",
       "      <td>3.0</td>\n",
       "      <td>...</td>\n",
       "      <td>0</td>\n",
       "      <td>0</td>\n",
       "      <td>0</td>\n",
       "      <td>0</td>\n",
       "      <td>0</td>\n",
       "      <td>0</td>\n",
       "      <td>0</td>\n",
       "      <td>0</td>\n",
       "      <td>0</td>\n",
       "      <td>0</td>\n",
       "    </tr>\n",
       "    <tr>\n",
       "      <th>41867</th>\n",
       "      <td>id_8104</td>\n",
       "      <td>London</td>\n",
       "      <td>[Indian, Asian, Balti, Eastern European, Bangl...</td>\n",
       "      <td>8113.0</td>\n",
       "      <td>26.0</td>\n",
       "      <td>[Good old fashioned Indian food, One of the to...</td>\n",
       "      <td>/Restaurant_Review-g186338-d2011044-Reviews-Bo...</td>\n",
       "      <td>d2011044</td>\n",
       "      <td>1</td>\n",
       "      <td>4.0</td>\n",
       "      <td>...</td>\n",
       "      <td>0</td>\n",
       "      <td>0</td>\n",
       "      <td>0</td>\n",
       "      <td>0</td>\n",
       "      <td>0</td>\n",
       "      <td>0</td>\n",
       "      <td>0</td>\n",
       "      <td>0</td>\n",
       "      <td>0</td>\n",
       "      <td>0</td>\n",
       "    </tr>\n",
       "    <tr>\n",
       "      <th>32771</th>\n",
       "      <td>id_1981</td>\n",
       "      <td>Lisbon</td>\n",
       "      <td>[European, Portuguese]</td>\n",
       "      <td>1984.0</td>\n",
       "      <td>19.0</td>\n",
       "      <td>NaN</td>\n",
       "      <td>/Restaurant_Review-g189158-d6001477-Reviews-Re...</td>\n",
       "      <td>d6001477</td>\n",
       "      <td>1</td>\n",
       "      <td>4.5</td>\n",
       "      <td>...</td>\n",
       "      <td>0</td>\n",
       "      <td>0</td>\n",
       "      <td>0</td>\n",
       "      <td>0</td>\n",
       "      <td>0</td>\n",
       "      <td>0</td>\n",
       "      <td>0</td>\n",
       "      <td>0</td>\n",
       "      <td>0</td>\n",
       "      <td>0</td>\n",
       "    </tr>\n",
       "    <tr>\n",
       "      <th>4349</th>\n",
       "      <td>id_4349</td>\n",
       "      <td>Madrid</td>\n",
       "      <td>[Other]</td>\n",
       "      <td>6540.0</td>\n",
       "      <td>10.0</td>\n",
       "      <td>NaN</td>\n",
       "      <td>/Restaurant_Review-g187514-d5489560-Reviews-Mc...</td>\n",
       "      <td>d5489560</td>\n",
       "      <td>0</td>\n",
       "      <td>0.0</td>\n",
       "      <td>...</td>\n",
       "      <td>0</td>\n",
       "      <td>0</td>\n",
       "      <td>0</td>\n",
       "      <td>0</td>\n",
       "      <td>0</td>\n",
       "      <td>0</td>\n",
       "      <td>0</td>\n",
       "      <td>0</td>\n",
       "      <td>0</td>\n",
       "      <td>0</td>\n",
       "    </tr>\n",
       "  </tbody>\n",
       "</table>\n",
       "<p>5 rows × 185 columns</p>\n",
       "</div>"
      ],
      "text/plain": [
       "      Restaurant_id    City  \\\n",
       "5692        id_5692    Oslo   \n",
       "45673      id_11186   Paris   \n",
       "41867       id_8104  London   \n",
       "32771       id_1981  Lisbon   \n",
       "4349        id_4349  Madrid   \n",
       "\n",
       "                                           Cuisine Style  Ranking  \\\n",
       "5692                              [Sushi, Asian, Korean]    681.0   \n",
       "45673                            [French, Bar, European]  11188.0   \n",
       "41867  [Indian, Asian, Balti, Eastern European, Bangl...   8113.0   \n",
       "32771                             [European, Portuguese]   1984.0   \n",
       "4349                                             [Other]   6540.0   \n",
       "\n",
       "       Number of Reviews                                            Reviews  \\\n",
       "5692                 9.0  [Great food, stiff prices, Quite decent! in Os...   \n",
       "45673              312.0  [Forgettable, Nice location, interesting decor...   \n",
       "41867               26.0  [Good old fashioned Indian food, One of the to...   \n",
       "32771               19.0                                                NaN   \n",
       "4349                10.0                                                NaN   \n",
       "\n",
       "                                                  URL_TA     ID_TA  sample  \\\n",
       "5692   /Restaurant_Review-g190479-d3832734-Reviews-Ti...  d3832734       0   \n",
       "45673  /Restaurant_Review-g187147-d816881-Reviews-Le_...   d816881       1   \n",
       "41867  /Restaurant_Review-g186338-d2011044-Reviews-Bo...  d2011044       1   \n",
       "32771  /Restaurant_Review-g189158-d6001477-Reviews-Re...  d6001477       1   \n",
       "4349   /Restaurant_Review-g187514-d5489560-Reviews-Mc...  d5489560       0   \n",
       "\n",
       "       Rating  ...  Albanian  Central Asian  Polynesian  Caucasian Uzbek  \\\n",
       "5692      0.0  ...         0              0           0          0     0   \n",
       "45673     3.0  ...         0              0           0          0     0   \n",
       "41867     4.0  ...         0              0           0          0     0   \n",
       "32771     4.5  ...         0              0           0          0     0   \n",
       "4349      0.0  ...         0              0           0          0     0   \n",
       "\n",
       "       Salvadoran  Xinjiang  Burmese  Fujian  Latvian  \n",
       "5692            0         0        0       0        0  \n",
       "45673           0         0        0       0        0  \n",
       "41867           0         0        0       0        0  \n",
       "32771           0         0        0       0        0  \n",
       "4349            0         0        0       0        0  \n",
       "\n",
       "[5 rows x 185 columns]"
      ]
     },
     "execution_count": 61,
     "metadata": {},
     "output_type": "execute_result"
    }
   ],
   "source": [
    "data.sample(5)"
   ]
  },
  {
   "cell_type": "code",
   "execution_count": null,
   "metadata": {},
   "outputs": [],
   "source": []
  },
  {
   "cell_type": "markdown",
   "metadata": {},
   "source": [
    "![](https://cs10.pikabu.ru/post_img/2018/09/06/11/1536261023140110012.jpg)"
   ]
  },
  {
   "cell_type": "markdown",
   "metadata": {},
   "source": [
    "# EDA \n",
    "[Exploratory Data Analysis](https://ru.wikipedia.org/wiki/Разведочный_анализ_данных) - Анализ данных\n",
    "На этом этапе мы строим графики, ищем закономерности, аномалии, выбросы или связи между признаками.\n",
    "В общем цель этого этапа понять, что эти данные могут нам дать и как признаки могут быть взаимосвязаны между собой.\n",
    "Понимание изначальных признаков позволит сгенерировать новые, более сильные и, тем самым, сделать нашу модель лучше.\n",
    "![](https://miro.medium.com/max/2598/1*RXdMb7Uk6mGqWqPguHULaQ.png)"
   ]
  },
  {
   "cell_type": "markdown",
   "metadata": {},
   "source": [
    "### Посмотрим распределение признака"
   ]
  },
  {
   "cell_type": "code",
   "execution_count": 62,
   "metadata": {},
   "outputs": [
    {
     "data": {
      "text/plain": [
       "<matplotlib.axes._subplots.AxesSubplot at 0x7f55f6e8c7b8>"
      ]
     },
     "execution_count": 62,
     "metadata": {},
     "output_type": "execute_result"
    },
    {
     "data": {
      "image/png": "[encoded data removed]",
      "text/plain": [
       "<Figure size 720x504 with 1 Axes>"
      ]
     },
     "metadata": {
      "needs_background": "light"
     },
     "output_type": "display_data"
    }
   ],
   "source": [
    "plt.rcParams['figure.figsize'] = (10,7)\n",
    "data['Ranking'].hist(bins=100)"
   ]
  },
  {
   "cell_type": "markdown",
   "metadata": {},
   "source": [
    "У нас много ресторанов, которые не дотягивают и до 2500 места в своем городе, а что там по городам?"
   ]
  },
  {
   "cell_type": "code",
   "execution_count": 63,
   "metadata": {},
   "outputs": [
    {
     "data": {
      "text/plain": [
       "<matplotlib.axes._subplots.AxesSubplot at 0x7f55f6b2cfd0>"
      ]
     },
     "execution_count": 63,
     "metadata": {},
     "output_type": "execute_result"
    },
    {
     "data": {
      "image/png": "[encoded data removed]",
      "text/plain": [
       "<Figure size 720x504 with 1 Axes>"
      ]
     },
     "metadata": {
      "needs_background": "light"
     },
     "output_type": "display_data"
    }
   ],
   "source": [
    "data['City'].value_counts(ascending=True).plot(kind='barh')"
   ]
  },
  {
   "cell_type": "markdown",
   "metadata": {},
   "source": [
    "А кто-то говорил, что французы любят поесть=) Посмотрим, как изменится распределение в большом городе:"
   ]
  },
  {
   "cell_type": "code",
   "execution_count": 64,
   "metadata": {},
   "outputs": [
    {
     "data": {
      "text/plain": [
       "<matplotlib.axes._subplots.AxesSubplot at 0x7f55f74bc5c0>"
      ]
     },
     "execution_count": 64,
     "metadata": {},
     "output_type": "execute_result"
    },
    {
     "data": {
      "image/png": "[encoded data removed]",
      "text/plain": [
       "<Figure size 720x504 with 1 Axes>"
      ]
     },
     "metadata": {
      "needs_background": "light"
     },
     "output_type": "display_data"
    }
   ],
   "source": [
    "data['Ranking'][data['City'] =='London'].hist(bins=100)"
   ]
  },
  {
   "cell_type": "code",
   "execution_count": 65,
   "metadata": {},
   "outputs": [
    {
     "data": {
      "image/png": "[encoded data removed]",
      "text/plain": [
       "<Figure size 720x504 with 1 Axes>"
      ]
     },
     "metadata": {
      "needs_background": "light"
     },
     "output_type": "display_data"
    }
   ],
   "source": [
    "# посмотрим на топ 10 городов\n",
    "for x in (data['City'].value_counts())[0:10].index:\n",
    "    data['Ranking'][data['City'] == x].hist(bins=100)\n",
    "plt.show()"
   ]
  },
  {
   "cell_type": "markdown",
   "metadata": {},
   "source": [
    "Получается, что Ranking имеет нормальное распределение, просто в больших городах больше ресторанов, из-за мы этого имеем смещение.\n",
    "\n",
    ">Подумайте как из этого можно сделать признак для вашей модели. Я покажу вам пример, как визуализация помогает находить взаимосвязи. А далее действуйте без подсказок =) \n"
   ]
  },
  {
   "cell_type": "code",
   "execution_count": 66,
   "metadata": {},
   "outputs": [],
   "source": [
    "from sklearn.preprocessing import MinMaxScaler\n",
    "ranking_scaler = MinMaxScaler()\n",
    "# не получилось применить нормализацию - не поняла как это сделать в рамках отдельного города - сделала руками"
   ]
  },
  {
   "cell_type": "code",
   "execution_count": 67,
   "metadata": {},
   "outputs": [
    {
     "name": "stdout",
     "output_type": "stream",
     "text": [
      "31\n"
     ]
    }
   ],
   "source": [
    "city_list = []\n",
    "for city in data['City']:\n",
    "    if not(city in city_list):\n",
    "        city_list.append(city)\n",
    "print(len(city_list))"
   ]
  },
  {
   "cell_type": "code",
   "execution_count": 68,
   "metadata": {},
   "outputs": [],
   "source": [
    "city_x_min = {}\n",
    "city_x_max = {}\n",
    "x_min = 0\n",
    "x_max = 0\n",
    "for city in city_list:\n",
    "    x_min = np.min(data['Ranking'][data['City'] == city])\n",
    "    x_max = np.max(data['Ranking'][data['City'] == city])\n",
    "    city_x_min.setdefault(city, x_min)\n",
    "    city_x_max.setdefault(city, x_max)\n",
    "\n",
    "data['city_x_min'] = data['City'].apply(lambda x: city_x_min[x])\n",
    "data['city_x_max'] = data['City'].apply(lambda x: city_x_max[x])\n",
    "\n",
    "data['Ranking_new'] = round((data['Ranking'] - data['city_x_min'])/(data['city_x_max'] - data['city_x_min']), 5)\n",
    "\n",
    "data = data.drop(['city_x_min', 'city_x_max'], axis = 1)"
   ]
  },
  {
   "cell_type": "code",
   "execution_count": 69,
   "metadata": {},
   "outputs": [
    {
     "data": {
      "image/png": "[encoded data removed]",
      "text/plain": [
       "<Figure size 720x504 with 1 Axes>"
      ]
     },
     "metadata": {
      "needs_background": "light"
     },
     "output_type": "display_data"
    }
   ],
   "source": [
    "for x in (data['City'].value_counts())[0:10].index:\n",
    "    data['Ranking_new'][data['City'] == x].hist(bins=100)\n",
    "plt.show()"
   ]
  },
  {
   "cell_type": "markdown",
   "metadata": {},
   "source": [
    "### Посмотрим распределение целевой переменной"
   ]
  },
  {
   "cell_type": "code",
   "execution_count": 70,
   "metadata": {},
   "outputs": [
    {
     "data": {
      "text/plain": [
       "<matplotlib.axes._subplots.AxesSubplot at 0x7f55e5cba080>"
      ]
     },
     "execution_count": 70,
     "metadata": {},
     "output_type": "execute_result"
    },
    {
     "data": {
      "image/png": "[encoded data removed]",
      "text/plain": [
       "<Figure size 720x504 with 1 Axes>"
      ]
     },
     "metadata": {
      "needs_background": "light"
     },
     "output_type": "display_data"
    }
   ],
   "source": [
    "data_train = data[data['sample'] == 1]\n",
    "data_train['Rating'].value_counts(ascending=True).plot(kind='barh')"
   ]
  },
  {
   "cell_type": "markdown",
   "metadata": {},
   "source": [
    "### Посмотрим распределение целевой переменной относительно признака"
   ]
  },
  {
   "cell_type": "code",
   "execution_count": 71,
   "metadata": {},
   "outputs": [
    {
     "data": {
      "text/plain": [
       "<matplotlib.axes._subplots.AxesSubplot at 0x7f55f5edec50>"
      ]
     },
     "execution_count": 71,
     "metadata": {},
     "output_type": "execute_result"
    },
    {
     "data": {
      "image/png": "[encoded data removed]",
      "text/plain": [
       "<Figure size 720x504 with 1 Axes>"
      ]
     },
     "metadata": {
      "needs_background": "light"
     },
     "output_type": "display_data"
    }
   ],
   "source": [
    "data_train['Ranking_new'][data['Rating'] == 5].hist(bins=100)"
   ]
  },
  {
   "cell_type": "code",
   "execution_count": 72,
   "metadata": {},
   "outputs": [
    {
     "data": {
      "text/plain": [
       "<matplotlib.axes._subplots.AxesSubplot at 0x7f55f68444a8>"
      ]
     },
     "execution_count": 72,
     "metadata": {},
     "output_type": "execute_result"
    },
    {
     "data": {
      "image/png": "[encoded data removed]",
      "text/plain": [
       "<Figure size 720x504 with 1 Axes>"
      ]
     },
     "metadata": {
      "needs_background": "light"
     },
     "output_type": "display_data"
    }
   ],
   "source": [
    "data_train['Ranking_new'][data_train['Rating'] < 4].hist(bins=100)"
   ]
  },
  {
   "cell_type": "markdown",
   "metadata": {},
   "source": [
    "### И один из моих любимых - [корреляция признаков](https://ru.wikipedia.org/wiki/Корреляция)\n",
    "На этом графике уже сейчас вы сможете заметить, как признаки связаны между собой и с целевой переменной."
   ]
  },
  {
   "cell_type": "code",
   "execution_count": 73,
   "metadata": {},
   "outputs": [],
   "source": [
    "# посчитаем сколько ресторанов в каждом городе\n",
    "Rest_in_City = data.dropna().groupby(['City'])['Restaurant_id'].count()\n",
    "data['Rest_in_City'] = data['City'].apply(lambda x: Rest_in_City[x])"
   ]
  },
  {
   "cell_type": "code",
   "execution_count": 74,
   "metadata": {},
   "outputs": [
    {
     "ename": "KeyError",
     "evalue": "\"['Rest_in_City'] not in index\"",
     "output_type": "error",
     "traceback": [
      "\u001b[0;31m---------------------------------------------------------------------------\u001b[0m",
      "\u001b[0;31mKeyError\u001b[0m                                  Traceback (most recent call last)",
      "\u001b[0;32m<ipython-input-74-ca1ca578c1b9>\u001b[0m in \u001b[0;36m<module>\u001b[0;34m\u001b[0m\n\u001b[1;32m      2\u001b[0m corr = data_train[['Rating', 'Ranking_new', 'Ranking', 'Price Range New','City Code', 'Rest_in_City', 'Style_count',\n\u001b[1;32m      3\u001b[0m                    \u001b[0;34m'Number of Reviews New'\u001b[0m\u001b[0;34m,\u001b[0m \u001b[0;34m'Number of Reviews City'\u001b[0m\u001b[0;34m,\u001b[0m\u001b[0;34m\u001b[0m\u001b[0m\n\u001b[0;32m----> 4\u001b[0;31m                    'Number of Reviews Rest_id', 'Reviews period', 'Last Reviews', 'Reviews_count']].corr()\n\u001b[0m\u001b[1;32m      5\u001b[0m \u001b[0msns\u001b[0m\u001b[0;34m.\u001b[0m\u001b[0mheatmap\u001b[0m\u001b[0;34m(\u001b[0m\u001b[0mcorr\u001b[0m\u001b[0;34m,\u001b[0m \u001b[0mannot\u001b[0m \u001b[0;34m=\u001b[0m \u001b[0;32mTrue\u001b[0m\u001b[0;34m,\u001b[0m \u001b[0mcmap\u001b[0m \u001b[0;34m=\u001b[0m \u001b[0;34m'coolwarm'\u001b[0m\u001b[0;34m)\u001b[0m\u001b[0;34m\u001b[0m\u001b[0m\n",
      "\u001b[0;32m/opt/conda/lib/python3.6/site-packages/pandas/core/frame.py\u001b[0m in \u001b[0;36m__getitem__\u001b[0;34m(self, key)\u001b[0m\n\u001b[1;32m   2999\u001b[0m             \u001b[0;32mif\u001b[0m \u001b[0mis_iterator\u001b[0m\u001b[0;34m(\u001b[0m\u001b[0mkey\u001b[0m\u001b[0;34m)\u001b[0m\u001b[0;34m:\u001b[0m\u001b[0;34m\u001b[0m\u001b[0m\n\u001b[1;32m   3000\u001b[0m                 \u001b[0mkey\u001b[0m \u001b[0;34m=\u001b[0m \u001b[0mlist\u001b[0m\u001b[0;34m(\u001b[0m\u001b[0mkey\u001b[0m\u001b[0;34m)\u001b[0m\u001b[0;34m\u001b[0m\u001b[0m\n\u001b[0;32m-> 3001\u001b[0;31m             \u001b[0mindexer\u001b[0m \u001b[0;34m=\u001b[0m \u001b[0mself\u001b[0m\u001b[0;34m.\u001b[0m\u001b[0mloc\u001b[0m\u001b[0;34m.\u001b[0m\u001b[0m_convert_to_indexer\u001b[0m\u001b[0;34m(\u001b[0m\u001b[0mkey\u001b[0m\u001b[0;34m,\u001b[0m \u001b[0maxis\u001b[0m\u001b[0;34m=\u001b[0m\u001b[0;36m1\u001b[0m\u001b[0;34m,\u001b[0m \u001b[0mraise_missing\u001b[0m\u001b[0;34m=\u001b[0m\u001b[0;32mTrue\u001b[0m\u001b[0;34m)\u001b[0m\u001b[0;34m\u001b[0m\u001b[0m\n\u001b[0m\u001b[1;32m   3002\u001b[0m \u001b[0;34m\u001b[0m\u001b[0m\n\u001b[1;32m   3003\u001b[0m         \u001b[0;31m# take() does not accept boolean indexers\u001b[0m\u001b[0;34m\u001b[0m\u001b[0;34m\u001b[0m\u001b[0m\n",
      "\u001b[0;32m/opt/conda/lib/python3.6/site-packages/pandas/core/indexing.py\u001b[0m in \u001b[0;36m_convert_to_indexer\u001b[0;34m(self, obj, axis, is_setter, raise_missing)\u001b[0m\n\u001b[1;32m   1283\u001b[0m                 \u001b[0;31m# When setting, missing keys are not allowed, even with .loc:\u001b[0m\u001b[0;34m\u001b[0m\u001b[0;34m\u001b[0m\u001b[0m\n\u001b[1;32m   1284\u001b[0m                 \u001b[0mkwargs\u001b[0m \u001b[0;34m=\u001b[0m \u001b[0;34m{\u001b[0m\u001b[0;34m\"raise_missing\"\u001b[0m\u001b[0;34m:\u001b[0m \u001b[0;32mTrue\u001b[0m \u001b[0;32mif\u001b[0m \u001b[0mis_setter\u001b[0m \u001b[0;32melse\u001b[0m \u001b[0mraise_missing\u001b[0m\u001b[0;34m}\u001b[0m\u001b[0;34m\u001b[0m\u001b[0m\n\u001b[0;32m-> 1285\u001b[0;31m                 \u001b[0;32mreturn\u001b[0m \u001b[0mself\u001b[0m\u001b[0;34m.\u001b[0m\u001b[0m_get_listlike_indexer\u001b[0m\u001b[0;34m(\u001b[0m\u001b[0mobj\u001b[0m\u001b[0;34m,\u001b[0m \u001b[0maxis\u001b[0m\u001b[0;34m,\u001b[0m \u001b[0;34m**\u001b[0m\u001b[0mkwargs\u001b[0m\u001b[0;34m)\u001b[0m\u001b[0;34m[\u001b[0m\u001b[0;36m1\u001b[0m\u001b[0;34m]\u001b[0m\u001b[0;34m\u001b[0m\u001b[0m\n\u001b[0m\u001b[1;32m   1286\u001b[0m         \u001b[0;32melse\u001b[0m\u001b[0;34m:\u001b[0m\u001b[0;34m\u001b[0m\u001b[0m\n\u001b[1;32m   1287\u001b[0m             \u001b[0;32mtry\u001b[0m\u001b[0;34m:\u001b[0m\u001b[0;34m\u001b[0m\u001b[0m\n",
      "\u001b[0;32m/opt/conda/lib/python3.6/site-packages/pandas/core/indexing.py\u001b[0m in \u001b[0;36m_get_listlike_indexer\u001b[0;34m(self, key, axis, raise_missing)\u001b[0m\n\u001b[1;32m   1090\u001b[0m \u001b[0;34m\u001b[0m\u001b[0m\n\u001b[1;32m   1091\u001b[0m         self._validate_read_indexer(\n\u001b[0;32m-> 1092\u001b[0;31m             \u001b[0mkeyarr\u001b[0m\u001b[0;34m,\u001b[0m \u001b[0mindexer\u001b[0m\u001b[0;34m,\u001b[0m \u001b[0mo\u001b[0m\u001b[0;34m.\u001b[0m\u001b[0m_get_axis_number\u001b[0m\u001b[0;34m(\u001b[0m\u001b[0maxis\u001b[0m\u001b[0;34m)\u001b[0m\u001b[0;34m,\u001b[0m \u001b[0mraise_missing\u001b[0m\u001b[0;34m=\u001b[0m\u001b[0mraise_missing\u001b[0m\u001b[0;34m\u001b[0m\u001b[0m\n\u001b[0m\u001b[1;32m   1093\u001b[0m         )\n\u001b[1;32m   1094\u001b[0m         \u001b[0;32mreturn\u001b[0m \u001b[0mkeyarr\u001b[0m\u001b[0;34m,\u001b[0m \u001b[0mindexer\u001b[0m\u001b[0;34m\u001b[0m\u001b[0m\n",
      "\u001b[0;32m/opt/conda/lib/python3.6/site-packages/pandas/core/indexing.py\u001b[0m in \u001b[0;36m_validate_read_indexer\u001b[0;34m(self, key, indexer, axis, raise_missing)\u001b[0m\n\u001b[1;32m   1183\u001b[0m             \u001b[0;32mif\u001b[0m \u001b[0;32mnot\u001b[0m \u001b[0;34m(\u001b[0m\u001b[0mself\u001b[0m\u001b[0;34m.\u001b[0m\u001b[0mname\u001b[0m \u001b[0;34m==\u001b[0m \u001b[0;34m\"loc\"\u001b[0m \u001b[0;32mand\u001b[0m \u001b[0;32mnot\u001b[0m \u001b[0mraise_missing\u001b[0m\u001b[0;34m)\u001b[0m\u001b[0;34m:\u001b[0m\u001b[0;34m\u001b[0m\u001b[0m\n\u001b[1;32m   1184\u001b[0m                 \u001b[0mnot_found\u001b[0m \u001b[0;34m=\u001b[0m \u001b[0mlist\u001b[0m\u001b[0;34m(\u001b[0m\u001b[0mset\u001b[0m\u001b[0;34m(\u001b[0m\u001b[0mkey\u001b[0m\u001b[0;34m)\u001b[0m \u001b[0;34m-\u001b[0m \u001b[0mset\u001b[0m\u001b[0;34m(\u001b[0m\u001b[0max\u001b[0m\u001b[0;34m)\u001b[0m\u001b[0;34m)\u001b[0m\u001b[0;34m\u001b[0m\u001b[0m\n\u001b[0;32m-> 1185\u001b[0;31m                 \u001b[0;32mraise\u001b[0m \u001b[0mKeyError\u001b[0m\u001b[0;34m(\u001b[0m\u001b[0;34m\"{} not in index\"\u001b[0m\u001b[0;34m.\u001b[0m\u001b[0mformat\u001b[0m\u001b[0;34m(\u001b[0m\u001b[0mnot_found\u001b[0m\u001b[0;34m)\u001b[0m\u001b[0;34m)\u001b[0m\u001b[0;34m\u001b[0m\u001b[0m\n\u001b[0m\u001b[1;32m   1186\u001b[0m \u001b[0;34m\u001b[0m\u001b[0m\n\u001b[1;32m   1187\u001b[0m             \u001b[0;31m# we skip the warning on Categorical/Interval\u001b[0m\u001b[0;34m\u001b[0m\u001b[0;34m\u001b[0m\u001b[0m\n",
      "\u001b[0;31mKeyError\u001b[0m: \"['Rest_in_City'] not in index\""
     ]
    }
   ],
   "source": [
    "plt.rcParams['figure.figsize'] = (15,10)\n",
    "corr = data_train[['Rating', 'Ranking_new', 'Ranking', 'Price Range New','City Code', 'Rest_in_City', 'Style_count',\n",
    "                   'Number of Reviews New', 'Number of Reviews City',\n",
    "                   'Number of Reviews Rest_id', 'Reviews period', 'Last Reviews', 'Reviews_count']].corr()\n",
    "sns.heatmap(corr, annot = True, cmap = 'coolwarm')"
   ]
  },
  {
   "cell_type": "code",
   "execution_count": 75,
   "metadata": {},
   "outputs": [
    {
     "data": {
      "text/plain": [
       "{1: 'Restaurant_id',\n",
       " 2: 'City',\n",
       " 3: 'Cuisine Style',\n",
       " 4: 'Ranking',\n",
       " 5: 'Number of Reviews',\n",
       " 6: 'Reviews',\n",
       " 7: 'URL_TA',\n",
       " 8: 'ID_TA',\n",
       " 9: 'sample',\n",
       " 10: 'Rating',\n",
       " 11: 'Number_of_Reviews_isNAN',\n",
       " 12: 'Cuisine_Style_isNAN',\n",
       " 13: 'Style_count',\n",
       " 14: 'Reviews&date_isNAN',\n",
       " 15: 'Reviews date',\n",
       " 16: 'Reviews_count',\n",
       " 17: 'Number of Reviews New',\n",
       " 18: 'Number of Reviews City',\n",
       " 19: 'Number of Reviews Rest_id',\n",
       " 20: 'Reviews period',\n",
       " 21: 'Last Reviews',\n",
       " 22: 'City Code',\n",
       " 23: 'Price Range New',\n",
       " 24: 'City Name_Amsterdam',\n",
       " 25: 'City Name_Athens',\n",
       " 26: 'City Name_Barcelona',\n",
       " 27: 'City Name_Berlin',\n",
       " 28: 'City Name_Bratislava',\n",
       " 29: 'City Name_Brussels',\n",
       " 30: 'City Name_Budapest',\n",
       " 31: 'City Name_Copenhagen',\n",
       " 32: 'City Name_Dublin',\n",
       " 33: 'City Name_Edinburgh',\n",
       " 34: 'City Name_Geneva',\n",
       " 35: 'City Name_Hamburg',\n",
       " 36: 'City Name_Helsinki',\n",
       " 37: 'City Name_Krakow',\n",
       " 38: 'City Name_Lisbon',\n",
       " 39: 'City Name_Ljubljana',\n",
       " 40: 'City Name_London',\n",
       " 41: 'City Name_Luxembourg',\n",
       " 42: 'City Name_Lyon',\n",
       " 43: 'City Name_Madrid',\n",
       " 44: 'City Name_Milan',\n",
       " 45: 'City Name_Munich',\n",
       " 46: 'City Name_Oporto',\n",
       " 47: 'City Name_Oslo',\n",
       " 48: 'City Name_Paris',\n",
       " 49: 'City Name_Prague',\n",
       " 50: 'City Name_Rome',\n",
       " 51: 'City Name_Stockholm',\n",
       " 52: 'City Name_Vienna',\n",
       " 53: 'City Name_Warsaw',\n",
       " 54: 'City Name_Zurich',\n",
       " 55: 'City Name_nan',\n",
       " 56: 'Price Range_$',\n",
       " 57: 'Price Range_$$ - $$$',\n",
       " 58: 'Price Range_$$$$',\n",
       " 59: 'Price Range_nan',\n",
       " 60: 'Bar',\n",
       " 61: 'Pub',\n",
       " 62: 'European',\n",
       " 63: 'Scandinavian',\n",
       " 64: 'Gluten Free Options',\n",
       " 65: 'Vegetarian Friendly',\n",
       " 66: 'Vegan Options',\n",
       " 67: 'Italian',\n",
       " 68: 'Mediterranean',\n",
       " 69: 'Seafood',\n",
       " 70: 'French',\n",
       " 71: 'Cafe',\n",
       " 72: 'Fast Food',\n",
       " 73: 'Portuguese',\n",
       " 74: 'Other',\n",
       " 75: 'Greek',\n",
       " 76: 'Czech',\n",
       " 77: 'Eastern European',\n",
       " 78: 'Central European',\n",
       " 79: 'Pizza',\n",
       " 80: 'British',\n",
       " 81: 'Spanish',\n",
       " 82: 'Norwegian',\n",
       " 83: 'African',\n",
       " 84: 'Moroccan',\n",
       " 85: 'Middle Eastern',\n",
       " 86: 'Halal',\n",
       " 87: 'Indian',\n",
       " 88: 'Thai',\n",
       " 89: 'Dutch',\n",
       " 90: 'Welsh',\n",
       " 91: 'American',\n",
       " 92: 'Steakhouse',\n",
       " 93: 'Soups',\n",
       " 94: 'Scottish',\n",
       " 95: 'Fusion',\n",
       " 96: 'Street Food',\n",
       " 97: 'Hungarian',\n",
       " 98: 'Asian',\n",
       " 99: 'Wine Bar',\n",
       " 100: 'Barbecue',\n",
       " 101: 'Central American',\n",
       " 102: 'Peruvian',\n",
       " 103: 'South American',\n",
       " 104: 'Irish',\n",
       " 105: 'Polish',\n",
       " 106: 'Vietnamese',\n",
       " 107: 'Lebanese',\n",
       " 108: 'Turkish',\n",
       " 109: 'Healthy',\n",
       " 110: 'Japanese',\n",
       " 111: 'Sushi',\n",
       " 112: 'Austrian',\n",
       " 113: 'Chinese',\n",
       " 114: 'Danish',\n",
       " 115: 'International',\n",
       " 116: 'Gastropub',\n",
       " 117: 'Korean',\n",
       " 118: 'German',\n",
       " 119: 'Contemporary',\n",
       " 120: 'Arabic',\n",
       " 121: 'Diner',\n",
       " 122: 'Swiss',\n",
       " 123: 'Swedish',\n",
       " 124: 'Persian',\n",
       " 125: 'Australian',\n",
       " 126: 'Grill',\n",
       " 127: 'Mexican',\n",
       " 128: 'Latin',\n",
       " 129: 'Belgian',\n",
       " 130: 'Argentinean',\n",
       " 131: 'Tunisian',\n",
       " 132: 'Russian',\n",
       " 133: 'Nepali',\n",
       " 134: 'Bangladeshi',\n",
       " 135: 'Colombian',\n",
       " 136: 'Sri Lankan',\n",
       " 137: 'Pakistani',\n",
       " 138: 'Brew Pub',\n",
       " 139: 'Israeli',\n",
       " 140: 'Brazilian',\n",
       " 141: 'Delicatessen',\n",
       " 142: 'Kosher',\n",
       " 143: 'Ethiopian',\n",
       " 144: 'Taiwanese',\n",
       " 145: 'Indonesian',\n",
       " 146: 'Malaysian',\n",
       " 147: 'Venezuelan',\n",
       " 148: 'Balti',\n",
       " 149: 'Armenian',\n",
       " 150: 'Slovenian',\n",
       " 151: 'Caribbean',\n",
       " 152: 'Jamaican',\n",
       " 153: 'Ecuadorean',\n",
       " 154: 'Chilean',\n",
       " 155: 'Hawaiian',\n",
       " 156: 'Minority Chinese',\n",
       " 157: 'Croatian',\n",
       " 158: 'Cambodian',\n",
       " 159: 'Afghani',\n",
       " 160: 'Tibetan',\n",
       " 161: 'Romanian',\n",
       " 162: 'Southwestern',\n",
       " 163: 'Mongolian',\n",
       " 164: 'Cajun & Creole',\n",
       " 165: 'Singaporean',\n",
       " 166: 'Filipino',\n",
       " 167: 'Cuban',\n",
       " 168: 'Native American',\n",
       " 169: 'Canadian',\n",
       " 170: 'Egyptian',\n",
       " 171: 'Azerbaijani',\n",
       " 172: 'Georgian',\n",
       " 173: 'Yunnan',\n",
       " 174: 'New Zealand',\n",
       " 175: 'Ukrainian',\n",
       " 176: 'Albanian',\n",
       " 177: 'Central Asian',\n",
       " 178: 'Polynesian',\n",
       " 179: 'Caucasian',\n",
       " 180: 'Uzbek',\n",
       " 181: 'Salvadoran',\n",
       " 182: 'Xinjiang',\n",
       " 183: 'Burmese',\n",
       " 184: 'Fujian',\n",
       " 185: 'Latvian',\n",
       " 186: 'Ranking_new',\n",
       " 187: 'Rest_in_City'}"
      ]
     },
     "execution_count": 75,
     "metadata": {},
     "output_type": "execute_result"
    }
   ],
   "source": [
    "column_code = {}\n",
    "counter = 0\n",
    "for column in data.columns:\n",
    "    counter += 1\n",
    "    column_code.setdefault(counter, column)\n",
    "column_code"
   ]
  },
  {
   "cell_type": "code",
   "execution_count": 76,
   "metadata": {},
   "outputs": [
    {
     "data": {
      "text/plain": [
       "<matplotlib.axes._subplots.AxesSubplot at 0x7f55f72f12e8>"
      ]
     },
     "execution_count": 76,
     "metadata": {},
     "output_type": "execute_result"
    },
    {
     "data": {
      "image/png": "[encoded data removed]",
      "text/plain": [
       "<Figure size 1080x720 with 2 Axes>"
      ]
     },
     "metadata": {
      "needs_background": "light"
     },
     "output_type": "display_data"
    }
   ],
   "source": [
    "sns.heatmap(data_train[data_train.columns[9:55]].drop(['Number_of_Reviews_isNAN',\n",
    "                                                       'Cuisine_Style_isNAN',\n",
    "                                                       'Style_count',\n",
    "                                                       'Reviews&date_isNAN',\n",
    "                                                       'Reviews date',\n",
    "                                                       'Reviews_count',\n",
    "                                                       'Number of Reviews New',\n",
    "                                                       'Number of Reviews City',\n",
    "                                                       'Number of Reviews Rest_id',\n",
    "                                                       'Reviews period',\n",
    "                                                       'Last Reviews',\n",
    "                                                       'City Code',\n",
    "                                                       'Price Range New'], axis = 1).corr(),)"
   ]
  },
  {
   "cell_type": "code",
   "execution_count": 77,
   "metadata": {},
   "outputs": [
    {
     "data": {
      "text/plain": [
       "<matplotlib.axes._subplots.AxesSubplot at 0x7f55f70c5080>"
      ]
     },
     "execution_count": 77,
     "metadata": {},
     "output_type": "execute_result"
    },
    {
     "data": {
      "image/png": "[encoded data removed]",
      "text/plain": [
       "<Figure size 1080x720 with 2 Axes>"
      ]
     },
     "metadata": {
      "needs_background": "light"
     },
     "output_type": "display_data"
    }
   ],
   "source": [
    "data_train_2 = data_train[data_train.columns[9:185]].drop(data_train.columns[10:59], axis = 1)\n",
    "sns.heatmap(data_train_2.corr(),)"
   ]
  },
  {
   "cell_type": "markdown",
   "metadata": {},
   "source": [
    "Две ощутимые корреляции рейтинга:\n",
    "- с нормализованным ранкингом - обратнопропорциональная\n",
    "- с количеством стилей кухонь - прямопропорциональная\n",
    "\n",
    "При этом линейной зависимости не наблюдается"
   ]
  },
  {
   "cell_type": "markdown",
   "metadata": {},
   "source": [
    "Вообще благодаря визуализации в этом датасете можно узнать много интересных фактов, например:\n",
    "* где больше Пицерий в Мадриде или Лондоне?\n",
    "* в каком городе кухня ресторанов более разнообразна?\n",
    "\n",
    "придумайте свои вопрос и найдите на него ответ в данных)"
   ]
  },
  {
   "cell_type": "markdown",
   "metadata": {},
   "source": [
    "# Data Preprocessing\n",
    "Теперь, для удобства и воспроизводимости кода, завернем всю обработку в одну большую функцию."
   ]
  },
  {
   "cell_type": "code",
   "execution_count": 78,
   "metadata": {},
   "outputs": [
    {
     "name": "stdout",
     "output_type": "stream",
     "text": [
      "<class 'pandas.core.frame.DataFrame'>\n",
      "RangeIndex: 50000 entries, 0 to 49999\n",
      "Data columns (total 11 columns):\n",
      "Restaurant_id        50000 non-null object\n",
      "City                 50000 non-null object\n",
      "Cuisine Style        38410 non-null object\n",
      "Ranking              50000 non-null float64\n",
      "Price Range          32639 non-null object\n",
      "Number of Reviews    46800 non-null float64\n",
      "Reviews              49998 non-null object\n",
      "URL_TA               50000 non-null object\n",
      "ID_TA                50000 non-null object\n",
      "sample               50000 non-null int64\n",
      "Rating               50000 non-null float64\n",
      "dtypes: float64(3), int64(1), object(7)\n",
      "memory usage: 4.2+ MB\n"
     ]
    }
   ],
   "source": [
    "# на всякий случай, заново подгружаем данные\n",
    "df_train = pd.read_csv(DATA_DIR+'/main_task.csv')\n",
    "df_test = pd.read_csv(DATA_DIR+'/kaggle_task.csv')\n",
    "df_train['sample'] = 1 # помечаем где у нас трейн\n",
    "df_test['sample'] = 0 # помечаем где у нас тест\n",
    "df_test['Rating'] = 0 # в тесте у нас нет значения Rating, мы его должны предсказать, по этому пока просто заполняем нулями\n",
    "\n",
    "data = df_test.append(df_train, sort=False).reset_index(drop=True) # объединяем\n",
    "data.info()"
   ]
  },
  {
   "cell_type": "code",
   "execution_count": 79,
   "metadata": {},
   "outputs": [],
   "source": [
    "def preproc_data(df_input):\n",
    "    '''includes several functions to pre-process the predictor data.'''\n",
    "    \n",
    "    df_output = df_input.copy()\n",
    "    \n",
    "    # ################### 1. Предобработка ############################################################## \n",
    "    # убираем не нужные для модели признаки\n",
    "    # df_output.drop(['Restaurant_id','ID_TA',], axis = 1, inplace=True)\n",
    "    \n",
    "    df_output['Cuisine Style'] = df_output['Cuisine Style'].dropna().apply(lambda x: x[2:-2].split(\"', '\"))\n",
    "    df_output['Cuisine Style'] = df_output['Cuisine Style'].fillna('1')\n",
    "    # подсчитываем количество Cuisine Style\n",
    "    df_output['Style_count'] = df_output['Cuisine Style'].apply(lambda x: len(x))\n",
    "    \n",
    "    # посчитаем сколько ресторанов в каждом городе\n",
    "    Rest_in_City = df_output.dropna().groupby(['City'])['Restaurant_id'].count()\n",
    "    df_output['Rest_in_City'] = df_output['City'].apply(lambda x: Rest_in_City[x])\n",
    "    \n",
    "    # посчитаем сколько разных кухонь предпочитают рестораны в каждом городе\n",
    "    Style_in_City = df_output.dropna().groupby(['City'])['Style_count'].count()\n",
    "    df_output['Style_in_City'] = df_output['City'].apply(lambda x: Style_in_City[x])\n",
    "    \n",
    "    # данные имеют структуру списка со вложенными списками, но тип - строки\n",
    "    # создаем функцию для замены пустых списков на NAN\n",
    "    def turn_to_none(cell):\n",
    "        if cell == '[[], []]' or cell == '[]':\n",
    "            cell = None\n",
    "        return cell\n",
    "    df_output['Reviews'] = df_output['Reviews'].apply(turn_to_none)\n",
    "    # превращаем данные в списки\n",
    "    df_output['Reviews'] = df_output['Reviews'].dropna().apply(lambda x: x[2:-2].split(\"], [\"))\n",
    "    # отделяем даты от ревью и превращаем данные в списки\n",
    "    df_output['Reviews date'] = df_output['Reviews'].dropna().apply(lambda x: x[1][1:-1].split(\"', '\"))\n",
    "    # превращаем данные в даты\n",
    "    df_output['Reviews date'] = df_output['Reviews date'].dropna().apply(lambda x: [pd.to_datetime(i) for i in x])\n",
    "    # отделяем ревью и превращаем данные в списки\n",
    "    df_output['Reviews'] = df_output['Reviews'].dropna().apply(lambda x: x[0][1:-1].split(\"', '\"))\n",
    "    \n",
    "    # производим замену на среднее количество отзывов по городу (лучшая корреляция из всех)\n",
    "    NoR_City = df_output.dropna().groupby(['City'])['Number of Reviews'].mean()\n",
    "    df_output['mean_NoR_City'] = df_output['City'].apply(lambda x: NoR_City[x])\n",
    "    df_output['Number of Reviews City'] = df_output['Number of Reviews']\n",
    "    df_output['Number of Reviews City'] = df_output['Number of Reviews City'].fillna(round(df_output['mean_NoR_City'], 0))\n",
    "    \n",
    "    # производим замену на среднее количество отзывов по ресторану\n",
    "    NoR_Rest_id = df_output.groupby(['Restaurant_id'])['Number of Reviews'].mean()\n",
    "    df_output['mean_NoR_Rest_id'] = df_output['Restaurant_id'].apply(lambda x: NoR_Rest_id[x])\n",
    "    df_output['Number of Reviews Rest_id'] = df_output['Number of Reviews']\n",
    "    df_output['Number of Reviews Rest_id'] = df_output['Number of Reviews Rest_id'].fillna(round(df_output['mean_NoR_Rest_id'], 0))\n",
    "    # дополним средними данными по городу\n",
    "    df_output['Number of Reviews Rest_id'] = df_output['Number of Reviews Rest_id'].fillna(round(df_output['mean_NoR_City'], 0))\n",
    "    \n",
    "    df_output = df_output.drop(['mean_NoR_City', 'mean_NoR_Rest_id'], axis = 1)\n",
    "    \n",
    "    # подсчитываем количество дней между ревью\n",
    "    def len_count(cell):\n",
    "        if len(cell) == 2:\n",
    "            cell = np.max(cell) - np.min(cell)\n",
    "        else:\n",
    "            cell = 0\n",
    "        return int(str(cell).split(' days ')[0])\n",
    "    df_output['Reviews period'] = df_output['Reviews date'].dropna().apply(len_count)\n",
    "    # подсчитываем количество дней с даты последнего ревью\n",
    "    df_output['Last Reviews'] = df_output['Reviews date'].dropna().apply(lambda x: int(str((CURRENT_DATE-np.max(x))).split(' days ')[0]))\n",
    "    # заменяем NAN\n",
    "    df_output['Reviews period'] = df_output['Reviews period'].fillna(-1)\n",
    "    df_output['Last Reviews'] = df_output['Last Reviews'].fillna(-1)\n",
    "    \n",
    "    # Ваша обработка 'Price Range'\n",
    "    price_dict = {'$': 1, '$$ - $$$': 2, '$$$$': 3}\n",
    "    df_output['Price Range New'] = df_output['Price Range']\n",
    "    df_output = df_output.replace({\"Price Range New\": price_dict})\n",
    "    # Price Range имеет прямую корреляцию с количеством представленных в ресторане кухонь и количеством ревью\n",
    "    # производим замену на среднее по этим параметрам\n",
    "    PrR = df_output.groupby(['Style_count', 'Number of Reviews Rest_id'])['Price Range New'].mean()\n",
    "    df_output['Sc_NRR'] = df_output['Style_count']&df_output['Number of Reviews Rest_id']\n",
    "    df_output['PrR'] = df_output['Sc_NRR'].apply(lambda x: PrR[x])\n",
    "    df_output['Price Range New'] = df_output['Price Range New'].fillna(round(df_output['PrR'], 0))\n",
    "    df_output = df_output.drop(['Sc_NRR', 'PrR'], axis = 1)\n",
    "    # можно было и просто на моду заменить...\n",
    "    df_output['Price Range'] = df_output['Price Range'].fillna('$$ - $$$')\n",
    "    \n",
    "    # для One-Hot Encoding в pandas есть готовая функция - get_dummies. Особенно радует параметр dummy_na\n",
    "    df_output['City Name'] = df_output['City']\n",
    "    df_output = pd.get_dummies(df_output, columns=[ 'City Name',], dummy_na=True)\n",
    "    df_output = pd.get_dummies(df_output, columns=[ 'Price Range',], dummy_na=True)\n",
    "    \n",
    "    style_list = []\n",
    "    for cuisine in df_output['Cuisine Style']:\n",
    "        for style in cuisine:\n",
    "            if not(style in style_list):\n",
    "                style_list.append(style)\n",
    "    def find_item(cell):\n",
    "        if item in cell:\n",
    "            return 1\n",
    "        return 0\n",
    "    for item in style_list:\n",
    "        df_output[item] = df_output['Cuisine Style'].apply(find_item)\n",
    "    \n",
    "    # не получилось применить нормализацию - не поняла как это сделать в рамках отдельного города - сделала руками\n",
    "    city_list = []\n",
    "    for city in df_output['City']:\n",
    "        if not(city in city_list):\n",
    "            city_list.append(city)\n",
    "    city_x_min = {}\n",
    "    city_x_max = {}\n",
    "    x_min = 0\n",
    "    x_max = 0\n",
    "    for city in city_list:\n",
    "        x_min = np.min(df_output['Ranking'][df_output['City'] == city])\n",
    "        x_max = np.max(df_output['Ranking'][df_output['City'] == city])\n",
    "        city_x_min.setdefault(city, x_min)\n",
    "        city_x_max.setdefault(city, x_max)\n",
    "    df_output['city_x_min'] = df_output['City'].apply(lambda x: city_x_min[x])\n",
    "    df_output['city_x_max'] = df_output['City'].apply(lambda x: city_x_max[x])\n",
    "    df_output['Ranking_new'] = round((df_output['Ranking'] - df_output['city_x_min'])/(df_output['city_x_max'] - df_output['city_x_min']), 5)\n",
    "    df_output = df_output.drop(['city_x_min', 'city_x_max'], axis = 1)\n",
    "    \n",
    "    \n",
    "    # ################### 5. Clean #################################################### \n",
    "    # убираем признаки которые еще не успели обработать, \n",
    "    # модель на признаках с dtypes \"object\" обучаться не будет, просто выберим их и удалим\n",
    "    object_columns = [s for s in df_output.columns if df_output[s].dtypes == 'object']\n",
    "    df_output.drop(object_columns, axis = 1, inplace=True)\n",
    "    \n",
    "    return df_output"
   ]
  },
  {
   "cell_type": "markdown",
   "metadata": {},
   "source": [
    ">По хорошему, можно было бы перевести эту большую функцию в класс и разбить на подфункции (согласно ООП). "
   ]
  },
  {
   "cell_type": "markdown",
   "metadata": {},
   "source": [
    "#### Запускаем и проверяем что получилось"
   ]
  },
  {
   "cell_type": "code",
   "execution_count": 80,
   "metadata": {},
   "outputs": [
    {
     "data": {
      "text/html": [
       "<div>\n",
       "<style scoped>\n",
       "    .dataframe tbody tr th:only-of-type {\n",
       "        vertical-align: middle;\n",
       "    }\n",
       "\n",
       "    .dataframe tbody tr th {\n",
       "        vertical-align: top;\n",
       "    }\n",
       "\n",
       "    .dataframe thead th {\n",
       "        text-align: right;\n",
       "    }\n",
       "</style>\n",
       "<table border=\"1\" class=\"dataframe\">\n",
       "  <thead>\n",
       "    <tr style=\"text-align: right;\">\n",
       "      <th></th>\n",
       "      <th>sample</th>\n",
       "      <th>Rating</th>\n",
       "      <th>Style_count</th>\n",
       "      <th>Rest_in_City</th>\n",
       "      <th>Style_in_City</th>\n",
       "      <th>Number of Reviews City</th>\n",
       "      <th>Number of Reviews Rest_id</th>\n",
       "      <th>Reviews period</th>\n",
       "      <th>Last Reviews</th>\n",
       "      <th>Price Range New</th>\n",
       "      <th>...</th>\n",
       "      <th>Central Asian</th>\n",
       "      <th>Polynesian</th>\n",
       "      <th>Caucasian</th>\n",
       "      <th>Uzbek</th>\n",
       "      <th>Salvadoran</th>\n",
       "      <th>Xinjiang</th>\n",
       "      <th>Burmese</th>\n",
       "      <th>Fujian</th>\n",
       "      <th>Latvian</th>\n",
       "      <th>Ranking_new</th>\n",
       "    </tr>\n",
       "  </thead>\n",
       "  <tbody>\n",
       "    <tr>\n",
       "      <th>23951</th>\n",
       "      <td>1</td>\n",
       "      <td>3.5</td>\n",
       "      <td>1</td>\n",
       "      <td>1606</td>\n",
       "      <td>1606</td>\n",
       "      <td>18.0</td>\n",
       "      <td>18.0</td>\n",
       "      <td>62.0</td>\n",
       "      <td>2339.0</td>\n",
       "      <td>2.0</td>\n",
       "      <td>...</td>\n",
       "      <td>0</td>\n",
       "      <td>0</td>\n",
       "      <td>0</td>\n",
       "      <td>0</td>\n",
       "      <td>0</td>\n",
       "      <td>0</td>\n",
       "      <td>0</td>\n",
       "      <td>0</td>\n",
       "      <td>0</td>\n",
       "      <td>0.81049</td>\n",
       "    </tr>\n",
       "    <tr>\n",
       "      <th>48322</th>\n",
       "      <td>1</td>\n",
       "      <td>4.5</td>\n",
       "      <td>6</td>\n",
       "      <td>5124</td>\n",
       "      <td>5124</td>\n",
       "      <td>67.0</td>\n",
       "      <td>67.0</td>\n",
       "      <td>29.0</td>\n",
       "      <td>1042.0</td>\n",
       "      <td>2.0</td>\n",
       "      <td>...</td>\n",
       "      <td>0</td>\n",
       "      <td>0</td>\n",
       "      <td>0</td>\n",
       "      <td>0</td>\n",
       "      <td>0</td>\n",
       "      <td>0</td>\n",
       "      <td>0</td>\n",
       "      <td>0</td>\n",
       "      <td>0</td>\n",
       "      <td>0.20045</td>\n",
       "    </tr>\n",
       "    <tr>\n",
       "      <th>14996</th>\n",
       "      <td>1</td>\n",
       "      <td>4.5</td>\n",
       "      <td>4</td>\n",
       "      <td>590</td>\n",
       "      <td>590</td>\n",
       "      <td>23.0</td>\n",
       "      <td>23.0</td>\n",
       "      <td>22.0</td>\n",
       "      <td>1005.0</td>\n",
       "      <td>1.0</td>\n",
       "      <td>...</td>\n",
       "      <td>0</td>\n",
       "      <td>0</td>\n",
       "      <td>0</td>\n",
       "      <td>0</td>\n",
       "      <td>0</td>\n",
       "      <td>0</td>\n",
       "      <td>0</td>\n",
       "      <td>0</td>\n",
       "      <td>0</td>\n",
       "      <td>0.17899</td>\n",
       "    </tr>\n",
       "    <tr>\n",
       "      <th>7255</th>\n",
       "      <td>0</td>\n",
       "      <td>0.0</td>\n",
       "      <td>3</td>\n",
       "      <td>332</td>\n",
       "      <td>332</td>\n",
       "      <td>150.0</td>\n",
       "      <td>150.0</td>\n",
       "      <td>47.0</td>\n",
       "      <td>1087.0</td>\n",
       "      <td>2.0</td>\n",
       "      <td>...</td>\n",
       "      <td>0</td>\n",
       "      <td>0</td>\n",
       "      <td>0</td>\n",
       "      <td>0</td>\n",
       "      <td>0</td>\n",
       "      <td>0</td>\n",
       "      <td>0</td>\n",
       "      <td>0</td>\n",
       "      <td>0</td>\n",
       "      <td>0.17254</td>\n",
       "    </tr>\n",
       "    <tr>\n",
       "      <th>12581</th>\n",
       "      <td>1</td>\n",
       "      <td>4.5</td>\n",
       "      <td>4</td>\n",
       "      <td>5124</td>\n",
       "      <td>5124</td>\n",
       "      <td>22.0</td>\n",
       "      <td>22.0</td>\n",
       "      <td>24.0</td>\n",
       "      <td>1173.0</td>\n",
       "      <td>2.0</td>\n",
       "      <td>...</td>\n",
       "      <td>0</td>\n",
       "      <td>0</td>\n",
       "      <td>0</td>\n",
       "      <td>0</td>\n",
       "      <td>0</td>\n",
       "      <td>0</td>\n",
       "      <td>0</td>\n",
       "      <td>0</td>\n",
       "      <td>0</td>\n",
       "      <td>0.41416</td>\n",
       "    </tr>\n",
       "    <tr>\n",
       "      <th>14281</th>\n",
       "      <td>1</td>\n",
       "      <td>4.0</td>\n",
       "      <td>4</td>\n",
       "      <td>465</td>\n",
       "      <td>465</td>\n",
       "      <td>77.0</td>\n",
       "      <td>77.0</td>\n",
       "      <td>92.0</td>\n",
       "      <td>1113.0</td>\n",
       "      <td>2.0</td>\n",
       "      <td>...</td>\n",
       "      <td>0</td>\n",
       "      <td>0</td>\n",
       "      <td>0</td>\n",
       "      <td>0</td>\n",
       "      <td>0</td>\n",
       "      <td>0</td>\n",
       "      <td>0</td>\n",
       "      <td>0</td>\n",
       "      <td>0</td>\n",
       "      <td>0.42464</td>\n",
       "    </tr>\n",
       "    <tr>\n",
       "      <th>36523</th>\n",
       "      <td>1</td>\n",
       "      <td>4.5</td>\n",
       "      <td>6</td>\n",
       "      <td>5124</td>\n",
       "      <td>5124</td>\n",
       "      <td>28.0</td>\n",
       "      <td>28.0</td>\n",
       "      <td>1.0</td>\n",
       "      <td>1009.0</td>\n",
       "      <td>3.0</td>\n",
       "      <td>...</td>\n",
       "      <td>0</td>\n",
       "      <td>0</td>\n",
       "      <td>0</td>\n",
       "      <td>0</td>\n",
       "      <td>0</td>\n",
       "      <td>0</td>\n",
       "      <td>0</td>\n",
       "      <td>0</td>\n",
       "      <td>0</td>\n",
       "      <td>0.20884</td>\n",
       "    </tr>\n",
       "    <tr>\n",
       "      <th>8493</th>\n",
       "      <td>0</td>\n",
       "      <td>0.0</td>\n",
       "      <td>7</td>\n",
       "      <td>5124</td>\n",
       "      <td>5124</td>\n",
       "      <td>181.0</td>\n",
       "      <td>181.0</td>\n",
       "      <td>151.0</td>\n",
       "      <td>1033.0</td>\n",
       "      <td>2.0</td>\n",
       "      <td>...</td>\n",
       "      <td>0</td>\n",
       "      <td>0</td>\n",
       "      <td>0</td>\n",
       "      <td>0</td>\n",
       "      <td>0</td>\n",
       "      <td>0</td>\n",
       "      <td>0</td>\n",
       "      <td>0</td>\n",
       "      <td>0</td>\n",
       "      <td>0.19589</td>\n",
       "    </tr>\n",
       "    <tr>\n",
       "      <th>49063</th>\n",
       "      <td>1</td>\n",
       "      <td>4.0</td>\n",
       "      <td>3</td>\n",
       "      <td>1412</td>\n",
       "      <td>1412</td>\n",
       "      <td>26.0</td>\n",
       "      <td>26.0</td>\n",
       "      <td>56.0</td>\n",
       "      <td>1200.0</td>\n",
       "      <td>1.0</td>\n",
       "      <td>...</td>\n",
       "      <td>0</td>\n",
       "      <td>0</td>\n",
       "      <td>0</td>\n",
       "      <td>0</td>\n",
       "      <td>0</td>\n",
       "      <td>0</td>\n",
       "      <td>0</td>\n",
       "      <td>0</td>\n",
       "      <td>0</td>\n",
       "      <td>0.62983</td>\n",
       "    </tr>\n",
       "    <tr>\n",
       "      <th>40255</th>\n",
       "      <td>1</td>\n",
       "      <td>4.5</td>\n",
       "      <td>4</td>\n",
       "      <td>597</td>\n",
       "      <td>597</td>\n",
       "      <td>5.0</td>\n",
       "      <td>5.0</td>\n",
       "      <td>37.0</td>\n",
       "      <td>1232.0</td>\n",
       "      <td>1.0</td>\n",
       "      <td>...</td>\n",
       "      <td>0</td>\n",
       "      <td>0</td>\n",
       "      <td>0</td>\n",
       "      <td>0</td>\n",
       "      <td>0</td>\n",
       "      <td>0</td>\n",
       "      <td>0</td>\n",
       "      <td>0</td>\n",
       "      <td>0</td>\n",
       "      <td>0.66289</td>\n",
       "    </tr>\n",
       "  </tbody>\n",
       "</table>\n",
       "<p>10 rows × 173 columns</p>\n",
       "</div>"
      ],
      "text/plain": [
       "       sample  Rating  Style_count  Rest_in_City  Style_in_City  \\\n",
       "23951       1     3.5            1          1606           1606   \n",
       "48322       1     4.5            6          5124           5124   \n",
       "14996       1     4.5            4           590            590   \n",
       "7255        0     0.0            3           332            332   \n",
       "12581       1     4.5            4          5124           5124   \n",
       "14281       1     4.0            4           465            465   \n",
       "36523       1     4.5            6          5124           5124   \n",
       "8493        0     0.0            7          5124           5124   \n",
       "49063       1     4.0            3          1412           1412   \n",
       "40255       1     4.5            4           597            597   \n",
       "\n",
       "       Number of Reviews City  Number of Reviews Rest_id  Reviews period  \\\n",
       "23951                    18.0                       18.0            62.0   \n",
       "48322                    67.0                       67.0            29.0   \n",
       "14996                    23.0                       23.0            22.0   \n",
       "7255                    150.0                      150.0            47.0   \n",
       "12581                    22.0                       22.0            24.0   \n",
       "14281                    77.0                       77.0            92.0   \n",
       "36523                    28.0                       28.0             1.0   \n",
       "8493                    181.0                      181.0           151.0   \n",
       "49063                    26.0                       26.0            56.0   \n",
       "40255                     5.0                        5.0            37.0   \n",
       "\n",
       "       Last Reviews  Price Range New  ...  Central Asian  Polynesian  \\\n",
       "23951        2339.0              2.0  ...              0           0   \n",
       "48322        1042.0              2.0  ...              0           0   \n",
       "14996        1005.0              1.0  ...              0           0   \n",
       "7255         1087.0              2.0  ...              0           0   \n",
       "12581        1173.0              2.0  ...              0           0   \n",
       "14281        1113.0              2.0  ...              0           0   \n",
       "36523        1009.0              3.0  ...              0           0   \n",
       "8493         1033.0              2.0  ...              0           0   \n",
       "49063        1200.0              1.0  ...              0           0   \n",
       "40255        1232.0              1.0  ...              0           0   \n",
       "\n",
       "       Caucasian  Uzbek  Salvadoran  Xinjiang  Burmese  Fujian  Latvian  \\\n",
       "23951          0      0           0         0        0       0        0   \n",
       "48322          0      0           0         0        0       0        0   \n",
       "14996          0      0           0         0        0       0        0   \n",
       "7255           0      0           0         0        0       0        0   \n",
       "12581          0      0           0         0        0       0        0   \n",
       "14281          0      0           0         0        0       0        0   \n",
       "36523          0      0           0         0        0       0        0   \n",
       "8493           0      0           0         0        0       0        0   \n",
       "49063          0      0           0         0        0       0        0   \n",
       "40255          0      0           0         0        0       0        0   \n",
       "\n",
       "       Ranking_new  \n",
       "23951      0.81049  \n",
       "48322      0.20045  \n",
       "14996      0.17899  \n",
       "7255       0.17254  \n",
       "12581      0.41416  \n",
       "14281      0.42464  \n",
       "36523      0.20884  \n",
       "8493       0.19589  \n",
       "49063      0.62983  \n",
       "40255      0.66289  \n",
       "\n",
       "[10 rows x 173 columns]"
      ]
     },
     "execution_count": 80,
     "metadata": {},
     "output_type": "execute_result"
    }
   ],
   "source": [
    "df_preproc = preproc_data(data)\n",
    "df_preproc = df_preproc.drop(['Number of Reviews', 'Ranking'], axis = 1)\n",
    "df_preproc.sample(10)"
   ]
  },
  {
   "cell_type": "code",
   "execution_count": 81,
   "metadata": {},
   "outputs": [
    {
     "data": {
      "text/plain": [
       "{1: 'sample',\n",
       " 2: 'Rating',\n",
       " 3: 'Style_count',\n",
       " 4: 'Rest_in_City',\n",
       " 5: 'Style_in_City',\n",
       " 6: 'Number of Reviews City',\n",
       " 7: 'Number of Reviews Rest_id',\n",
       " 8: 'Reviews period',\n",
       " 9: 'Last Reviews',\n",
       " 10: 'Price Range New',\n",
       " 11: 'City Name_Amsterdam',\n",
       " 12: 'City Name_Athens',\n",
       " 13: 'City Name_Barcelona',\n",
       " 14: 'City Name_Berlin',\n",
       " 15: 'City Name_Bratislava',\n",
       " 16: 'City Name_Brussels',\n",
       " 17: 'City Name_Budapest',\n",
       " 18: 'City Name_Copenhagen',\n",
       " 19: 'City Name_Dublin',\n",
       " 20: 'City Name_Edinburgh',\n",
       " 21: 'City Name_Geneva',\n",
       " 22: 'City Name_Hamburg',\n",
       " 23: 'City Name_Helsinki',\n",
       " 24: 'City Name_Krakow',\n",
       " 25: 'City Name_Lisbon',\n",
       " 26: 'City Name_Ljubljana',\n",
       " 27: 'City Name_London',\n",
       " 28: 'City Name_Luxembourg',\n",
       " 29: 'City Name_Lyon',\n",
       " 30: 'City Name_Madrid',\n",
       " 31: 'City Name_Milan',\n",
       " 32: 'City Name_Munich',\n",
       " 33: 'City Name_Oporto',\n",
       " 34: 'City Name_Oslo',\n",
       " 35: 'City Name_Paris',\n",
       " 36: 'City Name_Prague',\n",
       " 37: 'City Name_Rome',\n",
       " 38: 'City Name_Stockholm',\n",
       " 39: 'City Name_Vienna',\n",
       " 40: 'City Name_Warsaw',\n",
       " 41: 'City Name_Zurich',\n",
       " 42: 'City Name_nan',\n",
       " 43: 'Price Range_$',\n",
       " 44: 'Price Range_$$ - $$$',\n",
       " 45: 'Price Range_$$$$',\n",
       " 46: 'Price Range_nan',\n",
       " 47: 'Bar',\n",
       " 48: 'Pub',\n",
       " 49: 'European',\n",
       " 50: 'Scandinavian',\n",
       " 51: 'Gluten Free Options',\n",
       " 52: 'Vegetarian Friendly',\n",
       " 53: 'Vegan Options',\n",
       " 54: 'Italian',\n",
       " 55: 'Mediterranean',\n",
       " 56: 'Seafood',\n",
       " 57: 'French',\n",
       " 58: 'Cafe',\n",
       " 59: 'Fast Food',\n",
       " 60: 'Portuguese',\n",
       " 61: '1',\n",
       " 62: 'Greek',\n",
       " 63: 'Czech',\n",
       " 64: 'Eastern European',\n",
       " 65: 'Central European',\n",
       " 66: 'Pizza',\n",
       " 67: 'British',\n",
       " 68: 'Spanish',\n",
       " 69: 'Norwegian',\n",
       " 70: 'African',\n",
       " 71: 'Moroccan',\n",
       " 72: 'Middle Eastern',\n",
       " 73: 'Halal',\n",
       " 74: 'Indian',\n",
       " 75: 'Thai',\n",
       " 76: 'Dutch',\n",
       " 77: 'Welsh',\n",
       " 78: 'American',\n",
       " 79: 'Steakhouse',\n",
       " 80: 'Soups',\n",
       " 81: 'Scottish',\n",
       " 82: 'Fusion',\n",
       " 83: 'Street Food',\n",
       " 84: 'Hungarian',\n",
       " 85: 'Asian',\n",
       " 86: 'Wine Bar',\n",
       " 87: 'Barbecue',\n",
       " 88: 'Central American',\n",
       " 89: 'Peruvian',\n",
       " 90: 'South American',\n",
       " 91: 'Irish',\n",
       " 92: 'Polish',\n",
       " 93: 'Vietnamese',\n",
       " 94: 'Lebanese',\n",
       " 95: 'Turkish',\n",
       " 96: 'Healthy',\n",
       " 97: 'Japanese',\n",
       " 98: 'Sushi',\n",
       " 99: 'Austrian',\n",
       " 100: 'Chinese',\n",
       " 101: 'Danish',\n",
       " 102: 'International',\n",
       " 103: 'Gastropub',\n",
       " 104: 'Korean',\n",
       " 105: 'German',\n",
       " 106: 'Contemporary',\n",
       " 107: 'Arabic',\n",
       " 108: 'Diner',\n",
       " 109: 'Swiss',\n",
       " 110: 'Swedish',\n",
       " 111: 'Persian',\n",
       " 112: 'Australian',\n",
       " 113: 'Grill',\n",
       " 114: 'Mexican',\n",
       " 115: 'Latin',\n",
       " 116: 'Belgian',\n",
       " 117: 'Argentinean',\n",
       " 118: 'Tunisian',\n",
       " 119: 'Russian',\n",
       " 120: 'Nepali',\n",
       " 121: 'Bangladeshi',\n",
       " 122: 'Colombian',\n",
       " 123: 'Sri Lankan',\n",
       " 124: 'Pakistani',\n",
       " 125: 'Brew Pub',\n",
       " 126: 'Israeli',\n",
       " 127: 'Brazilian',\n",
       " 128: 'Delicatessen',\n",
       " 129: 'Kosher',\n",
       " 130: 'Ethiopian',\n",
       " 131: 'Taiwanese',\n",
       " 132: 'Indonesian',\n",
       " 133: 'Malaysian',\n",
       " 134: 'Venezuelan',\n",
       " 135: 'Balti',\n",
       " 136: 'Armenian',\n",
       " 137: 'Slovenian',\n",
       " 138: 'Caribbean',\n",
       " 139: 'Jamaican',\n",
       " 140: 'Ecuadorean',\n",
       " 141: 'Chilean',\n",
       " 142: 'Hawaiian',\n",
       " 143: 'Minority Chinese',\n",
       " 144: 'Croatian',\n",
       " 145: 'Cambodian',\n",
       " 146: 'Afghani',\n",
       " 147: 'Tibetan',\n",
       " 148: 'Romanian',\n",
       " 149: 'Southwestern',\n",
       " 150: 'Mongolian',\n",
       " 151: 'Cajun & Creole',\n",
       " 152: 'Singaporean',\n",
       " 153: 'Filipino',\n",
       " 154: 'Cuban',\n",
       " 155: 'Native American',\n",
       " 156: 'Canadian',\n",
       " 157: 'Egyptian',\n",
       " 158: 'Azerbaijani',\n",
       " 159: 'Georgian',\n",
       " 160: 'Yunnan',\n",
       " 161: 'New Zealand',\n",
       " 162: 'Ukrainian',\n",
       " 163: 'Albanian',\n",
       " 164: 'Central Asian',\n",
       " 165: 'Polynesian',\n",
       " 166: 'Caucasian',\n",
       " 167: 'Uzbek',\n",
       " 168: 'Salvadoran',\n",
       " 169: 'Xinjiang',\n",
       " 170: 'Burmese',\n",
       " 171: 'Fujian',\n",
       " 172: 'Latvian',\n",
       " 173: 'Ranking_new'}"
      ]
     },
     "execution_count": 81,
     "metadata": {},
     "output_type": "execute_result"
    }
   ],
   "source": [
    "column_code = {}\n",
    "counter = 0\n",
    "for column in df_preproc.columns:\n",
    "    counter += 1\n",
    "    column_code.setdefault(counter, column)\n",
    "column_code"
   ]
  },
  {
   "cell_type": "code",
   "execution_count": 82,
   "metadata": {},
   "outputs": [
    {
     "name": "stdout",
     "output_type": "stream",
     "text": [
      "<class 'pandas.core.frame.DataFrame'>\n",
      "RangeIndex: 50000 entries, 0 to 49999\n",
      "Columns: 173 entries, sample to Ranking_new\n",
      "dtypes: float64(7), int64(130), uint8(36)\n",
      "memory usage: 54.0 MB\n"
     ]
    }
   ],
   "source": [
    "df_preproc.info()"
   ]
  },
  {
   "cell_type": "code",
   "execution_count": 83,
   "metadata": {},
   "outputs": [],
   "source": [
    "# Теперь выделим тестовую часть\n",
    "train_data = df_preproc.query('sample == 1').drop(['sample'], axis=1)\n",
    "test_data = df_preproc.query('sample == 0').drop(['sample'], axis=1)\n",
    "\n",
    "y = train_data.Rating.values            # наш таргет\n",
    "X = train_data.drop(['Rating'], axis=1)"
   ]
  },
  {
   "cell_type": "markdown",
   "metadata": {},
   "source": [
    "**Перед тем как отправлять наши данные на обучение, разделим данные на еще один тест и трейн, для валидации. \n",
    "Это поможет нам проверить, как хорошо наша модель работает, до отправки submissiona на kaggle.**"
   ]
  },
  {
   "cell_type": "code",
   "execution_count": 84,
   "metadata": {},
   "outputs": [],
   "source": [
    "# Воспользуемся специальной функцие train_test_split для разбивки тестовых данных\n",
    "# выделим 20% данных на валидацию (параметр test_size)\n",
    "X_train, X_test, y_train, y_test = train_test_split(X, y, test_size=0.2, random_state=RANDOM_SEED)"
   ]
  },
  {
   "cell_type": "code",
   "execution_count": 85,
   "metadata": {},
   "outputs": [
    {
     "data": {
      "text/plain": [
       "((10000, 172), (40000, 172), (40000, 171), (32000, 171), (8000, 171))"
      ]
     },
     "execution_count": 85,
     "metadata": {},
     "output_type": "execute_result"
    }
   ],
   "source": [
    "# проверяем\n",
    "test_data.shape, train_data.shape, X.shape, X_train.shape, X_test.shape"
   ]
  },
  {
   "cell_type": "markdown",
   "metadata": {},
   "source": [
    "# Model \n",
    "Сам ML"
   ]
  },
  {
   "cell_type": "code",
   "execution_count": 86,
   "metadata": {},
   "outputs": [],
   "source": [
    "# Импортируем необходимые библиотеки:\n",
    "from sklearn.ensemble import RandomForestRegressor # инструмент для создания и обучения модели\n",
    "from sklearn import metrics # инструменты для оценки точности модели"
   ]
  },
  {
   "cell_type": "code",
   "execution_count": 87,
   "metadata": {},
   "outputs": [],
   "source": [
    "# Создаём модель (НАСТРОЙКИ НЕ ТРОГАЕМ)\n",
    "model = RandomForestRegressor(n_estimators=100, verbose=1, n_jobs=-1, random_state=RANDOM_SEED)"
   ]
  },
  {
   "cell_type": "code",
   "execution_count": 88,
   "metadata": {},
   "outputs": [
    {
     "name": "stderr",
     "output_type": "stream",
     "text": [
      "[Parallel(n_jobs=-1)]: Using backend ThreadingBackend with 4 concurrent workers.\n",
      "[Parallel(n_jobs=-1)]: Done  42 tasks      | elapsed:    8.7s\n",
      "[Parallel(n_jobs=-1)]: Done 100 out of 100 | elapsed:   20.0s finished\n",
      "[Parallel(n_jobs=4)]: Using backend ThreadingBackend with 4 concurrent workers.\n",
      "[Parallel(n_jobs=4)]: Done  42 tasks      | elapsed:    0.0s\n",
      "[Parallel(n_jobs=4)]: Done 100 out of 100 | elapsed:    0.1s finished\n"
     ]
    }
   ],
   "source": [
    "# Обучаем модель на тестовом наборе данных\n",
    "model.fit(X_train, y_train)\n",
    "\n",
    "# Используем обученную модель для предсказания рейтинга ресторанов в тестовой выборке.\n",
    "# Предсказанные значения записываем в переменную y_pred\n",
    "y_pred = model.predict(X_test)"
   ]
  },
  {
   "cell_type": "code",
   "execution_count": 89,
   "metadata": {},
   "outputs": [
    {
     "name": "stdout",
     "output_type": "stream",
     "text": [
      "MAE: 0.20365625\n"
     ]
    }
   ],
   "source": [
    "# Сравниваем предсказанные значения (y_pred) с реальными (y_test), и смотрим насколько они в среднем отличаются\n",
    "# Метрика называется Mean Absolute Error (MAE) и показывает среднее отклонение предсказанных значений от фактических.\n",
    "print('MAE:', metrics.mean_absolute_error(y_test, y_pred))"
   ]
  },
  {
   "cell_type": "code",
   "execution_count": 90,
   "metadata": {},
   "outputs": [
    {
     "data": {
      "text/plain": [
       "<matplotlib.axes._subplots.AxesSubplot at 0x7f55e2a7a320>"
      ]
     },
     "execution_count": 90,
     "metadata": {},
     "output_type": "execute_result"
    },
    {
     "data": {
      "image/png": "[encoded data removed]",
      "text/plain": [
       "<Figure size 720x720 with 1 Axes>"
      ]
     },
     "metadata": {
      "needs_background": "light"
     },
     "output_type": "display_data"
    }
   ],
   "source": [
    "# в RandomForestRegressor есть возможность вывести самые важные признаки для модели\n",
    "plt.rcParams['figure.figsize'] = (10,10)\n",
    "feat_importances = pd.Series(model.feature_importances_, index=X.columns)\n",
    "feat_importances.nlargest(15).plot(kind='barh')"
   ]
  },
  {
   "cell_type": "markdown",
   "metadata": {},
   "source": [
    "# Submission\n",
    "Если все устраевает - готовим Submission на кагл"
   ]
  },
  {
   "cell_type": "code",
   "execution_count": 91,
   "metadata": {},
   "outputs": [
    {
     "data": {
      "text/html": [
       "<div>\n",
       "<style scoped>\n",
       "    .dataframe tbody tr th:only-of-type {\n",
       "        vertical-align: middle;\n",
       "    }\n",
       "\n",
       "    .dataframe tbody tr th {\n",
       "        vertical-align: top;\n",
       "    }\n",
       "\n",
       "    .dataframe thead th {\n",
       "        text-align: right;\n",
       "    }\n",
       "</style>\n",
       "<table border=\"1\" class=\"dataframe\">\n",
       "  <thead>\n",
       "    <tr style=\"text-align: right;\">\n",
       "      <th></th>\n",
       "      <th>Rating</th>\n",
       "      <th>Style_count</th>\n",
       "      <th>Rest_in_City</th>\n",
       "      <th>Style_in_City</th>\n",
       "      <th>Number of Reviews City</th>\n",
       "      <th>Number of Reviews Rest_id</th>\n",
       "      <th>Reviews period</th>\n",
       "      <th>Last Reviews</th>\n",
       "      <th>Price Range New</th>\n",
       "      <th>City Name_Amsterdam</th>\n",
       "      <th>...</th>\n",
       "      <th>Central Asian</th>\n",
       "      <th>Polynesian</th>\n",
       "      <th>Caucasian</th>\n",
       "      <th>Uzbek</th>\n",
       "      <th>Salvadoran</th>\n",
       "      <th>Xinjiang</th>\n",
       "      <th>Burmese</th>\n",
       "      <th>Fujian</th>\n",
       "      <th>Latvian</th>\n",
       "      <th>Ranking_new</th>\n",
       "    </tr>\n",
       "  </thead>\n",
       "  <tbody>\n",
       "    <tr>\n",
       "      <th>1948</th>\n",
       "      <td>0.0</td>\n",
       "      <td>5</td>\n",
       "      <td>1606</td>\n",
       "      <td>1606</td>\n",
       "      <td>13.0</td>\n",
       "      <td>13.0</td>\n",
       "      <td>-1.0</td>\n",
       "      <td>-1.0</td>\n",
       "      <td>2.0</td>\n",
       "      <td>0</td>\n",
       "      <td>...</td>\n",
       "      <td>0</td>\n",
       "      <td>0</td>\n",
       "      <td>0</td>\n",
       "      <td>0</td>\n",
       "      <td>0</td>\n",
       "      <td>0</td>\n",
       "      <td>0</td>\n",
       "      <td>0</td>\n",
       "      <td>0</td>\n",
       "      <td>0.79535</td>\n",
       "    </tr>\n",
       "    <tr>\n",
       "      <th>6323</th>\n",
       "      <td>0.0</td>\n",
       "      <td>1</td>\n",
       "      <td>2081</td>\n",
       "      <td>2081</td>\n",
       "      <td>181.0</td>\n",
       "      <td>15.0</td>\n",
       "      <td>-1.0</td>\n",
       "      <td>-1.0</td>\n",
       "      <td>1.0</td>\n",
       "      <td>0</td>\n",
       "      <td>...</td>\n",
       "      <td>0</td>\n",
       "      <td>0</td>\n",
       "      <td>0</td>\n",
       "      <td>0</td>\n",
       "      <td>0</td>\n",
       "      <td>0</td>\n",
       "      <td>0</td>\n",
       "      <td>0</td>\n",
       "      <td>0</td>\n",
       "      <td>0.67802</td>\n",
       "    </tr>\n",
       "    <tr>\n",
       "      <th>3056</th>\n",
       "      <td>0.0</td>\n",
       "      <td>1</td>\n",
       "      <td>2081</td>\n",
       "      <td>2081</td>\n",
       "      <td>2.0</td>\n",
       "      <td>2.0</td>\n",
       "      <td>-1.0</td>\n",
       "      <td>-1.0</td>\n",
       "      <td>2.0</td>\n",
       "      <td>0</td>\n",
       "      <td>...</td>\n",
       "      <td>0</td>\n",
       "      <td>0</td>\n",
       "      <td>0</td>\n",
       "      <td>0</td>\n",
       "      <td>0</td>\n",
       "      <td>0</td>\n",
       "      <td>0</td>\n",
       "      <td>0</td>\n",
       "      <td>0</td>\n",
       "      <td>0.67257</td>\n",
       "    </tr>\n",
       "    <tr>\n",
       "      <th>2296</th>\n",
       "      <td>0.0</td>\n",
       "      <td>1</td>\n",
       "      <td>4069</td>\n",
       "      <td>4069</td>\n",
       "      <td>8.0</td>\n",
       "      <td>8.0</td>\n",
       "      <td>0.0</td>\n",
       "      <td>2937.0</td>\n",
       "      <td>1.0</td>\n",
       "      <td>0</td>\n",
       "      <td>...</td>\n",
       "      <td>0</td>\n",
       "      <td>0</td>\n",
       "      <td>0</td>\n",
       "      <td>0</td>\n",
       "      <td>0</td>\n",
       "      <td>0</td>\n",
       "      <td>0</td>\n",
       "      <td>0</td>\n",
       "      <td>0</td>\n",
       "      <td>0.91204</td>\n",
       "    </tr>\n",
       "    <tr>\n",
       "      <th>9032</th>\n",
       "      <td>0.0</td>\n",
       "      <td>2</td>\n",
       "      <td>314</td>\n",
       "      <td>314</td>\n",
       "      <td>5.0</td>\n",
       "      <td>5.0</td>\n",
       "      <td>153.0</td>\n",
       "      <td>1828.0</td>\n",
       "      <td>2.0</td>\n",
       "      <td>0</td>\n",
       "      <td>...</td>\n",
       "      <td>0</td>\n",
       "      <td>0</td>\n",
       "      <td>0</td>\n",
       "      <td>0</td>\n",
       "      <td>0</td>\n",
       "      <td>0</td>\n",
       "      <td>0</td>\n",
       "      <td>0</td>\n",
       "      <td>0</td>\n",
       "      <td>0.71328</td>\n",
       "    </tr>\n",
       "    <tr>\n",
       "      <th>2983</th>\n",
       "      <td>0.0</td>\n",
       "      <td>1</td>\n",
       "      <td>4069</td>\n",
       "      <td>4069</td>\n",
       "      <td>169.0</td>\n",
       "      <td>95.0</td>\n",
       "      <td>0.0</td>\n",
       "      <td>1088.0</td>\n",
       "      <td>2.0</td>\n",
       "      <td>0</td>\n",
       "      <td>...</td>\n",
       "      <td>0</td>\n",
       "      <td>0</td>\n",
       "      <td>0</td>\n",
       "      <td>0</td>\n",
       "      <td>0</td>\n",
       "      <td>0</td>\n",
       "      <td>0</td>\n",
       "      <td>0</td>\n",
       "      <td>0</td>\n",
       "      <td>0.90374</td>\n",
       "    </tr>\n",
       "    <tr>\n",
       "      <th>6720</th>\n",
       "      <td>0.0</td>\n",
       "      <td>1</td>\n",
       "      <td>4069</td>\n",
       "      <td>4069</td>\n",
       "      <td>34.0</td>\n",
       "      <td>34.0</td>\n",
       "      <td>0.0</td>\n",
       "      <td>1274.0</td>\n",
       "      <td>1.0</td>\n",
       "      <td>0</td>\n",
       "      <td>...</td>\n",
       "      <td>0</td>\n",
       "      <td>0</td>\n",
       "      <td>0</td>\n",
       "      <td>0</td>\n",
       "      <td>0</td>\n",
       "      <td>0</td>\n",
       "      <td>0</td>\n",
       "      <td>0</td>\n",
       "      <td>0</td>\n",
       "      <td>0.36516</td>\n",
       "    </tr>\n",
       "    <tr>\n",
       "      <th>2134</th>\n",
       "      <td>0.0</td>\n",
       "      <td>1</td>\n",
       "      <td>4069</td>\n",
       "      <td>4069</td>\n",
       "      <td>2.0</td>\n",
       "      <td>2.0</td>\n",
       "      <td>-1.0</td>\n",
       "      <td>-1.0</td>\n",
       "      <td>2.0</td>\n",
       "      <td>0</td>\n",
       "      <td>...</td>\n",
       "      <td>0</td>\n",
       "      <td>0</td>\n",
       "      <td>0</td>\n",
       "      <td>0</td>\n",
       "      <td>0</td>\n",
       "      <td>0</td>\n",
       "      <td>0</td>\n",
       "      <td>0</td>\n",
       "      <td>0</td>\n",
       "      <td>0.59594</td>\n",
       "    </tr>\n",
       "    <tr>\n",
       "      <th>7792</th>\n",
       "      <td>0.0</td>\n",
       "      <td>2</td>\n",
       "      <td>2081</td>\n",
       "      <td>2081</td>\n",
       "      <td>7.0</td>\n",
       "      <td>7.0</td>\n",
       "      <td>-1.0</td>\n",
       "      <td>-1.0</td>\n",
       "      <td>2.0</td>\n",
       "      <td>0</td>\n",
       "      <td>...</td>\n",
       "      <td>0</td>\n",
       "      <td>0</td>\n",
       "      <td>0</td>\n",
       "      <td>0</td>\n",
       "      <td>0</td>\n",
       "      <td>0</td>\n",
       "      <td>0</td>\n",
       "      <td>0</td>\n",
       "      <td>0</td>\n",
       "      <td>0.59764</td>\n",
       "    </tr>\n",
       "    <tr>\n",
       "      <th>3853</th>\n",
       "      <td>0.0</td>\n",
       "      <td>2</td>\n",
       "      <td>2081</td>\n",
       "      <td>2081</td>\n",
       "      <td>55.0</td>\n",
       "      <td>55.0</td>\n",
       "      <td>0.0</td>\n",
       "      <td>1897.0</td>\n",
       "      <td>2.0</td>\n",
       "      <td>0</td>\n",
       "      <td>...</td>\n",
       "      <td>0</td>\n",
       "      <td>0</td>\n",
       "      <td>0</td>\n",
       "      <td>0</td>\n",
       "      <td>0</td>\n",
       "      <td>0</td>\n",
       "      <td>0</td>\n",
       "      <td>0</td>\n",
       "      <td>0</td>\n",
       "      <td>0.68619</td>\n",
       "    </tr>\n",
       "  </tbody>\n",
       "</table>\n",
       "<p>10 rows × 172 columns</p>\n",
       "</div>"
      ],
      "text/plain": [
       "      Rating  Style_count  Rest_in_City  Style_in_City  \\\n",
       "1948     0.0            5          1606           1606   \n",
       "6323     0.0            1          2081           2081   \n",
       "3056     0.0            1          2081           2081   \n",
       "2296     0.0            1          4069           4069   \n",
       "9032     0.0            2           314            314   \n",
       "2983     0.0            1          4069           4069   \n",
       "6720     0.0            1          4069           4069   \n",
       "2134     0.0            1          4069           4069   \n",
       "7792     0.0            2          2081           2081   \n",
       "3853     0.0            2          2081           2081   \n",
       "\n",
       "      Number of Reviews City  Number of Reviews Rest_id  Reviews period  \\\n",
       "1948                    13.0                       13.0            -1.0   \n",
       "6323                   181.0                       15.0            -1.0   \n",
       "3056                     2.0                        2.0            -1.0   \n",
       "2296                     8.0                        8.0             0.0   \n",
       "9032                     5.0                        5.0           153.0   \n",
       "2983                   169.0                       95.0             0.0   \n",
       "6720                    34.0                       34.0             0.0   \n",
       "2134                     2.0                        2.0            -1.0   \n",
       "7792                     7.0                        7.0            -1.0   \n",
       "3853                    55.0                       55.0             0.0   \n",
       "\n",
       "      Last Reviews  Price Range New  City Name_Amsterdam  ...  Central Asian  \\\n",
       "1948          -1.0              2.0                    0  ...              0   \n",
       "6323          -1.0              1.0                    0  ...              0   \n",
       "3056          -1.0              2.0                    0  ...              0   \n",
       "2296        2937.0              1.0                    0  ...              0   \n",
       "9032        1828.0              2.0                    0  ...              0   \n",
       "2983        1088.0              2.0                    0  ...              0   \n",
       "6720        1274.0              1.0                    0  ...              0   \n",
       "2134          -1.0              2.0                    0  ...              0   \n",
       "7792          -1.0              2.0                    0  ...              0   \n",
       "3853        1897.0              2.0                    0  ...              0   \n",
       "\n",
       "      Polynesian  Caucasian  Uzbek  Salvadoran  Xinjiang  Burmese  Fujian  \\\n",
       "1948           0          0      0           0         0        0       0   \n",
       "6323           0          0      0           0         0        0       0   \n",
       "3056           0          0      0           0         0        0       0   \n",
       "2296           0          0      0           0         0        0       0   \n",
       "9032           0          0      0           0         0        0       0   \n",
       "2983           0          0      0           0         0        0       0   \n",
       "6720           0          0      0           0         0        0       0   \n",
       "2134           0          0      0           0         0        0       0   \n",
       "7792           0          0      0           0         0        0       0   \n",
       "3853           0          0      0           0         0        0       0   \n",
       "\n",
       "      Latvian  Ranking_new  \n",
       "1948        0      0.79535  \n",
       "6323        0      0.67802  \n",
       "3056        0      0.67257  \n",
       "2296        0      0.91204  \n",
       "9032        0      0.71328  \n",
       "2983        0      0.90374  \n",
       "6720        0      0.36516  \n",
       "2134        0      0.59594  \n",
       "7792        0      0.59764  \n",
       "3853        0      0.68619  \n",
       "\n",
       "[10 rows x 172 columns]"
      ]
     },
     "execution_count": 91,
     "metadata": {},
     "output_type": "execute_result"
    }
   ],
   "source": [
    "test_data.sample(10)"
   ]
  },
  {
   "cell_type": "code",
   "execution_count": 92,
   "metadata": {},
   "outputs": [],
   "source": [
    "test_data = test_data.drop(['Rating'], axis=1)"
   ]
  },
  {
   "cell_type": "code",
   "execution_count": 93,
   "metadata": {},
   "outputs": [
    {
     "data": {
      "text/html": [
       "<div>\n",
       "<style scoped>\n",
       "    .dataframe tbody tr th:only-of-type {\n",
       "        vertical-align: middle;\n",
       "    }\n",
       "\n",
       "    .dataframe tbody tr th {\n",
       "        vertical-align: top;\n",
       "    }\n",
       "\n",
       "    .dataframe thead th {\n",
       "        text-align: right;\n",
       "    }\n",
       "</style>\n",
       "<table border=\"1\" class=\"dataframe\">\n",
       "  <thead>\n",
       "    <tr style=\"text-align: right;\">\n",
       "      <th></th>\n",
       "      <th>Restaurant_id</th>\n",
       "      <th>Rating</th>\n",
       "    </tr>\n",
       "  </thead>\n",
       "  <tbody>\n",
       "    <tr>\n",
       "      <th>0</th>\n",
       "      <td>id_0</td>\n",
       "      <td>2.0</td>\n",
       "    </tr>\n",
       "    <tr>\n",
       "      <th>1</th>\n",
       "      <td>id_1</td>\n",
       "      <td>2.5</td>\n",
       "    </tr>\n",
       "    <tr>\n",
       "      <th>2</th>\n",
       "      <td>id_2</td>\n",
       "      <td>4.0</td>\n",
       "    </tr>\n",
       "    <tr>\n",
       "      <th>3</th>\n",
       "      <td>id_3</td>\n",
       "      <td>1.0</td>\n",
       "    </tr>\n",
       "    <tr>\n",
       "      <th>4</th>\n",
       "      <td>id_4</td>\n",
       "      <td>4.0</td>\n",
       "    </tr>\n",
       "    <tr>\n",
       "      <th>...</th>\n",
       "      <td>...</td>\n",
       "      <td>...</td>\n",
       "    </tr>\n",
       "    <tr>\n",
       "      <th>9995</th>\n",
       "      <td>id_9995</td>\n",
       "      <td>3.0</td>\n",
       "    </tr>\n",
       "    <tr>\n",
       "      <th>9996</th>\n",
       "      <td>id_9996</td>\n",
       "      <td>1.5</td>\n",
       "    </tr>\n",
       "    <tr>\n",
       "      <th>9997</th>\n",
       "      <td>id_9997</td>\n",
       "      <td>4.5</td>\n",
       "    </tr>\n",
       "    <tr>\n",
       "      <th>9998</th>\n",
       "      <td>id_9998</td>\n",
       "      <td>1.0</td>\n",
       "    </tr>\n",
       "    <tr>\n",
       "      <th>9999</th>\n",
       "      <td>id_9999</td>\n",
       "      <td>2.5</td>\n",
       "    </tr>\n",
       "  </tbody>\n",
       "</table>\n",
       "<p>10000 rows × 2 columns</p>\n",
       "</div>"
      ],
      "text/plain": [
       "     Restaurant_id  Rating\n",
       "0             id_0     2.0\n",
       "1             id_1     2.5\n",
       "2             id_2     4.0\n",
       "3             id_3     1.0\n",
       "4             id_4     4.0\n",
       "...            ...     ...\n",
       "9995       id_9995     3.0\n",
       "9996       id_9996     1.5\n",
       "9997       id_9997     4.5\n",
       "9998       id_9998     1.0\n",
       "9999       id_9999     2.5\n",
       "\n",
       "[10000 rows x 2 columns]"
      ]
     },
     "execution_count": 93,
     "metadata": {},
     "output_type": "execute_result"
    }
   ],
   "source": [
    "sample_submission"
   ]
  },
  {
   "cell_type": "code",
   "execution_count": 94,
   "metadata": {},
   "outputs": [
    {
     "name": "stderr",
     "output_type": "stream",
     "text": [
      "[Parallel(n_jobs=4)]: Using backend ThreadingBackend with 4 concurrent workers.\n",
      "[Parallel(n_jobs=4)]: Done  42 tasks      | elapsed:    0.1s\n",
      "[Parallel(n_jobs=4)]: Done 100 out of 100 | elapsed:    0.2s finished\n"
     ]
    }
   ],
   "source": [
    "predict_submission = model.predict(test_data)"
   ]
  },
  {
   "cell_type": "code",
   "execution_count": 95,
   "metadata": {},
   "outputs": [
    {
     "data": {
      "text/plain": [
       "array([3.08 , 4.165, 4.475, ..., 3.085, 4.49 , 4.315])"
      ]
     },
     "execution_count": 95,
     "metadata": {},
     "output_type": "execute_result"
    }
   ],
   "source": [
    "predict_submission"
   ]
  },
  {
   "cell_type": "code",
   "execution_count": 96,
   "metadata": {},
   "outputs": [
    {
     "data": {
      "text/html": [
       "<div>\n",
       "<style scoped>\n",
       "    .dataframe tbody tr th:only-of-type {\n",
       "        vertical-align: middle;\n",
       "    }\n",
       "\n",
       "    .dataframe tbody tr th {\n",
       "        vertical-align: top;\n",
       "    }\n",
       "\n",
       "    .dataframe thead th {\n",
       "        text-align: right;\n",
       "    }\n",
       "</style>\n",
       "<table border=\"1\" class=\"dataframe\">\n",
       "  <thead>\n",
       "    <tr style=\"text-align: right;\">\n",
       "      <th></th>\n",
       "      <th>Restaurant_id</th>\n",
       "      <th>Rating</th>\n",
       "    </tr>\n",
       "  </thead>\n",
       "  <tbody>\n",
       "    <tr>\n",
       "      <th>0</th>\n",
       "      <td>id_0</td>\n",
       "      <td>3.080</td>\n",
       "    </tr>\n",
       "    <tr>\n",
       "      <th>1</th>\n",
       "      <td>id_1</td>\n",
       "      <td>4.165</td>\n",
       "    </tr>\n",
       "    <tr>\n",
       "      <th>2</th>\n",
       "      <td>id_2</td>\n",
       "      <td>4.475</td>\n",
       "    </tr>\n",
       "    <tr>\n",
       "      <th>3</th>\n",
       "      <td>id_3</td>\n",
       "      <td>4.370</td>\n",
       "    </tr>\n",
       "    <tr>\n",
       "      <th>4</th>\n",
       "      <td>id_4</td>\n",
       "      <td>4.475</td>\n",
       "    </tr>\n",
       "    <tr>\n",
       "      <th>5</th>\n",
       "      <td>id_5</td>\n",
       "      <td>4.420</td>\n",
       "    </tr>\n",
       "    <tr>\n",
       "      <th>6</th>\n",
       "      <td>id_6</td>\n",
       "      <td>2.535</td>\n",
       "    </tr>\n",
       "    <tr>\n",
       "      <th>7</th>\n",
       "      <td>id_7</td>\n",
       "      <td>2.725</td>\n",
       "    </tr>\n",
       "    <tr>\n",
       "      <th>8</th>\n",
       "      <td>id_8</td>\n",
       "      <td>4.250</td>\n",
       "    </tr>\n",
       "    <tr>\n",
       "      <th>9</th>\n",
       "      <td>id_9</td>\n",
       "      <td>4.660</td>\n",
       "    </tr>\n",
       "  </tbody>\n",
       "</table>\n",
       "</div>"
      ],
      "text/plain": [
       "  Restaurant_id  Rating\n",
       "0          id_0   3.080\n",
       "1          id_1   4.165\n",
       "2          id_2   4.475\n",
       "3          id_3   4.370\n",
       "4          id_4   4.475\n",
       "5          id_5   4.420\n",
       "6          id_6   2.535\n",
       "7          id_7   2.725\n",
       "8          id_8   4.250\n",
       "9          id_9   4.660"
      ]
     },
     "execution_count": 96,
     "metadata": {},
     "output_type": "execute_result"
    }
   ],
   "source": [
    "sample_submission['Rating'] = predict_submission\n",
    "sample_submission.to_csv('submission.csv', index=False)\n",
    "sample_submission.head(10)"
   ]
  },
  {
   "cell_type": "markdown",
   "metadata": {},
   "source": [
    "# What's next?\n",
    "Или что делать, чтоб улучшить результат:\n",
    "* Обработать оставшиеся признаки в понятный для машины формат\n",
    "* Посмотреть, что еще можно извлечь из признаков\n",
    "* Сгенерировать новые признаки\n",
    "* Подгрузить дополнительные данные, например: по населению или благосостоянию городов\n",
    "* Подобрать состав признаков\n",
    "\n",
    "В общем, процесс творческий и весьма увлекательный! Удачи в соревновании!\n"
   ]
  },
  {
   "cell_type": "code",
   "execution_count": null,
   "metadata": {},
   "outputs": [],
   "source": []
  }
 ],
 "metadata": {
  "kernelspec": {
   "display_name": "Python 3",
   "language": "python",
   "name": "python3"
  },
  "language_info": {
   "codemirror_mode": {
    "name": "ipython",
    "version": 3
   },
   "file_extension": ".py",
   "mimetype": "text/x-python",
   "name": "python",
   "nbconvert_exporter": "python",
   "pygments_lexer": "ipython3",
   "version": "3.6.6"
  }
 },
 "nbformat": 4,
 "nbformat_minor": 4
}
